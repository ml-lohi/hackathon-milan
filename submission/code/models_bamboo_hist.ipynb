{
 "cells": [
  {
   "cell_type": "markdown",
   "metadata": {},
   "source": [
    "# Simple CNN notebook"
   ]
  },
  {
   "cell_type": "markdown",
   "metadata": {},
   "source": [
    "## Import Libraries"
   ]
  },
  {
   "cell_type": "code",
   "execution_count": 1,
   "metadata": {},
   "outputs": [],
   "source": [
    "%matplotlib inline\n",
    "import numpy as np\n",
    "from utils.helper import read_data, blur, to_real, morphology\n",
    "import cv2\n",
    "import matplotlib.pyplot as plt\n",
    "from tensorflow import keras\n",
    "FOLDER = \"data/data_big/\""
   ]
  },
  {
   "cell_type": "markdown",
   "metadata": {},
   "source": [
    "## Load data"
   ]
  },
  {
   "cell_type": "code",
   "execution_count": 2,
   "metadata": {},
   "outputs": [
    {
     "name": "stdout",
     "output_type": "stream",
     "text": [
      "----------------Shapes----------------\n",
      "empty: (480, 5, 3, 64, 64)\n",
      "1p: (480, 5, 3, 64, 64)\n",
      "2p: (480, 5, 3, 64, 64)\n",
      "3p: (480, 5, 3, 64, 64)\n"
     ]
    }
   ],
   "source": [
    "data_empty = read_data(FOLDER + \"empty.csv\")\n",
    "data_1p = read_data(FOLDER + \"1p.csv\")\n",
    "data_2p = read_data(FOLDER + \"2p.csv\")\n",
    "data_3p = read_data(FOLDER + \"3p.csv\")\n",
    "print(\"----------------Shapes----------------\")\n",
    "print(\"empty:\", data_empty.shape)\n",
    "print(\"1p:\", data_1p.shape)\n",
    "print(\"2p:\", data_2p.shape)\n",
    "print(\"3p:\", data_3p.shape)"
   ]
  },
  {
   "cell_type": "code",
   "execution_count": 3,
   "metadata": {},
   "outputs": [
    {
     "name": "stdout",
     "output_type": "stream",
     "text": [
      "data_1p_reshaped: (240, 10, 3, 64, 64)\n",
      "data_2p_reshaped: (240, 10, 3, 64, 64)\n",
      "data_3p_reshaped: (240, 10, 3, 64, 64)\n",
      "data_empty_reshaped: (240, 10, 3, 64, 64)\n"
     ]
    }
   ],
   "source": [
    "data_1p_reshaped = data_1p.reshape(-1, 10,3,64,64)\n",
    "data_2p_reshaped = data_2p.reshape(-1,10,3,64,64)\n",
    "data_3p_reshaped = data_3p.reshape(-1,10,3,64,64)\n",
    "data_empty_reshaped = data_empty.reshape(-1,10,3,64,64)\n",
    "print(f\"data_1p_reshaped: {data_1p_reshaped.shape}\")\n",
    "print(f\"data_2p_reshaped: {data_2p_reshaped.shape}\")\n",
    "print(f\"data_3p_reshaped: {data_3p_reshaped.shape}\")\n",
    "print(f\"data_empty_reshaped: {data_empty_reshaped.shape}\")"
   ]
  },
  {
   "cell_type": "code",
   "execution_count": 4,
   "metadata": {},
   "outputs": [
    {
     "name": "stdout",
     "output_type": "stream",
     "text": [
      "data_empty_abs: (240, 10, 3, 64, 64)\n",
      "data_1p_abs: (240, 10, 3, 64, 64)\n",
      "data_2p_abs: (240, 10, 3, 64, 64)\n",
      "data_3p_abs: (240, 10, 3, 64, 64)\n"
     ]
    }
   ],
   "source": [
    "data_empty_abs = np.abs(data_empty_reshaped)\n",
    "data_1p_abs = np.abs(data_1p_reshaped)\n",
    "data_2p_abs = np.abs(data_2p_reshaped)\n",
    "data_3p_abs = np.abs(data_3p_reshaped)\n",
    "print(f\"data_empty_abs: {data_empty_abs.shape}\")\n",
    "print(f\"data_1p_abs: {data_1p_abs.shape}\")\n",
    "print(f\"data_2p_abs: {data_2p_abs.shape}\")\n",
    "print(f\"data_3p_abs: {data_3p_abs.shape}\")"
   ]
  },
  {
   "cell_type": "code",
   "execution_count": 225,
   "metadata": {},
   "outputs": [
    {
     "name": "stdout",
     "output_type": "stream",
     "text": [
      "(240, 3, 6, 64)\n",
      "(3, 6, 64)\n",
      "(1, 1, 3, 6, 64)\n",
      "data_1p_abs: (240, 10, 3, 64, 64)\n",
      "data_2p_abs: (240, 10, 3, 64, 64)\n",
      "data_3p_abs: (240, 10, 3, 64, 64)\n"
     ]
    }
   ],
   "source": [
    "\n",
    "\"\"\"noise = np.mean(data_empty_abs[:,:,:,30:36,:], axis = 1) \n",
    "print(noise.shape)\n",
    "noise = np.mean(noise[:,:,:,:], axis = 0) \n",
    "print(noise.shape)\n",
    "noise = np.expand_dims(noise, axis = 0)\n",
    "noise = np.expand_dims(noise, axis = 0)\n",
    "print(noise.shape)\n",
    "data_1p_abs[:,:,:,30:36,:] = data_1p_abs[:,:,:,30:36,:] - noise\n",
    "data_2p_abs[:,:,:,30:36,:] = data_2p_abs[:,:,:,30:36,:] - noise\n",
    "data_3p_abs[:,:,:,30:36,:] = data_3p_abs[:,:,:,30:36,:] - noise\n",
    "print(f\"data_1p_abs: {data_1p_abs.shape}\")\n",
    "print(f\"data_2p_abs: {data_2p_abs.shape}\")\n",
    "print(f\"data_3p_abs: {data_3p_abs.shape}\")\"\"\""
   ]
  },
  {
   "cell_type": "code",
   "execution_count": 227,
   "metadata": {},
   "outputs": [],
   "source": [
    "\n",
    "\n",
    "\n",
    "def normalize_data(data):\n",
    "    return (data - np.min(data)) / (np.max(data) - np.min(data))\n",
    "\n",
    "def calculate_saliency_map_3(frames, to_morph = True):\n",
    "    \"\"\" n_frames, n_radars, 64, 64\"\"\"\n",
    "    new_frames = []\n",
    "    for frame in frames:\n",
    "        mean = np.mean(frame)\n",
    "        frame_new = np.where(frame > mean, frame, 0)\n",
    "        new_frames.append(frame_new)\n",
    "    new_frames = np.array(new_frames)\n",
    "    frames = new_frames\n",
    "    frames[:,:,32,:] = 0\n",
    "    # differences = np.abs(np.diff(frames, axis=0))\n",
    "    #print(differences.shape)\n",
    "    multiplications = np.zeros((frames.shape[0]-1, frames.shape[1], 64, 64))\n",
    "    for i in range(frames.shape[0] - 1):\n",
    "        for j in range(frames.shape[1]):\n",
    "            mult = np.multiply(frames[i,j,:,:], frames[i+1,j,:,:])\n",
    "            multiplications[i,j,:,:] = mult\n",
    "\n",
    "    if to_morph:\n",
    "        morphology = np.zeros(multiplications.shape)\n",
    "        for i in range(multiplications.shape[0]):\n",
    "            for j in range(multiplications.shape[1]):\n",
    "                morph = cv2.morphologyEx(multiplications[i,j,:,:], cv2.MORPH_OPEN, np.ones((2, 2)))\n",
    "                morphology[i,j,:,:] = morph\n",
    "        saliency_map = np.expand_dims(np.sum(morphology, axis=0), axis=0)\n",
    "    else:\n",
    "        saliency_map = np.expand_dims(np.sum(multiplications, axis=0), axis=0)\n",
    "\n",
    "    return normalize_data(saliency_map).squeeze()\n",
    "\n",
    "def calculate_saliency_map_3(frames):\n",
    "    new_frames = []\n",
    "    for frame in frames:\n",
    "        mean = np.mean(frame)\n",
    "        frame_new = np.where(frame > mean, frame, 0)\n",
    "        new_frames.append(frame_new)\n",
    "    new_frames = np.array(new_frames)\n",
    "    frames = new_frames\n",
    "    # frames[:,:,32,:] = 0\n",
    "    differences = np.abs(np.diff(frames, axis=0))\n",
    "    #print(differences.shape)\n",
    "    morphology = np.zeros(differences.shape)\n",
    "    for i in range(differences.shape[0]):\n",
    "        for j in range(differences.shape[1]):\n",
    "            morph = cv2.morphologyEx(differences[i,j,:,:], cv2.MORPH_OPEN, np.ones((2, 2)))\n",
    "            morphology[i,j,:,:] = morph\n",
    "    # saliency_map_morph = np.expand_dims(np.sum(differences, axis=0), axis=0)\n",
    "    saliency_map = np.expand_dims(np.sum(morphology, axis=0), axis=0)\n",
    "\n",
    "    return normalize_data(saliency_map).squeeze()\n",
    "\n",
    "def subtract_noise(data, indices, noise):\n",
    "    data[indices] \n",
    "    pass"
   ]
  },
  {
   "cell_type": "code",
   "execution_count": 228,
   "metadata": {},
   "outputs": [
    {
     "name": "stdout",
     "output_type": "stream",
     "text": [
      "data_empty_diffs: (240, 3, 64, 64)\n",
      "data_1p_diffs: (240, 3, 64, 64)\n",
      "data_2p_diffs: (240, 3, 64, 64)\n",
      "data_3p_diffs: (240, 3, 64, 64)\n"
     ]
    }
   ],
   "source": [
    "data_empty_diffs = np.array([calculate_saliency_map(sample) for sample in data_empty_reshaped])\n",
    "data_1p_diffs = np.array([calculate_saliency_map(sample) for sample in data_1p_reshaped])\n",
    "data_2p_diffs = np.array([calculate_saliency_map(sample) for sample in data_2p_reshaped])\n",
    "data_3p_diffs = np.array([calculate_saliency_map(sample) for sample in data_3p_reshaped])\n",
    "\n",
    "print(f\"data_empty_diffs: {data_empty_diffs.shape}\")\n",
    "print(f\"data_1p_diffs: {data_1p_diffs.shape}\")\n",
    "print(f\"data_2p_diffs: {data_2p_diffs.shape}\")\n",
    "print(f\"data_3p_diffs: {data_3p_diffs.shape}\")"
   ]
  },
  {
   "cell_type": "code",
   "execution_count": 213,
   "metadata": {},
   "outputs": [
    {
     "name": "stdout",
     "output_type": "stream",
     "text": [
      "(3, 6, 64)\n",
      "data_1p_diffs: (240, 3, 64, 64)\n",
      "data_2p_diffs: (240, 3, 64, 64)\n",
      "data_3p_diffs: (240, 3, 64, 64)\n"
     ]
    }
   ],
   "source": [
    "noise = np.mean(data_empty_diffs[:,:,30:36,:], axis = 0)\n",
    "print(noise.shape)\n",
    "data_1p_diffs[:,:,30:36,:] = data_1p_diffs[:,:,30:36,:] - noise\n",
    "data_2p_diffs[:,:,30:36,:] = data_2p_diffs[:,:,30:36,:] - noise\n",
    "data_3p_diffs[:,:,30:36,:] = data_3p_diffs[:,:,30:36,:] - noise\n",
    "print(f\"data_1p_diffs: {data_1p_diffs.shape}\")\n",
    "print(f\"data_2p_diffs: {data_2p_diffs.shape}\")\n",
    "print(f\"data_3p_diffs: {data_3p_diffs.shape}\")\n"
   ]
  },
  {
   "cell_type": "code",
   "execution_count": 231,
   "metadata": {},
   "outputs": [
    {
     "data": {
      "text/plain": [
       "<matplotlib.image.AxesImage at 0x17d88a6d520>"
      ]
     },
     "execution_count": 231,
     "metadata": {},
     "output_type": "execute_result"
    },
    {
     "data": {
      "image/png": "[encoded data removed]",
      "text/plain": [
       "<Figure size 1080x360 with 3 Axes>"
      ]
     },
     "metadata": {
      "needs_background": "light"
     },
     "output_type": "display_data"
    }
   ],
   "source": [
    "##### plot random sample\n",
    "random_sample = np.random.randint(0, data_empty_diffs.shape[0])\n",
    "fig, ax = plt.subplots(1, 3, figsize=(15, 5))\n",
    "plot_sample = data_1p_diffs.copy()\n",
    "ax[0].imshow(plot_sample[random_sample, 0, :, :])\n",
    "ax[1].imshow(plot_sample[random_sample, 1, :, :])\n",
    "ax[2].imshow(plot_sample[random_sample, 2, :, :])"
   ]
  },
  {
   "cell_type": "code",
   "execution_count": 232,
   "metadata": {},
   "outputs": [
    {
     "name": "stdout",
     "output_type": "stream",
     "text": [
      "(240, 64, 64, 3)\n",
      "(240, 64, 64, 3)\n",
      "(240, 64, 64, 3)\n",
      "(240, 64, 64, 3)\n"
     ]
    }
   ],
   "source": [
    "data_0 = np.moveaxis(data_empty_diffs, 1,3)\n",
    "data_1 = np.moveaxis(data_1p_diffs, 1,3)\n",
    "data_2 = np.moveaxis(data_2p_diffs, 1,3)\n",
    "data_3 = np.moveaxis(data_3p_diffs, 1,3)\n",
    "print(data_0.shape)\n",
    "print(data_1.shape)\n",
    "print(data_2.shape)\n",
    "print(data_3.shape)"
   ]
  },
  {
   "cell_type": "code",
   "execution_count": 233,
   "metadata": {},
   "outputs": [
    {
     "data": {
      "text/plain": [
       "(960, 64, 64, 3)"
      ]
     },
     "execution_count": 233,
     "metadata": {},
     "output_type": "execute_result"
    }
   ],
   "source": [
    "data_tot = np.concatenate((data_0, data_1, data_2, data_3), axis=0)\n",
    "data_tot.shape"
   ]
  },
  {
   "cell_type": "markdown",
   "metadata": {},
   "source": [
    "### Create Labels"
   ]
  },
  {
   "cell_type": "code",
   "execution_count": 234,
   "metadata": {},
   "outputs": [
    {
     "name": "stdout",
     "output_type": "stream",
     "text": [
      "Labels shape: (960,)\n"
     ]
    }
   ],
   "source": [
    "labels_empty = np.zeros(data_0.shape[0])\n",
    "labels_1p = np.ones(data_1.shape[0])\n",
    "labels_2p = np.ones(data_2.shape[0]) * 2\n",
    "labels_3p = np.ones(data_3.shape[0]) * 3\n",
    "labels = np.concatenate((labels_empty, labels_1p, labels_2p, labels_3p), axis=0)\n",
    "print(\"Labels shape:\", labels.shape)"
   ]
  },
  {
   "cell_type": "code",
   "execution_count": 235,
   "metadata": {},
   "outputs": [
    {
     "name": "stdout",
     "output_type": "stream",
     "text": [
      "Labels abels one hot shape: (960, 4)\n"
     ]
    }
   ],
   "source": [
    "train_labels_one_hot = np.eye(4)[labels.astype(int)]\n",
    "print(\"Labels abels one hot shape:\", train_labels_one_hot.shape)"
   ]
  },
  {
   "cell_type": "code",
   "execution_count": 236,
   "metadata": {},
   "outputs": [
    {
     "name": "stdout",
     "output_type": "stream",
     "text": [
      "Shape train_X: (864, 64, 64, 3)\n",
      "Shape test_X: (96, 64, 64, 3)\n",
      "Shape train_y: (864, 4)\n",
      "Shape test_y: (96, 4)\n"
     ]
    }
   ],
   "source": [
    "from sklearn.model_selection import train_test_split\n",
    "train_X, test_X, train_y, test_y = train_test_split(data_tot, train_labels_one_hot, test_size=0.1, stratify=labels)\n",
    "print(f\"Shape train_X: {train_X.shape}\")\n",
    "print(f\"Shape test_X: {test_X.shape}\")\n",
    "print(f\"Shape train_y: {train_y.shape}\")\n",
    "print(f\"Shape test_y: {test_y.shape}\")"
   ]
  },
  {
   "cell_type": "code",
   "execution_count": 237,
   "metadata": {},
   "outputs": [
    {
     "name": "stdout",
     "output_type": "stream",
     "text": [
      "Model: \"sequential_8\"\n",
      "_________________________________________________________________\n",
      " Layer (type)                Output Shape              Param #   \n",
      "=================================================================\n",
      " conv2d_23 (Conv2D)          (None, 64, 64, 8)         224       \n",
      "                                                                 \n",
      " max_pooling2d_22 (MaxPoolin  (None, 32, 32, 8)        0         \n",
      " g2D)                                                            \n",
      "                                                                 \n",
      " conv2d_24 (Conv2D)          (None, 32, 32, 4)         292       \n",
      "                                                                 \n",
      " max_pooling2d_23 (MaxPoolin  (None, 16, 16, 4)        0         \n",
      " g2D)                                                            \n",
      "                                                                 \n",
      " conv2d_25 (Conv2D)          (None, 16, 16, 8)         296       \n",
      "                                                                 \n",
      " max_pooling2d_24 (MaxPoolin  (None, 8, 8, 8)          0         \n",
      " g2D)                                                            \n",
      "                                                                 \n",
      " flatten_8 (Flatten)         (None, 512)               0         \n",
      "                                                                 \n",
      " dense_8 (Dense)             (None, 4)                 2052      \n",
      "                                                                 \n",
      " activation_8 (Activation)   (None, 4)                 0         \n",
      "                                                                 \n",
      "=================================================================\n",
      "Total params: 2,864\n",
      "Trainable params: 2,864\n",
      "Non-trainable params: 0\n",
      "_________________________________________________________________\n",
      "None\n"
     ]
    }
   ],
   "source": [
    "models = keras.models\n",
    "layers = keras.layers\n",
    "\n",
    "model = models.Sequential(\n",
    "    [\n",
    "        layers.Conv2D(8,\n",
    "                      input_shape = (64,64,3),\n",
    "                      kernel_size = 3,\n",
    "                      padding = \"same\",\n",
    "                      activation = \"relu\"),\n",
    "        layers.MaxPooling2D(2,\n",
    "                            strides = None,\n",
    "                            padding = \"valid\"),\n",
    "        layers.Conv2D(4,\n",
    "                      input_shape = (32,32,3),\n",
    "                      kernel_size = 3,\n",
    "                      padding = \"same\",\n",
    "                      activation = \"relu\"),\n",
    "        layers.MaxPooling2D(2,\n",
    "                    strides = None,\n",
    "                    padding = \"valid\"),\n",
    "        layers.Conv2D(8,\n",
    "                      input_shape = (16,16,8),\n",
    "                      kernel_size = 3,\n",
    "                      padding = \"same\",\n",
    "                      activation = \"relu\"),\n",
    "        layers.MaxPooling2D(2,\n",
    "                    strides = None,\n",
    "                    padding = \"valid\"),\n",
    "        layers.Flatten(),\n",
    "        layers.Dense(4),\n",
    "        layers.Activation(\"softmax\")\n",
    "    ]\n",
    ")\n",
    "print(model.summary())"
   ]
  },
  {
   "cell_type": "code",
   "execution_count": 238,
   "metadata": {},
   "outputs": [
    {
     "name": "stdout",
     "output_type": "stream",
     "text": [
      "Epoch 1/100\n",
      "25/25 [==============================] - 1s 31ms/step - loss: 1.3579 - accuracy: 0.3462 - val_loss: 1.3626 - val_accuracy: 0.3218\n",
      "Epoch 2/100\n",
      "25/25 [==============================] - 1s 26ms/step - loss: 1.2097 - accuracy: 0.5689 - val_loss: 1.1369 - val_accuracy: 0.4943\n",
      "Epoch 3/100\n",
      "25/25 [==============================] - 1s 26ms/step - loss: 0.8715 - accuracy: 0.6178 - val_loss: 0.9127 - val_accuracy: 0.5862\n",
      "Epoch 4/100\n",
      "25/25 [==============================] - 1s 24ms/step - loss: 0.6896 - accuracy: 0.6885 - val_loss: 0.7392 - val_accuracy: 0.7011\n",
      "Epoch 5/100\n",
      "25/25 [==============================] - 1s 23ms/step - loss: 0.5861 - accuracy: 0.7773 - val_loss: 0.6298 - val_accuracy: 0.6897\n",
      "Epoch 6/100\n",
      "25/25 [==============================] - 1s 23ms/step - loss: 0.4971 - accuracy: 0.8031 - val_loss: 0.5967 - val_accuracy: 0.7241\n",
      "Epoch 7/100\n",
      "25/25 [==============================] - 1s 23ms/step - loss: 0.4172 - accuracy: 0.8378 - val_loss: 0.6433 - val_accuracy: 0.7471\n",
      "Epoch 8/100\n",
      "25/25 [==============================] - 1s 23ms/step - loss: 0.3818 - accuracy: 0.8662 - val_loss: 0.6149 - val_accuracy: 0.7471\n",
      "Epoch 9/100\n",
      "25/25 [==============================] - 1s 27ms/step - loss: 0.3801 - accuracy: 0.8456 - val_loss: 0.4874 - val_accuracy: 0.7586\n",
      "Epoch 10/100\n",
      "25/25 [==============================] - 1s 26ms/step - loss: 0.3266 - accuracy: 0.8662 - val_loss: 0.5440 - val_accuracy: 0.8161\n",
      "Epoch 11/100\n",
      "25/25 [==============================] - 1s 27ms/step - loss: 0.2995 - accuracy: 0.8829 - val_loss: 0.4936 - val_accuracy: 0.7931\n",
      "Epoch 12/100\n",
      "25/25 [==============================] - 1s 25ms/step - loss: 0.3199 - accuracy: 0.8546 - val_loss: 0.5502 - val_accuracy: 0.7816\n",
      "Epoch 13/100\n",
      "25/25 [==============================] - 1s 25ms/step - loss: 0.2711 - accuracy: 0.8919 - val_loss: 0.4749 - val_accuracy: 0.8276\n",
      "Epoch 14/100\n",
      "25/25 [==============================] - 1s 27ms/step - loss: 0.3242 - accuracy: 0.8597 - val_loss: 0.5550 - val_accuracy: 0.8276\n",
      "Epoch 15/100\n",
      "25/25 [==============================] - 1s 26ms/step - loss: 0.2678 - accuracy: 0.8958 - val_loss: 0.4631 - val_accuracy: 0.7931\n",
      "Epoch 16/100\n",
      "25/25 [==============================] - 1s 25ms/step - loss: 0.2328 - accuracy: 0.9176 - val_loss: 0.5097 - val_accuracy: 0.8161\n",
      "Epoch 17/100\n",
      "25/25 [==============================] - 1s 25ms/step - loss: 0.2220 - accuracy: 0.9176 - val_loss: 0.4268 - val_accuracy: 0.8276\n",
      "Epoch 18/100\n",
      "25/25 [==============================] - 1s 25ms/step - loss: 0.2158 - accuracy: 0.9176 - val_loss: 0.4714 - val_accuracy: 0.8046\n",
      "Epoch 19/100\n",
      "25/25 [==============================] - 1s 25ms/step - loss: 0.2000 - accuracy: 0.9292 - val_loss: 0.4775 - val_accuracy: 0.8276\n",
      "Epoch 20/100\n",
      "25/25 [==============================] - 1s 25ms/step - loss: 0.2072 - accuracy: 0.9189 - val_loss: 0.5740 - val_accuracy: 0.8276\n",
      "Epoch 21/100\n",
      "25/25 [==============================] - 1s 25ms/step - loss: 0.1951 - accuracy: 0.9318 - val_loss: 0.5443 - val_accuracy: 0.8046\n",
      "Epoch 22/100\n",
      "25/25 [==============================] - 1s 24ms/step - loss: 0.1875 - accuracy: 0.9254 - val_loss: 0.4626 - val_accuracy: 0.8276\n",
      "Epoch 23/100\n",
      "25/25 [==============================] - 1s 25ms/step - loss: 0.1764 - accuracy: 0.9369 - val_loss: 0.4348 - val_accuracy: 0.8621\n",
      "Epoch 24/100\n",
      "25/25 [==============================] - 1s 24ms/step - loss: 0.1733 - accuracy: 0.9382 - val_loss: 0.4624 - val_accuracy: 0.8506\n",
      "Epoch 25/100\n",
      "25/25 [==============================] - 1s 25ms/step - loss: 0.1596 - accuracy: 0.9447 - val_loss: 0.4373 - val_accuracy: 0.8276\n",
      "Epoch 26/100\n",
      "25/25 [==============================] - 1s 24ms/step - loss: 0.1834 - accuracy: 0.9305 - val_loss: 0.4515 - val_accuracy: 0.8506\n",
      "Epoch 27/100\n",
      "25/25 [==============================] - 1s 25ms/step - loss: 0.1855 - accuracy: 0.9305 - val_loss: 0.4503 - val_accuracy: 0.8621\n"
     ]
    },
    {
     "name": "stderr",
     "output_type": "stream",
     "text": [
      "WARNING:absl:Found untraced functions such as _jit_compiled_convolution_op, _jit_compiled_convolution_op, _jit_compiled_convolution_op while saving (showing 3 of 3). These functions will not be directly callable after loading.\n"
     ]
    },
    {
     "name": "stdout",
     "output_type": "stream",
     "text": [
      "INFO:tensorflow:Assets written to: models/CNN\\assets\n"
     ]
    },
    {
     "name": "stderr",
     "output_type": "stream",
     "text": [
      "INFO:tensorflow:Assets written to: models/CNN\\assets\n"
     ]
    }
   ],
   "source": [
    "model.compile(\n",
    "    loss = \"categorical_crossentropy\",\n",
    "    optimizer = keras.optimizers.Adam(learning_rate = 0.001),\n",
    "    metrics = ['accuracy']\n",
    ")\n",
    "\n",
    "model.fit(\n",
    "    train_X, train_y,\n",
    "    epochs  = 100,\n",
    "    verbose = 1,\n",
    "    validation_split = 0.1,\n",
    "    shuffle= True,\n",
    "    callbacks=keras.callbacks.EarlyStopping(patience = 10)\n",
    ")\n",
    "\n",
    "model.save('models/CNN')"
   ]
  },
  {
   "cell_type": "code",
   "execution_count": 241,
   "metadata": {},
   "outputs": [
    {
     "name": "stdout",
     "output_type": "stream",
     "text": [
      "3/3 [==============================] - 0s 10ms/step - loss: 0.2580 - accuracy: 0.8854\n",
      "Loss: 0.25797039270401\n",
      "Accuracy: 0.8854166865348816\n"
     ]
    }
   ],
   "source": [
    "loss, aacuracy = model.evaluate(test_X, test_y)\n",
    "print(f\"Loss: {loss}\")\n",
    "print(f\"Accuracy: {aacuracy}\")"
   ]
  },
  {
   "cell_type": "code",
   "execution_count": 242,
   "metadata": {},
   "outputs": [
    {
     "name": "stdout",
     "output_type": "stream",
     "text": [
      "3/3 [==============================] - 0s 10ms/step\n"
     ]
    },
    {
     "data": {
      "text/plain": [
       "array([[24,  0,  0,  0],\n",
       "       [ 0, 21,  2,  1],\n",
       "       [ 0,  4, 20,  0],\n",
       "       [ 0,  0,  4, 20]], dtype=int64)"
      ]
     },
     "execution_count": 242,
     "metadata": {},
     "output_type": "execute_result"
    }
   ],
   "source": [
    "from sklearn.metrics import confusion_matrix\n",
    "predicted = model.predict(test_X)\n",
    "predicted_label = np.argmax(predicted, axis=1)\n",
    "true_label = np.argmax(test_y, axis=1)\n",
    "confusion_matrix(true_label, predicted_label)"
   ]
  }
 ],
 "metadata": {
  "interpreter": {
   "hash": "3a9dc74e55c2756006c2e3836791e686da87212d2fb823421f3744ac01945fbe"
  },
  "kernelspec": {
   "display_name": "Python 3.9.5 ('milan-env': venv)",
   "language": "python",
   "name": "python3"
  },
  "language_info": {
   "codemirror_mode": {
    "name": "ipython",
    "version": 3
   },
   "file_extension": ".py",
   "mimetype": "text/x-python",
   "name": "python",
   "nbconvert_exporter": "python",
   "pygments_lexer": "ipython3",
   "version": "3.9.5"
  },
  "orig_nbformat": 4
 },
 "nbformat": 4,
 "nbformat_minor": 2
}
