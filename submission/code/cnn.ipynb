{
   "cells": [
      {
         "cell_type": "markdown",
         "metadata": {},
         "source": [
            "# Simple CNN notebook"
         ]
      },
      {
         "cell_type": "markdown",
         "metadata": {},
         "source": [
            "## Import Libraries"
         ]
      },
      {
         "cell_type": "code",
         "execution_count": 1,
         "metadata": {},
         "outputs": [],
         "source": [
            "%matplotlib inline\n",
            "import numpy as np\n",
            "from utils.helper import read_data, morphology\n",
            "from tensorflow import keras\n",
            "FOLDER = \"data/data_big/\"\n",
            "MORPHOLOGY_ACTIVATED = False"
         ]
      },
      {
         "cell_type": "markdown",
         "metadata": {},
         "source": [
            "## Load data"
         ]
      },
      {
         "cell_type": "code",
         "execution_count": 2,
         "metadata": {},
         "outputs": [
            {
               "name": "stdout",
               "output_type": "stream",
               "text": [
                  "----------------Shapes----------------\n",
                  "empty: (480, 5, 3, 64, 64)\n",
                  "1p: (480, 5, 3, 64, 64)\n",
                  "2p: (480, 5, 3, 64, 64)\n",
                  "3p: (480, 5, 3, 64, 64)\n"
               ]
            }
         ],
         "source": [
            "data_empty = read_data(FOLDER + \"empty.csv\")\n",
            "data_1p = read_data(FOLDER + \"1p.csv\")\n",
            "data_2p = read_data(FOLDER + \"2p.csv\")\n",
            "data_3p = read_data(FOLDER + \"3p.csv\")\n",
            "print(\"----------------Shapes----------------\")\n",
            "print(\"empty:\", data_empty.shape)\n",
            "print(\"1p:\", data_1p.shape)\n",
            "print(\"2p:\", data_2p.shape)\n",
            "print(\"3p:\", data_3p.shape)"
         ]
      },
      {
         "cell_type": "code",
         "execution_count": 3,
         "metadata": {},
         "outputs": [],
         "source": [
            "LENGTH_EMPTY = data_empty.shape[0]\n",
            "LENGTH_1P = data_1p.shape[0]\n",
            "LENGTH_2P = data_2p.shape[0]\n",
            "LENGTH_3P = data_3p.shape[0]"
         ]
      },
      {
         "cell_type": "code",
         "execution_count": 4,
         "metadata": {},
         "outputs": [],
         "source": [
            "data_empty_summed = np.abs(np.sum(data_empty, axis=1)) \n",
            "data_1p_summed = np.abs(np.sum(data_1p, axis=1))\n",
            "data_2p_summed = np.abs(np.sum(data_2p, axis=1))\n",
            "data_3p_summed = np.abs(np.sum(data_3p, axis=1))"
         ]
      },
      {
         "cell_type": "code",
         "execution_count": 5,
         "metadata": {},
         "outputs": [],
         "source": [
            "data_empty_summed[:, :, 32, :] = 0\n",
            "data_1p_summed[:, :, 32, :] = 0\n",
            "data_2p_summed[:, :, 32, :] = 0\n",
            "data_3p_summed[:, :, 32, :] = 0"
         ]
      },
      {
         "cell_type": "code",
         "execution_count": 6,
         "metadata": {},
         "outputs": [],
         "source": [
            "if MORPHOLOGY_ACTIVATED == True:\n",
            "    data_empty_summed =  morphology(data_empty_summed)\n",
            "    data_1p_summed =  morphology(data_1p_summed)\n",
            "    data_2p_summed =  morphology(data_2p_summed)\n",
            "    data_3p_summed =  morphology(data_3p_summed)"
         ]
      },
      {
         "cell_type": "code",
         "execution_count": 7,
         "metadata": {},
         "outputs": [
            {
               "name": "stdout",
               "output_type": "stream",
               "text": [
                  "(480, 64, 64, 3)\n",
                  "(480, 64, 64, 3)\n",
                  "(480, 64, 64, 3)\n",
                  "(480, 64, 64, 3)\n"
               ]
            }
         ],
         "source": [
            "data_0 = np.moveaxis(data_empty_summed, 1,3)\n",
            "data_1 = np.moveaxis(data_1p_summed, 1,3)\n",
            "data_2 = np.moveaxis(data_2p_summed, 1,3)\n",
            "data_3 = np.moveaxis(data_3p_summed, 1,3)\n",
            "print(data_0.shape)\n",
            "print(data_1.shape)\n",
            "print(data_2.shape)\n",
            "print(data_3.shape)"
         ]
      },
      {
         "cell_type": "code",
         "execution_count": 8,
         "metadata": {},
         "outputs": [
            {
               "data": {
                  "text/plain": [
                     "(1920, 64, 64, 3)"
                  ]
               },
               "execution_count": 8,
               "metadata": {},
               "output_type": "execute_result"
            }
         ],
         "source": [
            "data_tot = np.concatenate((data_0, data_1, data_2, data_3), axis=0)\n",
            "data_tot.shape"
         ]
      },
      {
         "cell_type": "markdown",
         "metadata": {},
         "source": [
            "### Create Labels"
         ]
      },
      {
         "cell_type": "code",
         "execution_count": 9,
         "metadata": {},
         "outputs": [
            {
               "name": "stdout",
               "output_type": "stream",
               "text": [
                  "Labels shape: (1920,)\n"
               ]
            }
         ],
         "source": [
            "labels_empty = np.zeros(LENGTH_EMPTY)\n",
            "labels_1p = np.ones(LENGTH_1P)\n",
            "labels_2p = np.ones(LENGTH_2P) * 2\n",
            "labels_3p = np.ones(LENGTH_3P) * 3\n",
            "labels = np.concatenate((labels_empty, labels_1p, labels_2p, labels_3p), axis=0)\n",
            "print(\"Labels shape:\", labels.shape)"
         ]
      },
      {
         "cell_type": "code",
         "execution_count": 10,
         "metadata": {},
         "outputs": [
            {
               "name": "stdout",
               "output_type": "stream",
               "text": [
                  "Labels abels one hot shape: (1920, 4)\n"
               ]
            }
         ],
         "source": [
            "train_labels_one_hot = np.eye(4)[labels.astype(int)]\n",
            "print(\"Labels abels one hot shape:\", train_labels_one_hot.shape)"
         ]
      },
      {
         "cell_type": "code",
         "execution_count": 11,
         "metadata": {},
         "outputs": [
            {
               "name": "stdout",
               "output_type": "stream",
               "text": [
                  "Shape train_X: (1536, 64, 64, 3)\n",
                  "Shape test_X: (384, 64, 64, 3)\n",
                  "Shape train_y: (1536, 4)\n",
                  "Shape test_y: (384, 4)\n"
               ]
            }
         ],
         "source": [
            "from sklearn.model_selection import train_test_split\n",
            "train_X, test_X, train_y, test_y = train_test_split(data_tot, train_labels_one_hot, test_size=0.2, stratify = train_labels_one_hot)\n",
            "print(f\"Shape train_X: {train_X.shape}\")\n",
            "print(f\"Shape test_X: {test_X.shape}\")\n",
            "print(f\"Shape train_y: {train_y.shape}\")\n",
            "print(f\"Shape test_y: {test_y.shape}\")"
         ]
      },
      {
         "cell_type": "code",
         "execution_count": 12,
         "metadata": {},
         "outputs": [
            {
               "name": "stdout",
               "output_type": "stream",
               "text": [
                  "Model: \"sequential\"\n",
                  "_________________________________________________________________\n",
                  " Layer (type)                Output Shape              Param #   \n",
                  "=================================================================\n",
                  " conv2d (Conv2D)             (None, 64, 64, 8)         608       \n",
                  "                                                                 \n",
                  " max_pooling2d (MaxPooling2D  (None, 32, 32, 8)        0         \n",
                  " )                                                               \n",
                  "                                                                 \n",
                  " conv2d_1 (Conv2D)           (None, 32, 32, 8)         584       \n",
                  "                                                                 \n",
                  " max_pooling2d_1 (MaxPooling  (None, 16, 16, 8)        0         \n",
                  " 2D)                                                             \n",
                  "                                                                 \n",
                  " conv2d_2 (Conv2D)           (None, 16, 16, 8)         584       \n",
                  "                                                                 \n",
                  " max_pooling2d_2 (MaxPooling  (None, 8, 8, 8)          0         \n",
                  " 2D)                                                             \n",
                  "                                                                 \n",
                  " flatten (Flatten)           (None, 512)               0         \n",
                  "                                                                 \n",
                  " dense (Dense)               (None, 4)                 2052      \n",
                  "                                                                 \n",
                  " activation (Activation)     (None, 4)                 0         \n",
                  "                                                                 \n",
                  "=================================================================\n",
                  "Total params: 3,828\n",
                  "Trainable params: 3,828\n",
                  "Non-trainable params: 0\n",
                  "_________________________________________________________________\n",
                  "None\n"
               ]
            }
         ],
         "source": [
            "models = keras.models\n",
            "layers = keras.layers\n",
            "\n",
            "model = models.Sequential(\n",
            "    [\n",
            "        layers.Conv2D(8,\n",
            "                      input_shape = (64,64,3),\n",
            "                      kernel_size = 5,\n",
            "                      padding = \"same\",\n",
            "                      activation = \"relu\"),\n",
            "        layers.MaxPooling2D(2,\n",
            "                            strides = None,\n",
            "                            padding = \"valid\"),\n",
            "        layers.Conv2D(8,\n",
            "                      input_shape = (32,32,8),\n",
            "                      kernel_size = 3,\n",
            "                      padding = \"same\",\n",
            "                      activation = \"relu\"),\n",
            "        layers.MaxPooling2D(2,\n",
            "                    strides = None,\n",
            "                    padding = \"valid\"),\n",
            "        layers.Conv2D(8,\n",
            "                      input_shape = (16,16,8),\n",
            "                      kernel_size = 3,\n",
            "                      padding = \"same\",\n",
            "                      activation = \"relu\"),\n",
            "        layers.MaxPooling2D(2,\n",
            "                    strides = None,\n",
            "                    padding = \"valid\"),\n",
            "        layers.Flatten(),\n",
            "        layers.Dense(4),\n",
            "        layers.Activation(\"softmax\")\n",
            "    ]\n",
            ")\n",
            "print(model.summary())"
         ]
      },
      {
         "cell_type": "code",
         "execution_count": 13,
         "metadata": {},
         "outputs": [
            {
               "name": "stdout",
               "output_type": "stream",
               "text": [
                  "Epoch 1/20\n",
                  "44/44 [==============================] - 2s 40ms/step - loss: 1.2285 - accuracy: 0.3466 - val_loss: 1.0978 - val_accuracy: 0.5390\n",
                  "Epoch 2/20\n",
                  "44/44 [==============================] - 2s 35ms/step - loss: 0.8706 - accuracy: 0.6230 - val_loss: 0.7858 - val_accuracy: 0.6299\n",
                  "Epoch 3/20\n",
                  "44/44 [==============================] - 2s 36ms/step - loss: 0.7040 - accuracy: 0.6671 - val_loss: 0.6480 - val_accuracy: 0.7013\n",
                  "Epoch 4/20\n",
                  "44/44 [==============================] - 2s 35ms/step - loss: 0.5802 - accuracy: 0.7395 - val_loss: 0.5323 - val_accuracy: 0.7792\n",
                  "Epoch 5/20\n",
                  "44/44 [==============================] - 2s 35ms/step - loss: 0.5658 - accuracy: 0.7482 - val_loss: 0.5528 - val_accuracy: 0.7857\n",
                  "Epoch 6/20\n",
                  "44/44 [==============================] - 2s 36ms/step - loss: 0.4812 - accuracy: 0.7974 - val_loss: 0.4564 - val_accuracy: 0.8247\n",
                  "Epoch 7/20\n",
                  "44/44 [==============================] - 2s 47ms/step - loss: 0.4379 - accuracy: 0.8169 - val_loss: 0.4381 - val_accuracy: 0.8312\n",
                  "Epoch 8/20\n",
                  "44/44 [==============================] - 2s 46ms/step - loss: 0.4469 - accuracy: 0.7988 - val_loss: 0.4389 - val_accuracy: 0.7857\n",
                  "Epoch 9/20\n",
                  "44/44 [==============================] - 2s 48ms/step - loss: 0.3746 - accuracy: 0.8423 - val_loss: 0.4039 - val_accuracy: 0.8117\n",
                  "Epoch 10/20\n",
                  "44/44 [==============================] - 2s 46ms/step - loss: 0.3510 - accuracy: 0.8589 - val_loss: 0.3547 - val_accuracy: 0.8247\n",
                  "Epoch 11/20\n",
                  "44/44 [==============================] - 2s 49ms/step - loss: 0.3185 - accuracy: 0.8647 - val_loss: 0.3651 - val_accuracy: 0.8117\n",
                  "Epoch 12/20\n",
                  "44/44 [==============================] - 2s 47ms/step - loss: 0.3081 - accuracy: 0.8770 - val_loss: 0.3937 - val_accuracy: 0.8182\n",
                  "Epoch 13/20\n",
                  "44/44 [==============================] - 2s 46ms/step - loss: 0.3122 - accuracy: 0.8647 - val_loss: 0.4866 - val_accuracy: 0.7987\n"
               ]
            },
            {
               "name": "stderr",
               "output_type": "stream",
               "text": [
                  "WARNING:absl:Found untraced functions such as _jit_compiled_convolution_op, _jit_compiled_convolution_op, _jit_compiled_convolution_op while saving (showing 3 of 3). These functions will not be directly callable after loading.\n"
               ]
            },
            {
               "name": "stdout",
               "output_type": "stream",
               "text": [
                  "INFO:tensorflow:Assets written to: models_kosta/CNN2\\assets\n"
               ]
            },
            {
               "name": "stderr",
               "output_type": "stream",
               "text": [
                  "INFO:tensorflow:Assets written to: models_kosta/CNN2\\assets\n"
               ]
            }
         ],
         "source": [
            "model.compile(\n",
            "    loss = \"categorical_crossentropy\",\n",
            "    optimizer = keras.optimizers.Adam(learning_rate = 0.001),\n",
            "    metrics = ['accuracy']\n",
            ")\n",
            "\n",
            "model.fit(\n",
            "    train_X, train_y,\n",
            "    epochs  = 20,\n",
            "    verbose = 1,\n",
            "    validation_split = 0.1,\n",
            "    shuffle= True,\n",
            "    callbacks=[keras.callbacks.EarlyStopping(patience = 3)]\n",
            ")\n",
            "\n",
            "model.save('models_kosta/CNN2')"
         ]
      },
      {
         "cell_type": "code",
         "execution_count": 14,
         "metadata": {},
         "outputs": [
            {
               "name": "stdout",
               "output_type": "stream",
               "text": [
                  "12/12 [==============================] - 0s 13ms/step - loss: 0.5370 - accuracy: 0.7786\n",
                  "Loss: 0.537003755569458\n",
                  "Accuracy: 0.7786458134651184\n"
               ]
            }
         ],
         "source": [
            "loss, aacuracy = model.evaluate(test_X, test_y)\n",
            "print(f\"Loss: {loss}\")\n",
            "print(f\"Accuracy: {aacuracy}\")"
         ]
      }
   ],
   "metadata": {
      "interpreter": {
         "hash": "3a9dc74e55c2756006c2e3836791e686da87212d2fb823421f3744ac01945fbe"
      },
      "kernelspec": {
         "display_name": "Python 3.9.5 ('milan-env': venv)",
         "language": "python",
         "name": "python3"
      },
      "language_info": {
         "codemirror_mode": {
            "name": "ipython",
            "version": 3
         },
         "file_extension": ".py",
         "mimetype": "text/x-python",
         "name": "python",
         "nbconvert_exporter": "python",
         "pygments_lexer": "ipython3",
         "version": "3.9.5"
      },
      "orig_nbformat": 4
   },
   "nbformat": 4,
   "nbformat_minor": 2
}
