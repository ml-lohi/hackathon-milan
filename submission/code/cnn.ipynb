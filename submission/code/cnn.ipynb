{
 "cells": [
  {
   "cell_type": "markdown",
   "metadata": {},
   "source": [
    "# Simple CNN notebook"
   ]
  },
  {
   "cell_type": "markdown",
   "metadata": {},
   "source": [
    "## Import Libraries"
   ]
  },
  {
   "cell_type": "code",
   "execution_count": 2,
   "metadata": {},
   "outputs": [],
   "source": [
    "%matplotlib inline\n",
    "import numpy as np\n",
    "from utils.helper import read_data, morphology\n",
    "from tensorflow import keras\n",
    "FOLDER = \"data/data_big/\"\n",
    "MORPHOLOGY_ACTIVATED = False"
   ]
  },
  {
   "cell_type": "markdown",
   "metadata": {},
   "source": [
    "## Load data"
   ]
  },
  {
   "cell_type": "code",
   "execution_count": 3,
   "metadata": {},
   "outputs": [
    {
     "name": "stdout",
     "output_type": "stream",
     "text": [
      "----------------Shapes----------------\n",
      "empty: (480, 5, 3, 64, 64)\n",
      "1p: (480, 5, 3, 64, 64)\n",
      "2p: (480, 5, 3, 64, 64)\n",
      "3p: (480, 5, 3, 64, 64)\n"
     ]
    }
   ],
   "source": [
    "data_empty = read_data(FOLDER + \"empty.csv\")\n",
    "data_1p = read_data(FOLDER + \"1p.csv\")\n",
    "data_2p = read_data(FOLDER + \"2p.csv\")\n",
    "data_3p = read_data(FOLDER + \"3p.csv\")\n",
    "print(\"----------------Shapes----------------\")\n",
    "print(\"empty:\", data_empty.shape)\n",
    "print(\"1p:\", data_1p.shape)\n",
    "print(\"2p:\", data_2p.shape)\n",
    "print(\"3p:\", data_3p.shape)"
   ]
  },
  {
   "cell_type": "code",
   "execution_count": 4,
   "metadata": {},
   "outputs": [],
   "source": [
    "LENGTH_EMPTY = data_empty.shape[0]\n",
    "LENGTH_1P = data_1p.shape[0]\n",
    "LENGTH_2P = data_2p.shape[0]\n",
    "LENGTH_3P = data_3p.shape[0]"
   ]
  },
  {
   "cell_type": "code",
   "execution_count": 5,
   "metadata": {},
   "outputs": [],
   "source": [
    "data_empty_summed = np.abs(np.sum(data_empty, axis=1)) \n",
    "data_1p_summed = np.abs(np.sum(data_1p, axis=1))\n",
    "data_2p_summed = np.abs(np.sum(data_2p, axis=1))\n",
    "data_3p_summed = np.abs(np.sum(data_3p, axis=1))"
   ]
  },
  {
   "cell_type": "code",
   "execution_count": 6,
   "metadata": {},
   "outputs": [],
   "source": [
    "data_empty_summed[:, :, 32, :] = 0\n",
    "data_1p_summed[:, :, 32, :] = 0\n",
    "data_2p_summed[:, :, 32, :] = 0\n",
    "data_3p_summed[:, :, 32, :] = 0"
   ]
  },
  {
   "cell_type": "code",
   "execution_count": 7,
   "metadata": {},
   "outputs": [],
   "source": [
    "if MORPHOLOGY_ACTIVATED == True:\n",
    "    data_empty_summed =  morphology(data_empty_summed)\n",
    "    data_1p_summed =  morphology(data_1p_summed)\n",
    "    data_2p_summed =  morphology(data_2p_summed)\n",
    "    data_3p_summed =  morphology(data_3p_summed)"
   ]
  },
  {
   "cell_type": "code",
   "execution_count": 8,
   "metadata": {},
   "outputs": [
    {
     "name": "stdout",
     "output_type": "stream",
     "text": [
      "(480, 64, 64, 3)\n",
      "(480, 64, 64, 3)\n",
      "(480, 64, 64, 3)\n",
      "(480, 64, 64, 3)\n"
     ]
    }
   ],
   "source": [
    "data_0 = np.moveaxis(data_empty_summed, 1,3)\n",
    "data_1 = np.moveaxis(data_1p_summed, 1,3)\n",
    "data_2 = np.moveaxis(data_2p_summed, 1,3)\n",
    "data_3 = np.moveaxis(data_3p_summed, 1,3)\n",
    "print(data_0.shape)\n",
    "print(data_1.shape)\n",
    "print(data_2.shape)\n",
    "print(data_3.shape)"
   ]
  },
  {
   "cell_type": "code",
   "execution_count": 9,
   "metadata": {},
   "outputs": [
    {
     "data": {
      "text/plain": [
       "(1920, 64, 64, 3)"
      ]
     },
     "execution_count": 9,
     "metadata": {},
     "output_type": "execute_result"
    }
   ],
   "source": [
    "data_tot = np.concatenate((data_0, data_1, data_2, data_3), axis=0)\n",
    "data_tot.shape"
   ]
  },
  {
   "cell_type": "markdown",
   "metadata": {},
   "source": [
    "### Create Labels"
   ]
  },
  {
   "cell_type": "code",
   "execution_count": 10,
   "metadata": {},
   "outputs": [
    {
     "name": "stdout",
     "output_type": "stream",
     "text": [
      "Labels shape: (1920,)\n"
     ]
    }
   ],
   "source": [
    "labels_empty = np.zeros(LENGTH_EMPTY)\n",
    "labels_1p = np.ones(LENGTH_1P)\n",
    "labels_2p = np.ones(LENGTH_2P) * 2\n",
    "labels_3p = np.ones(LENGTH_3P) * 3\n",
    "labels = np.concatenate((labels_empty, labels_1p, labels_2p, labels_3p), axis=0)\n",
    "print(\"Labels shape:\", labels.shape)"
   ]
  },
  {
   "cell_type": "code",
   "execution_count": 11,
   "metadata": {},
   "outputs": [
    {
     "name": "stdout",
     "output_type": "stream",
     "text": [
      "Labels abels one hot shape: (1920, 4)\n"
     ]
    }
   ],
   "source": [
    "train_labels_one_hot = np.eye(4)[labels.astype(int)]\n",
    "print(\"Labels abels one hot shape:\", train_labels_one_hot.shape)"
   ]
  },
  {
   "cell_type": "code",
   "execution_count": 12,
   "metadata": {},
   "outputs": [
    {
     "name": "stdout",
     "output_type": "stream",
     "text": [
      "Shape train_X: (1536, 64, 64, 3)\n",
      "Shape test_X: (384, 64, 64, 3)\n",
      "Shape train_y: (1536, 4)\n",
      "Shape test_y: (384, 4)\n"
     ]
    }
   ],
   "source": [
    "from sklearn.model_selection import train_test_split\n",
    "train_X, test_X, train_y, test_y = train_test_split(data_tot, train_labels_one_hot, test_size=0.2, stratify = train_labels_one_hot)\n",
    "print(f\"Shape train_X: {train_X.shape}\")\n",
    "print(f\"Shape test_X: {test_X.shape}\")\n",
    "print(f\"Shape train_y: {train_y.shape}\")\n",
    "print(f\"Shape test_y: {test_y.shape}\")"
   ]
  },
  {
   "cell_type": "code",
   "execution_count": 13,
   "metadata": {},
   "outputs": [
    {
     "name": "stdout",
     "output_type": "stream",
     "text": [
      "Model: \"sequential\"\n",
      "_________________________________________________________________\n",
      " Layer (type)                Output Shape              Param #   \n",
      "=================================================================\n",
      " conv2d (Conv2D)             (None, 64, 64, 8)         608       \n",
      "                                                                 \n",
      " max_pooling2d (MaxPooling2D  (None, 32, 32, 8)        0         \n",
      " )                                                               \n",
      "                                                                 \n",
      " conv2d_1 (Conv2D)           (None, 32, 32, 8)         584       \n",
      "                                                                 \n",
      " max_pooling2d_1 (MaxPooling  (None, 16, 16, 8)        0         \n",
      " 2D)                                                             \n",
      "                                                                 \n",
      " conv2d_2 (Conv2D)           (None, 16, 16, 8)         584       \n",
      "                                                                 \n",
      " max_pooling2d_2 (MaxPooling  (None, 8, 8, 8)          0         \n",
      " 2D)                                                             \n",
      "                                                                 \n",
      " flatten (Flatten)           (None, 512)               0         \n",
      "                                                                 \n",
      " dense (Dense)               (None, 4)                 2052      \n",
      "                                                                 \n",
      " activation (Activation)     (None, 4)                 0         \n",
      "                                                                 \n",
      "=================================================================\n",
      "Total params: 3,828\n",
      "Trainable params: 3,828\n",
      "Non-trainable params: 0\n",
      "_________________________________________________________________\n",
      "None\n"
     ]
    },
    {
     "name": "stderr",
     "output_type": "stream",
     "text": [
      "2022-05-26 09:20:59.354725: I tensorflow/core/platform/cpu_feature_guard.cc:193] This TensorFlow binary is optimized with oneAPI Deep Neural Network Library (oneDNN) to use the following CPU instructions in performance-critical operations:  AVX2 FMA\n",
      "To enable them in other operations, rebuild TensorFlow with the appropriate compiler flags.\n"
     ]
    }
   ],
   "source": [
    "models = keras.models\n",
    "layers = keras.layers\n",
    "\n",
    "model = models.Sequential(\n",
    "    [\n",
    "        layers.Conv2D(8,\n",
    "                      input_shape = (64,64,3),\n",
    "                      kernel_size = 5,\n",
    "                      padding = \"same\",\n",
    "                      activation = \"relu\"),\n",
    "        layers.MaxPooling2D(2,\n",
    "                            strides = None,\n",
    "                            padding = \"valid\"),\n",
    "        layers.Conv2D(8,\n",
    "                      input_shape = (32,32,8),\n",
    "                      kernel_size = 3,\n",
    "                      padding = \"same\",\n",
    "                      activation = \"relu\"),\n",
    "        layers.MaxPooling2D(2,\n",
    "                    strides = None,\n",
    "                    padding = \"valid\"),\n",
    "        layers.Conv2D(8,\n",
    "                      input_shape = (16,16,8),\n",
    "                      kernel_size = 3,\n",
    "                      padding = \"same\",\n",
    "                      activation = \"relu\"),\n",
    "        layers.MaxPooling2D(2,\n",
    "                    strides = None,\n",
    "                    padding = \"valid\"),\n",
    "        layers.Flatten(),\n",
    "        layers.Dense(4),\n",
    "        layers.Activation(\"softmax\")\n",
    "    ]\n",
    ")\n",
    "print(model.summary())"
   ]
  },
  {
   "cell_type": "code",
   "execution_count": 14,
   "metadata": {},
   "outputs": [
    {
     "name": "stdout",
     "output_type": "stream",
     "text": [
      "Epoch 1/20\n",
      "44/44 [==============================] - 2s 35ms/step - loss: 1.2726 - accuracy: 0.3017 - val_loss: 1.1726 - val_accuracy: 0.5779\n",
      "Epoch 2/20\n",
      "44/44 [==============================] - 2s 35ms/step - loss: 0.9925 - accuracy: 0.5984 - val_loss: 0.8029 - val_accuracy: 0.6494\n",
      "Epoch 3/20\n",
      "44/44 [==============================] - 2s 37ms/step - loss: 0.6887 - accuracy: 0.6961 - val_loss: 0.6378 - val_accuracy: 0.7338\n",
      "Epoch 4/20\n",
      "44/44 [==============================] - 2s 42ms/step - loss: 0.5790 - accuracy: 0.7366 - val_loss: 0.5567 - val_accuracy: 0.7597\n",
      "Epoch 5/20\n",
      "44/44 [==============================] - 2s 38ms/step - loss: 0.4606 - accuracy: 0.8148 - val_loss: 0.4746 - val_accuracy: 0.8052\n",
      "Epoch 6/20\n",
      "44/44 [==============================] - 2s 38ms/step - loss: 0.4155 - accuracy: 0.8285 - val_loss: 0.4450 - val_accuracy: 0.8182\n",
      "Epoch 7/20\n",
      "44/44 [==============================] - 2s 35ms/step - loss: 0.3764 - accuracy: 0.8466 - val_loss: 0.4481 - val_accuracy: 0.8182\n",
      "Epoch 8/20\n",
      "44/44 [==============================] - 1s 34ms/step - loss: 0.3632 - accuracy: 0.8444 - val_loss: 0.4239 - val_accuracy: 0.7792\n",
      "Epoch 9/20\n",
      "44/44 [==============================] - 2s 36ms/step - loss: 0.3356 - accuracy: 0.8603 - val_loss: 0.4818 - val_accuracy: 0.7792\n",
      "Epoch 10/20\n",
      "44/44 [==============================] - 2s 34ms/step - loss: 0.2966 - accuracy: 0.8741 - val_loss: 0.3666 - val_accuracy: 0.8312\n",
      "Epoch 11/20\n",
      "44/44 [==============================] - 2s 37ms/step - loss: 0.2893 - accuracy: 0.8835 - val_loss: 0.3687 - val_accuracy: 0.8312\n",
      "Epoch 12/20\n",
      "44/44 [==============================] - 2s 35ms/step - loss: 0.2665 - accuracy: 0.8951 - val_loss: 0.4121 - val_accuracy: 0.8312\n",
      "Epoch 13/20\n",
      "44/44 [==============================] - 2s 35ms/step - loss: 0.2497 - accuracy: 0.8987 - val_loss: 0.3230 - val_accuracy: 0.8701\n",
      "Epoch 14/20\n",
      "44/44 [==============================] - 2s 37ms/step - loss: 0.2249 - accuracy: 0.9182 - val_loss: 0.3578 - val_accuracy: 0.8312\n",
      "Epoch 15/20\n",
      "44/44 [==============================] - 2s 35ms/step - loss: 0.2171 - accuracy: 0.9175 - val_loss: 0.3764 - val_accuracy: 0.8312\n",
      "Epoch 16/20\n",
      "44/44 [==============================] - 2s 35ms/step - loss: 0.2389 - accuracy: 0.9038 - val_loss: 0.3684 - val_accuracy: 0.8571\n"
     ]
    },
    {
     "name": "stderr",
     "output_type": "stream",
     "text": [
      "WARNING:absl:Found untraced functions such as _jit_compiled_convolution_op, _jit_compiled_convolution_op, _jit_compiled_convolution_op while saving (showing 3 of 3). These functions will not be directly callable after loading.\n"
     ]
    },
    {
     "name": "stdout",
     "output_type": "stream",
     "text": [
      "INFO:tensorflow:Assets written to: models/CNN_new/assets\n"
     ]
    },
    {
     "name": "stderr",
     "output_type": "stream",
     "text": [
      "INFO:tensorflow:Assets written to: models/CNN_new/assets\n"
     ]
    }
   ],
   "source": [
    "model.compile(\n",
    "    loss = \"categorical_crossentropy\",\n",
    "    optimizer = keras.optimizers.Adam(learning_rate = 0.001),\n",
    "    metrics = ['accuracy']\n",
    ")\n",
    "\n",
    "model.fit(\n",
    "    train_X, train_y,\n",
    "    epochs  = 20,\n",
    "    verbose = 1,\n",
    "    validation_split = 0.1,\n",
    "    shuffle= True,\n",
    "    callbacks=[keras.callbacks.EarlyStopping(patience = 3),\n",
    "               keras.callbacks.CSVLogger('history/historyCNN.csv')]\n",
    ")\n",
    "if MORPHOLOGY_ACTIVATED == True:\n",
    "    model.save(\"models/CNN_morphology\")\n",
    "else:\n",
    "    model.save(\"models/CNN_new\")"
   ]
  },
  {
   "cell_type": "code",
   "execution_count": 15,
   "metadata": {},
   "outputs": [
    {
     "name": "stdout",
     "output_type": "stream",
     "text": [
      "12/12 [==============================] - 0s 9ms/step - loss: 0.3333 - accuracy: 0.8568\n",
      "Loss: 0.33327415585517883\n",
      "Accuracy: 0.8567708134651184\n"
     ]
    }
   ],
   "source": [
    "loss, aacuracy = model.evaluate(test_X, test_y)\n",
    "print(f\"Loss: {loss}\")\n",
    "print(f\"Accuracy: {aacuracy}\")"
   ]
  }
 ],
 "metadata": {
  "interpreter": {
   "hash": "e9e121ccb797ab3f030cb728ec4f68e7f9a9ead1118d485a64bc791f040af0d8"
  },
  "kernelspec": {
   "display_name": "Python 3.8.8 ('venv': venv)",
   "language": "python",
   "name": "python3"
  },
  "language_info": {
   "codemirror_mode": {
    "name": "ipython",
    "version": 3
   },
   "file_extension": ".py",
   "mimetype": "text/x-python",
   "name": "python",
   "nbconvert_exporter": "python",
   "pygments_lexer": "ipython3",
   "version": "3.8.8"
  },
  "orig_nbformat": 4
 },
 "nbformat": 4,
 "nbformat_minor": 2
}
