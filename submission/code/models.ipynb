{
 "cells": [
  {
   "cell_type": "markdown",
   "metadata": {},
   "source": [
    "# Simple CNN notebook"
   ]
  },
  {
   "cell_type": "markdown",
   "metadata": {},
   "source": [
    "## Import Libraries"
   ]
  },
  {
   "cell_type": "code",
   "execution_count": null,
   "metadata": {},
   "outputs": [],
   "source": [
    "%matplotlib inline\n",
    "import numpy as np\n",
    "from utils.helper import read_data, blur, to_real, morphology\n",
    "import cv2\n",
    "import matplotlib.pyplot as plt\n",
    "from tensorflow import keras\n",
    "FOLDER = \"data/\"\n",
    "NUMBER_OF_RADARS = 3"
   ]
  },
  {
   "cell_type": "markdown",
   "metadata": {},
   "source": [
    "## Load data"
   ]
  },
  {
   "cell_type": "code",
   "execution_count": null,
   "metadata": {},
   "outputs": [],
   "source": [
    "data_empty = read_data(FOLDER + \"empty.csv\")\n",
    "data_1p = read_data(FOLDER + \"1p.csv\")\n",
    "data_2p = read_data(FOLDER + \"2p.csv\")\n",
    "data_3p = read_data(FOLDER + \"3p.csv\")\n",
    "print(\"----------------Shapes----------------\")\n",
    "print(\"empty:\", data_empty.shape)\n",
    "print(\"1p:\", data_1p.shape)\n",
    "print(\"2p:\", data_2p.shape)\n",
    "print(\"3p:\", data_3p.shape)"
   ]
  },
  {
   "cell_type": "code",
   "execution_count": null,
   "metadata": {},
   "outputs": [],
   "source": [
    "LENGTH_EMPTY = data_empty.shape[0]\n",
    "LENGTH_1P = data_1p.shape[0]\n",
    "LENGTH_2P = data_2p.shape[0]\n",
    "LENGTH_3P = data_3p.shape[0]"
   ]
  },
  {
   "cell_type": "code",
   "execution_count": null,
   "metadata": {},
   "outputs": [],
   "source": [
    "data_empty_summed = to_real(np.sum(data_empty, axis=1)) \n",
    "data_1p_summed = to_real(np.sum(data_1p, axis=1))\n",
    "data_2p_summed = to_real(np.sum(data_2p, axis=1))\n",
    "data_3p_summed = to_real(np.sum(data_3p, axis=1))"
   ]
  },
  {
   "cell_type": "code",
   "execution_count": null,
   "metadata": {},
   "outputs": [],
   "source": [
    "data_0 = np.sum(data_empty_summed,axis = 1)\n",
    "data_1 = np.sum(data_1p_summed,axis = 1)\n",
    "data_2 = np.sum(data_2p_summed,axis = 1)\n",
    "data_3 = np.sum(data_3p_summed,axis = 1)"
   ]
  },
  {
   "cell_type": "code",
   "execution_count": null,
   "metadata": {},
   "outputs": [],
   "source": [
    "data_tot = np.concatenate((data_0, data_1, data_2, data_3), axis=0)\n",
    "data_tot.shape"
   ]
  },
  {
   "cell_type": "markdown",
   "metadata": {},
   "source": [
    "### Create Labels"
   ]
  },
  {
   "cell_type": "code",
   "execution_count": null,
   "metadata": {},
   "outputs": [],
   "source": [
    "labels_empty = np.zeros(LENGTH_EMPTY)\n",
    "labels_1p = np.ones(LENGTH_1P)\n",
    "labels_2p = np.ones(LENGTH_2P) * 2\n",
    "labels_3p = np.ones(LENGTH_3P) * 3\n",
    "labels = np.concatenate((labels_empty, labels_1p, labels_2p, labels_3p), axis=0)\n",
    "print(\"Labels shape:\", labels.shape)"
   ]
  },
  {
   "cell_type": "code",
   "execution_count": null,
   "metadata": {},
   "outputs": [],
   "source": [
    "train_labels_one_hot = np.eye(4)[labels.astype(int)]\n",
    "print(\"Labels abels one hot shape:\", train_labels_one_hot.shape)"
   ]
  },
  {
   "cell_type": "code",
   "execution_count": null,
   "metadata": {},
   "outputs": [],
   "source": [
    "from sklearn.model_selection import train_test_split\n",
    "train_X, test_X, train_y, test_y = train_test_split(data_tot, train_labels_one_hot, test_size=0.1)\n",
    "print(f\"Shape train_X: {train_X.shape}\")\n",
    "print(f\"Shape test_X: {test_X.shape}\")\n",
    "print(f\"Shape train_y: {train_y.shape}\")\n",
    "print(f\"Shape test_y: {test_y.shape}\")"
   ]
  },
  {
   "cell_type": "code",
   "execution_count": 39,
   "metadata": {},
   "outputs": [
    {
     "name": "stdout",
     "output_type": "stream",
     "text": [
      "Model: \"sequential_3\"\n",
      "_________________________________________________________________\n",
      " Layer (type)                Output Shape              Param #   \n",
      "=================================================================\n",
      " conv2d_4 (Conv2D)           (None, 64, 64, 8)         208       \n",
      "                                                                 \n",
      " max_pooling2d_3 (MaxPooling  (None, 32, 32, 8)        0         \n",
      " 2D)                                                             \n",
      "                                                                 \n",
      " conv2d_5 (Conv2D)           (None, 32, 32, 8)         584       \n",
      "                                                                 \n",
      " flatten_3 (Flatten)         (None, 8192)              0         \n",
      "                                                                 \n",
      " dense_3 (Dense)             (None, 4)                 32772     \n",
      "                                                                 \n",
      " activation_3 (Activation)   (None, 4)                 0         \n",
      "                                                                 \n",
      "=================================================================\n",
      "Total params: 33,564\n",
      "Trainable params: 33,564\n",
      "Non-trainable params: 0\n",
      "_________________________________________________________________\n",
      "None\n"
     ]
    }
   ],
   "source": [
    "models = keras.models\n",
    "layers = keras.layers\n",
    "\n",
    "model = models.Sequential(\n",
    "    [\n",
    "        layers.Conv2D(8,\n",
    "                      input_shape = (64,64,1),\n",
    "                      kernel_size = 5,\n",
    "                      padding = \"same\",\n",
    "                      activation = \"relu\"),\n",
    "        layers.MaxPooling2D(2,\n",
    "                            strides = None,\n",
    "                            padding = \"valid\"),\n",
    "        layers.Conv2D(8,\n",
    "                      input_shape = (32,32,1),\n",
    "                      kernel_size = 3,\n",
    "                      padding = \"same\",\n",
    "                      activation = \"relu\"),\n",
    "        layers.Flatten(),\n",
    "        layers.Dense(4),\n",
    "        layers.Activation(\"softmax\")\n",
    "    ]\n",
    ")\n",
    "print(model.summary())"
   ]
  },
  {
   "cell_type": "code",
   "execution_count": 40,
   "metadata": {},
   "outputs": [
    {
     "name": "stdout",
     "output_type": "stream",
     "text": [
      "Epoch 1/10\n",
      "7/7 [==============================] - 1s 43ms/step - loss: 4.8478 - accuracy: 0.2423 - val_loss: 3.5877 - val_accuracy: 0.3182\n",
      "Epoch 2/10\n",
      "7/7 [==============================] - 0s 24ms/step - loss: 2.2141 - accuracy: 0.5155 - val_loss: 1.0320 - val_accuracy: 0.4545\n",
      "Epoch 3/10\n",
      "7/7 [==============================] - 0s 26ms/step - loss: 1.5193 - accuracy: 0.4278 - val_loss: 1.0332 - val_accuracy: 0.4091\n",
      "Epoch 4/10\n",
      "7/7 [==============================] - 0s 34ms/step - loss: 0.9708 - accuracy: 0.6237 - val_loss: 0.7671 - val_accuracy: 0.7273\n",
      "Epoch 5/10\n",
      "7/7 [==============================] - 0s 25ms/step - loss: 0.8590 - accuracy: 0.6237 - val_loss: 0.7825 - val_accuracy: 0.6818\n",
      "Epoch 6/10\n",
      "7/7 [==============================] - 0s 24ms/step - loss: 0.6533 - accuracy: 0.7474 - val_loss: 0.6966 - val_accuracy: 0.7727\n",
      "Epoch 7/10\n",
      "7/7 [==============================] - 0s 26ms/step - loss: 0.8048 - accuracy: 0.6907 - val_loss: 0.5283 - val_accuracy: 0.7727\n",
      "Epoch 8/10\n",
      "7/7 [==============================] - 0s 24ms/step - loss: 0.6277 - accuracy: 0.7835 - val_loss: 0.4126 - val_accuracy: 0.9545\n",
      "Epoch 9/10\n",
      "7/7 [==============================] - 0s 24ms/step - loss: 0.4856 - accuracy: 0.8247 - val_loss: 0.4161 - val_accuracy: 0.8636\n",
      "Epoch 10/10\n",
      "7/7 [==============================] - 0s 24ms/step - loss: 0.7130 - accuracy: 0.7784 - val_loss: 0.4895 - val_accuracy: 0.7727\n"
     ]
    },
    {
     "name": "stderr",
     "output_type": "stream",
     "text": [
      "WARNING:absl:Found untraced functions such as _jit_compiled_convolution_op, _jit_compiled_convolution_op while saving (showing 2 of 2). These functions will not be directly callable after loading.\n"
     ]
    },
    {
     "name": "stdout",
     "output_type": "stream",
     "text": [
      "INFO:tensorflow:Assets written to: models/CNN/assets\n"
     ]
    },
    {
     "name": "stderr",
     "output_type": "stream",
     "text": [
      "INFO:tensorflow:Assets written to: models/CNN/assets\n"
     ]
    }
   ],
   "source": [
    "model.compile(\n",
    "    loss = \"categorical_crossentropy\",\n",
    "    optimizer = keras.optimizers.Adam(learning_rate = 0.001),\n",
    "    metrics = ['accuracy']\n",
    ")\n",
    "\n",
    "model.fit(\n",
    "    train_X, train_y,\n",
    "    epochs  = 10,\n",
    "    verbose = 1,\n",
    "    validation_split = 0.1,\n",
    "    shuffle= True,\n",
    "    callbacks=keras.callbacks.EarlyStopping(patience = 10)\n",
    ")\n",
    "\n",
    "model.save('models/CNN')"
   ]
  },
  {
   "cell_type": "code",
   "execution_count": 41,
   "metadata": {},
   "outputs": [
    {
     "name": "stdout",
     "output_type": "stream",
     "text": [
      "1/1 [==============================] - 0s 23ms/step - loss: 0.7151 - accuracy: 0.6250\n",
      "Loss: 0.7150587439537048\n",
      "Accuracy: 0.625\n"
     ]
    }
   ],
   "source": [
    "loss, aacuracy = model.evaluate(test_X, test_y)\n",
    "print(f\"Loss: {loss}\")\n",
    "print(f\"Accuracy: {aacuracy}\")"
   ]
  }
 ],
 "metadata": {
  "interpreter": {
   "hash": "e9e121ccb797ab3f030cb728ec4f68e7f9a9ead1118d485a64bc791f040af0d8"
  },
  "kernelspec": {
   "display_name": "Python 3.8.8 ('venv': venv)",
   "language": "python",
   "name": "python3"
  },
  "language_info": {
   "codemirror_mode": {
    "name": "ipython",
    "version": 3
   },
   "file_extension": ".py",
   "mimetype": "text/x-python",
   "name": "python",
   "nbconvert_exporter": "python",
   "pygments_lexer": "ipython3",
   "version": "3.8.8"
  },
  "orig_nbformat": 4
 },
 "nbformat": 4,
 "nbformat_minor": 2
}
