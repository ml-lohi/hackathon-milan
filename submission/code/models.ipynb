{
 "cells": [
  {
   "cell_type": "markdown",
   "metadata": {},
   "source": [
    "# Simple CNN notebook"
   ]
  },
  {
   "cell_type": "markdown",
   "metadata": {},
   "source": [
    "## Import Libraries"
   ]
  },
  {
   "cell_type": "code",
   "execution_count": 1,
   "metadata": {},
   "outputs": [],
   "source": [
    "%matplotlib inline\n",
    "import numpy as np\n",
    "from utils.helper import read_data, blur, to_real, morphology\n",
    "from tensorflow import keras\n",
    "FOLDER = \"data/data_big/\""
   ]
  },
  {
   "cell_type": "markdown",
   "metadata": {},
   "source": [
    "## Load data"
   ]
  },
  {
   "cell_type": "code",
   "execution_count": 2,
   "metadata": {},
   "outputs": [
    {
     "name": "stdout",
     "output_type": "stream",
     "text": [
      "----------------Shapes----------------\n",
      "empty: (480, 5, 3, 64, 64)\n",
      "1p: (480, 5, 3, 64, 64)\n",
      "2p: (480, 5, 3, 64, 64)\n",
      "3p: (480, 5, 3, 64, 64)\n"
     ]
    }
   ],
   "source": [
    "data_empty = read_data(FOLDER + \"empty.csv\")\n",
    "data_1p = read_data(FOLDER + \"1p.csv\")\n",
    "data_2p = read_data(FOLDER + \"2p.csv\")\n",
    "data_3p = read_data(FOLDER + \"3p.csv\")\n",
    "print(\"----------------Shapes----------------\")\n",
    "print(\"empty:\", data_empty.shape)\n",
    "print(\"1p:\", data_1p.shape)\n",
    "print(\"2p:\", data_2p.shape)\n",
    "print(\"3p:\", data_3p.shape)"
   ]
  },
  {
   "cell_type": "code",
   "execution_count": 3,
   "metadata": {},
   "outputs": [],
   "source": [
    "LENGTH_EMPTY = data_empty.shape[0]\n",
    "LENGTH_1P = data_1p.shape[0]\n",
    "LENGTH_2P = data_2p.shape[0]\n",
    "LENGTH_3P = data_3p.shape[0]"
   ]
  },
  {
   "cell_type": "code",
   "execution_count": 4,
   "metadata": {},
   "outputs": [
    {
     "name": "stderr",
     "output_type": "stream",
     "text": [
      "/Users/kostiantynlavronenko/Desktop/Eestech/hackathon-milan/submission/code/utils/helper.py:41: ComplexWarning: Casting complex values to real discards the imaginary part\n",
      "  return data_real.astype(float)\n"
     ]
    }
   ],
   "source": [
    "data_empty_summed = to_real(np.sum(data_empty, axis=1)) \n",
    "data_1p_summed = to_real(np.sum(data_1p, axis=1))\n",
    "data_2p_summed = to_real(np.sum(data_2p, axis=1))\n",
    "data_3p_summed = to_real(np.sum(data_3p, axis=1))"
   ]
  },
  {
   "cell_type": "code",
   "execution_count": 5,
   "metadata": {},
   "outputs": [
    {
     "name": "stdout",
     "output_type": "stream",
     "text": [
      "(480, 64, 64, 3)\n",
      "(480, 64, 64, 3)\n",
      "(480, 64, 64, 3)\n",
      "(480, 64, 64, 3)\n"
     ]
    }
   ],
   "source": [
    "data_0 = np.moveaxis(data_empty_summed, 1,3)\n",
    "data_1 = np.moveaxis(data_1p_summed, 1,3)\n",
    "data_2 = np.moveaxis(data_2p_summed, 1,3)\n",
    "data_3 = np.moveaxis(data_3p_summed, 1,3)\n",
    "print(data_0.shape)\n",
    "print(data_1.shape)\n",
    "print(data_2.shape)\n",
    "print(data_3.shape)"
   ]
  },
  {
   "cell_type": "code",
   "execution_count": 6,
   "metadata": {},
   "outputs": [
    {
     "data": {
      "text/plain": [
       "(1920, 64, 64, 3)"
      ]
     },
     "execution_count": 6,
     "metadata": {},
     "output_type": "execute_result"
    }
   ],
   "source": [
    "data_tot = np.concatenate((data_0, data_1, data_2, data_3), axis=0)\n",
    "data_tot.shape"
   ]
  },
  {
   "cell_type": "markdown",
   "metadata": {},
   "source": [
    "### Create Labels"
   ]
  },
  {
   "cell_type": "code",
   "execution_count": 7,
   "metadata": {},
   "outputs": [
    {
     "name": "stdout",
     "output_type": "stream",
     "text": [
      "Labels shape: (1920,)\n"
     ]
    }
   ],
   "source": [
    "labels_empty = np.zeros(LENGTH_EMPTY)\n",
    "labels_1p = np.ones(LENGTH_1P)\n",
    "labels_2p = np.ones(LENGTH_2P) * 2\n",
    "labels_3p = np.ones(LENGTH_3P) * 3\n",
    "labels = np.concatenate((labels_empty, labels_1p, labels_2p, labels_3p), axis=0)\n",
    "print(\"Labels shape:\", labels.shape)"
   ]
  },
  {
   "cell_type": "code",
   "execution_count": 8,
   "metadata": {},
   "outputs": [
    {
     "name": "stdout",
     "output_type": "stream",
     "text": [
      "Labels abels one hot shape: (1920, 4)\n"
     ]
    }
   ],
   "source": [
    "train_labels_one_hot = np.eye(4)[labels.astype(int)]\n",
    "print(\"Labels abels one hot shape:\", train_labels_one_hot.shape)"
   ]
  },
  {
   "cell_type": "code",
   "execution_count": 9,
   "metadata": {},
   "outputs": [
    {
     "name": "stdout",
     "output_type": "stream",
     "text": [
      "Shape train_X: (1536, 64, 64, 3)\n",
      "Shape test_X: (384, 64, 64, 3)\n",
      "Shape train_y: (1536, 4)\n",
      "Shape test_y: (384, 4)\n"
     ]
    }
   ],
   "source": [
    "from sklearn.model_selection import train_test_split\n",
    "train_X, test_X, train_y, test_y = train_test_split(data_tot, train_labels_one_hot, test_size=0.2, stratify = train_labels_one_hot)\n",
    "print(f\"Shape train_X: {train_X.shape}\")\n",
    "print(f\"Shape test_X: {test_X.shape}\")\n",
    "print(f\"Shape train_y: {train_y.shape}\")\n",
    "print(f\"Shape test_y: {test_y.shape}\")"
   ]
  },
  {
   "cell_type": "code",
   "execution_count": 10,
   "metadata": {},
   "outputs": [
    {
     "name": "stdout",
     "output_type": "stream",
     "text": [
      "Model: \"sequential\"\n",
      "_________________________________________________________________\n",
      " Layer (type)                Output Shape              Param #   \n",
      "=================================================================\n",
      " conv2d (Conv2D)             (None, 64, 64, 8)         608       \n",
      "                                                                 \n",
      " max_pooling2d (MaxPooling2D  (None, 32, 32, 8)        0         \n",
      " )                                                               \n",
      "                                                                 \n",
      " conv2d_1 (Conv2D)           (None, 32, 32, 4)         292       \n",
      "                                                                 \n",
      " max_pooling2d_1 (MaxPooling  (None, 16, 16, 4)        0         \n",
      " 2D)                                                             \n",
      "                                                                 \n",
      " flatten (Flatten)           (None, 1024)              0         \n",
      "                                                                 \n",
      " dense (Dense)               (None, 4)                 4100      \n",
      "                                                                 \n",
      " activation (Activation)     (None, 4)                 0         \n",
      "                                                                 \n",
      "=================================================================\n",
      "Total params: 5,000\n",
      "Trainable params: 5,000\n",
      "Non-trainable params: 0\n",
      "_________________________________________________________________\n",
      "None\n"
     ]
    },
    {
     "name": "stderr",
     "output_type": "stream",
     "text": [
      "2022-05-25 16:45:45.849089: I tensorflow/core/platform/cpu_feature_guard.cc:193] This TensorFlow binary is optimized with oneAPI Deep Neural Network Library (oneDNN) to use the following CPU instructions in performance-critical operations:  AVX2 FMA\n",
      "To enable them in other operations, rebuild TensorFlow with the appropriate compiler flags.\n"
     ]
    }
   ],
   "source": [
    "models = keras.models\n",
    "layers = keras.layers\n",
    "\n",
    "model = models.Sequential(\n",
    "    [\n",
    "        layers.Conv2D(8,\n",
    "                      input_shape = (64,64,3),\n",
    "                      kernel_size = 5,\n",
    "                      padding = \"same\",\n",
    "                      activation = \"relu\"),\n",
    "        layers.MaxPooling2D(2,\n",
    "                            strides = None,\n",
    "                            padding = \"valid\"),\n",
    "        layers.Conv2D(4,\n",
    "                      input_shape = (32,32,3),\n",
    "                      kernel_size = 3,\n",
    "                      padding = \"same\",\n",
    "                      activation = \"relu\"),\n",
    "        layers.MaxPooling2D(2,\n",
    "                    strides = None,\n",
    "                    padding = \"valid\"),\n",
    "        layers.Flatten(),\n",
    "        layers.Dense(4),\n",
    "        layers.Activation(\"softmax\")\n",
    "    ]\n",
    ")\n",
    "print(model.summary())"
   ]
  },
  {
   "cell_type": "code",
   "execution_count": 14,
   "metadata": {},
   "outputs": [
    {
     "name": "stdout",
     "output_type": "stream",
     "text": [
      "Epoch 1/20\n",
      "44/44 [==============================] - 2s 36ms/step - loss: 0.0114 - accuracy: 0.9971 - val_loss: 0.0265 - val_accuracy: 0.9870\n",
      "Epoch 2/20\n",
      "44/44 [==============================] - 2s 36ms/step - loss: 0.0059 - accuracy: 0.9986 - val_loss: 0.0075 - val_accuracy: 1.0000\n",
      "Epoch 3/20\n",
      "44/44 [==============================] - 2s 42ms/step - loss: 0.0047 - accuracy: 1.0000 - val_loss: 0.0067 - val_accuracy: 1.0000\n",
      "Epoch 4/20\n",
      "44/44 [==============================] - 2s 44ms/step - loss: 0.0038 - accuracy: 0.9993 - val_loss: 0.0069 - val_accuracy: 1.0000\n",
      "Epoch 5/20\n",
      "44/44 [==============================] - 2s 37ms/step - loss: 0.0030 - accuracy: 1.0000 - val_loss: 0.0033 - val_accuracy: 1.0000\n",
      "Epoch 6/20\n",
      "44/44 [==============================] - 2s 34ms/step - loss: 0.0018 - accuracy: 1.0000 - val_loss: 0.0056 - val_accuracy: 1.0000\n",
      "Epoch 7/20\n",
      "44/44 [==============================] - 2s 35ms/step - loss: 0.0017 - accuracy: 1.0000 - val_loss: 0.0034 - val_accuracy: 1.0000\n",
      "Epoch 8/20\n",
      "44/44 [==============================] - 1s 32ms/step - loss: 0.0012 - accuracy: 1.0000 - val_loss: 0.0032 - val_accuracy: 1.0000\n",
      "Epoch 9/20\n",
      "44/44 [==============================] - 1s 33ms/step - loss: 0.0012 - accuracy: 1.0000 - val_loss: 0.0030 - val_accuracy: 1.0000\n",
      "Epoch 10/20\n",
      "44/44 [==============================] - 1s 31ms/step - loss: 0.0018 - accuracy: 1.0000 - val_loss: 0.0073 - val_accuracy: 1.0000\n",
      "Epoch 11/20\n",
      "44/44 [==============================] - 1s 31ms/step - loss: 0.0019 - accuracy: 1.0000 - val_loss: 0.0036 - val_accuracy: 1.0000\n",
      "Epoch 12/20\n",
      "44/44 [==============================] - 1s 32ms/step - loss: 0.0034 - accuracy: 0.9993 - val_loss: 0.0047 - val_accuracy: 1.0000\n"
     ]
    },
    {
     "name": "stderr",
     "output_type": "stream",
     "text": [
      "WARNING:absl:Found untraced functions such as _jit_compiled_convolution_op, _jit_compiled_convolution_op while saving (showing 2 of 2). These functions will not be directly callable after loading.\n"
     ]
    },
    {
     "name": "stdout",
     "output_type": "stream",
     "text": [
      "INFO:tensorflow:Assets written to: models/CNN/assets\n"
     ]
    },
    {
     "name": "stderr",
     "output_type": "stream",
     "text": [
      "INFO:tensorflow:Assets written to: models/CNN/assets\n"
     ]
    }
   ],
   "source": [
    "model.compile(\n",
    "    loss = \"categorical_crossentropy\",\n",
    "    optimizer = keras.optimizers.Adam(learning_rate = 0.001),\n",
    "    metrics = ['accuracy']\n",
    ")\n",
    "\n",
    "model.fit(\n",
    "    train_X, train_y,\n",
    "    epochs  = 20,\n",
    "    verbose = 1,\n",
    "    validation_split = 0.1,\n",
    "    shuffle= True,\n",
    "    callbacks=[keras.callbacks.EarlyStopping(patience = 3),\n",
    "               keras.callbacks.CSVLogger('history/historyCNN.csv')]\n",
    ")\n",
    "\n",
    "model.save('models/CNN')"
   ]
  },
  {
   "cell_type": "code",
   "execution_count": 15,
   "metadata": {},
   "outputs": [
    {
     "name": "stdout",
     "output_type": "stream",
     "text": [
      "12/12 [==============================] - 0s 11ms/step - loss: 0.0087 - accuracy: 1.0000\n",
      "Loss: 0.008710475638508797\n",
      "Accuracy: 1.0\n"
     ]
    }
   ],
   "source": [
    "loss, aacuracy = model.evaluate(test_X, test_y)\n",
    "print(f\"Loss: {loss}\")\n",
    "print(f\"Accuracy: {aacuracy}\")"
   ]
  }
 ],
 "metadata": {
  "interpreter": {
   "hash": "e9e121ccb797ab3f030cb728ec4f68e7f9a9ead1118d485a64bc791f040af0d8"
  },
  "kernelspec": {
   "display_name": "Python 3.8.8 ('venv': venv)",
   "language": "python",
   "name": "python3"
  },
  "language_info": {
   "codemirror_mode": {
    "name": "ipython",
    "version": 3
   },
   "file_extension": ".py",
   "mimetype": "text/x-python",
   "name": "python",
   "nbconvert_exporter": "python",
   "pygments_lexer": "ipython3",
   "version": "3.8.8"
  },
  "orig_nbformat": 4
 },
 "nbformat": 4,
 "nbformat_minor": 2
}
