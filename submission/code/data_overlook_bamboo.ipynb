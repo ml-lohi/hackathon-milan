{
 "cells": [
  {
   "cell_type": "code",
   "execution_count": 1,
   "metadata": {},
   "outputs": [],
   "source": [
    "import matplotlib.pyplot as plt\n",
    "import numpy as np\n",
    "%matplotlib inline"
   ]
  },
  {
   "cell_type": "markdown",
   "metadata": {},
   "source": [
    "##### Read the data"
   ]
  },
  {
   "cell_type": "code",
   "execution_count": 2,
   "metadata": {},
   "outputs": [
    {
     "name": "stdout",
     "output_type": "stream",
     "text": [
      "one_p.shape: (60, 61440)\n",
      "two_p.shape: (60, 61440)\n",
      "three_p.shape: (80, 61440)\n",
      "empty.shape: (40, 61440)\n"
     ]
    }
   ],
   "source": [
    "PATH = 'data'\n",
    "\n",
    "one_p = np.abs(np.loadtxt(f'{PATH}/1p.csv', dtype=np.complex128))\n",
    "two_p = np.abs(np.loadtxt(f'{PATH}/2p.csv', dtype=np.complex128))\n",
    "three_p = np.abs(np.loadtxt(f'{PATH}/3p.csv', dtype=np.complex128))\n",
    "empty = np.abs(np.loadtxt(f'{PATH}/empty.csv', dtype=np.complex128))\n",
    "print(f\"one_p.shape: {one_p.shape}\")\n",
    "print(f\"two_p.shape: {two_p.shape}\")\n",
    "print(f\"three_p.shape: {three_p.shape}\")\n",
    "print(f\"empty.shape: {empty.shape}\")\n"
   ]
  },
  {
   "cell_type": "code",
   "execution_count": 3,
   "metadata": {},
   "outputs": [
    {
     "name": "stdout",
     "output_type": "stream",
     "text": [
      "one_p.shape: (300, 3, 64, 64)\n",
      "two_p.shape: (300, 3, 64, 64)\n",
      "three_p.shape: (300, 3, 64, 64)\n",
      "empty.shape: (200, 3, 64, 64)\n"
     ]
    }
   ],
   "source": [
    "one_p = one_p.reshape(one_p.shape[0]* 5, 3, 64, 64)\n",
    "two_p = two_p.reshape(two_p.shape[0]* 5, 3, 64, 64)\n",
    "three_p = three_p.reshape(three_p.shape[0]* 5, 3, 64, 64)[100:, :, :, :]\n",
    "empty = empty.reshape(empty.shape[0]* 5, 3, 64, 64)\n",
    "\n",
    "print(f\"one_p.shape: {one_p.shape}\")\n",
    "print(f\"two_p.shape: {two_p.shape}\")\n",
    "print(f\"three_p.shape: {three_p.shape}\")\n",
    "print(f\"empty.shape: {empty.shape}\")\n"
   ]
  },
  {
   "cell_type": "code",
   "execution_count": 10,
   "metadata": {},
   "outputs": [],
   "source": [
    "import cv2\n",
    "def normalize_data(data):\n",
    "    return (data - np.min(data)) / (np.max(data) - np.min(data))\n",
    "\n",
    "def calculate_saliency_map(frames):\n",
    "    new_frames = []\n",
    "    for frame in frames:\n",
    "        mean = np.mean(frame)\n",
    "        frame_new = np.where(frame>mean, frame, 0)\n",
    "        new_frames.append(frame_new)\n",
    "    new_frames = np.array(new_frames)\n",
    "    frames = new_frames\n",
    "    frames[:,32,:] = 0\n",
    "    differences = np.abs(np.diff(frames, axis=0))\n",
    "    multiplications = []\n",
    "    for i in range(differences.shape[0]-1):\n",
    "        multiplications.append(np.multiply(differences[i], differences[i+1]))\n",
    "    multiplications = np.asarray(multiplications)\n",
    "\n",
    "    multiplications = differences\n",
    "    morph = np.array(\n",
    "        [cv2.morphologyEx(img, cv2.MORPH_OPEN, np.ones((3, 3))) for img in multiplications]\n",
    "    )\n",
    "\n",
    "    saliency_map_morph = np.expand_dims(np.sum(morph, axis=0), axis = 0)\n",
    "    saliency_map = np.expand_dims(np.sum(multiplications, axis=0), axis = 0)\n",
    "    return normalize_data(saliency_map) #normalize_data(saliency_map_morph)\n",
    "\n",
    "def plot_saliency_map(saliency_map):\n",
    "    fig, axs = plt.subplots(1, len(saliency_map), figsize=(15, 5), sharex=True, sharey=True)\n",
    "    fig.suptitle(\"Range-Doppler Plot\")\n",
    "    for i in range(1):\n",
    "        if len(saliency_map) == 1:\n",
    "            to_plot = saliency_map[0, :, :]\n",
    "            pos = axs.imshow(to_plot)\n",
    "            fig.colorbar(pos, ax=axs)\n",
    "        else:\n",
    "            for j in range(len(saliency_map)):\n",
    "                to_plot = saliency_map[j, :, :] \n",
    "                pos = axs[j].imshow(to_plot)\n",
    "                axs[j].set_aspect(\"equal\")\n",
    "                #fig.colorbar(pos, ax=axs[j])"
   ]
  },
  {
   "cell_type": "code",
   "execution_count": 13,
   "metadata": {},
   "outputs": [
    {
     "name": "stdout",
     "output_type": "stream",
     "text": [
      "(10, 64, 64)\n"
     ]
    },
    {
     "data": {
      "image/png": "[encoded data removed]",
      "text/plain": [
       "<Figure size 1080x360 with 2 Axes>"
      ]
     },
     "metadata": {
      "needs_background": "light"
     },
     "output_type": "display_data"
    }
   ],
   "source": [
    "from scipy import signal\n",
    "idx = 20\n",
    "sample = two_p[idx:idx+10].squeeze()\n",
    "sample = np.sum(sample, axis = 1).squeeze()\n",
    "print(sample.shape)\n",
    "saliency_map = calculate_saliency_map(sample)\n",
    "\n",
    "plot_saliency_map(saliency_map)\n"
   ]
  },
  {
   "cell_type": "code",
   "execution_count": 42,
   "metadata": {},
   "outputs": [
    {
     "name": "stdout",
     "output_type": "stream",
     "text": [
      "(64, 64)\n"
     ]
    },
    {
     "ename": "IndexError",
     "evalue": "index 1 is out of bounds for axis 0 with size 1",
     "output_type": "error",
     "traceback": [
      "\u001b[1;31m---------------------------------------------------------------------------\u001b[0m",
      "\u001b[1;31mIndexError\u001b[0m                                Traceback (most recent call last)",
      "\u001b[1;32mf:\\Projects\\hackathon-milan\\hackathon-milan\\submission\\code\\data_overlook_bamboo.ipynb Cell 8'\u001b[0m in \u001b[0;36m<cell line: 2>\u001b[1;34m()\u001b[0m\n\u001b[0;32m      <a href='vscode-notebook-cell:/f%3A/Projects/hackathon-milan/hackathon-milan/submission/code/data_overlook_bamboo.ipynb#ch0000006?line=0'>1</a>\u001b[0m \u001b[39mprint\u001b[39m(saliency_map[\u001b[39m0\u001b[39m]\u001b[39m.\u001b[39mshape)\n\u001b[1;32m----> <a href='vscode-notebook-cell:/f%3A/Projects/hackathon-milan/hackathon-milan/submission/code/data_overlook_bamboo.ipynb#ch0000006?line=1'>2</a>\u001b[0m vel \u001b[39m=\u001b[39m np\u001b[39m.\u001b[39msum(saliency_map[\u001b[39m1\u001b[39;49m]\u001b[39m.\u001b[39msqueeze(), axis \u001b[39m=\u001b[39m \u001b[39m1\u001b[39m)\n\u001b[0;32m      <a href='vscode-notebook-cell:/f%3A/Projects/hackathon-milan/hackathon-milan/submission/code/data_overlook_bamboo.ipynb#ch0000006?line=2'>3</a>\u001b[0m dist \u001b[39m=\u001b[39m np\u001b[39m.\u001b[39msum(saliency_map[\u001b[39m1\u001b[39m]\u001b[39m.\u001b[39msqueeze(), axis \u001b[39m=\u001b[39m \u001b[39m0\u001b[39m)\n\u001b[0;32m      <a href='vscode-notebook-cell:/f%3A/Projects/hackathon-milan/hackathon-milan/submission/code/data_overlook_bamboo.ipynb#ch0000006?line=4'>5</a>\u001b[0m plt\u001b[39m.\u001b[39mplot(vel)\n",
      "\u001b[1;31mIndexError\u001b[0m: index 1 is out of bounds for axis 0 with size 1"
     ]
    }
   ],
   "source": [
    "print(saliency_map[0].shape)\n",
    "vel = np.sum(saliency_map[1].squeeze(), axis = 1)\n",
    "dist = np.sum(saliency_map[1].squeeze(), axis = 0)\n",
    "\n",
    "plt.plot(vel)\n",
    "fig = plt.figure()\n",
    "plt.plot(dist)"
   ]
  },
  {
   "cell_type": "code",
   "execution_count": 43,
   "metadata": {},
   "outputs": [
    {
     "name": "stdout",
     "output_type": "stream",
     "text": [
      "(3, 64)\n",
      "(3, 64)\n",
      "(1, 64)\n"
     ]
    },
    {
     "ename": "IndexError",
     "evalue": "too many indices for array: array is 2-dimensional, but 3 were indexed",
     "output_type": "error",
     "traceback": [
      "\u001b[1;31m---------------------------------------------------------------------------\u001b[0m",
      "\u001b[1;31mIndexError\u001b[0m                                Traceback (most recent call last)",
      "\u001b[1;32mf:\\Projects\\hackathon-milan\\hackathon-milan\\submission\\code\\data_overlook_bamboo.ipynb Cell 9'\u001b[0m in \u001b[0;36m<cell line: 6>\u001b[1;34m()\u001b[0m\n\u001b[0;32m      <a href='vscode-notebook-cell:/f%3A/Projects/hackathon-milan/hackathon-milan/submission/code/data_overlook_bamboo.ipynb#ch0000007?line=3'>4</a>\u001b[0m saliency_map \u001b[39m=\u001b[39m calculate_saliency_map(sample)\n\u001b[0;32m      <a href='vscode-notebook-cell:/f%3A/Projects/hackathon-milan/hackathon-milan/submission/code/data_overlook_bamboo.ipynb#ch0000007?line=4'>5</a>\u001b[0m \u001b[39mprint\u001b[39m(saliency_map\u001b[39m.\u001b[39mshape)\n\u001b[1;32m----> <a href='vscode-notebook-cell:/f%3A/Projects/hackathon-milan/hackathon-milan/submission/code/data_overlook_bamboo.ipynb#ch0000007?line=5'>6</a>\u001b[0m plot_saliency_map(saliency_map)\n",
      "\u001b[1;32mf:\\Projects\\hackathon-milan\\hackathon-milan\\submission\\code\\data_overlook_bamboo.ipynb Cell 5'\u001b[0m in \u001b[0;36mplot_saliency_map\u001b[1;34m(saliency_map)\u001b[0m\n\u001b[0;32m     <a href='vscode-notebook-cell:/f%3A/Projects/hackathon-milan/hackathon-milan/submission/code/data_overlook_bamboo.ipynb#ch0000004?line=35'>36</a>\u001b[0m \u001b[39mfor\u001b[39;00m i \u001b[39min\u001b[39;00m \u001b[39mrange\u001b[39m(\u001b[39m1\u001b[39m):\n\u001b[0;32m     <a href='vscode-notebook-cell:/f%3A/Projects/hackathon-milan/hackathon-milan/submission/code/data_overlook_bamboo.ipynb#ch0000004?line=36'>37</a>\u001b[0m     \u001b[39mif\u001b[39;00m \u001b[39mlen\u001b[39m(saliency_map) \u001b[39m==\u001b[39m \u001b[39m1\u001b[39m:\n\u001b[1;32m---> <a href='vscode-notebook-cell:/f%3A/Projects/hackathon-milan/hackathon-milan/submission/code/data_overlook_bamboo.ipynb#ch0000004?line=37'>38</a>\u001b[0m         to_plot \u001b[39m=\u001b[39m saliency_map[\u001b[39m0\u001b[39;49m, :, :]\n\u001b[0;32m     <a href='vscode-notebook-cell:/f%3A/Projects/hackathon-milan/hackathon-milan/submission/code/data_overlook_bamboo.ipynb#ch0000004?line=38'>39</a>\u001b[0m         pos \u001b[39m=\u001b[39m axs\u001b[39m.\u001b[39mimshow(to_plot)\n\u001b[0;32m     <a href='vscode-notebook-cell:/f%3A/Projects/hackathon-milan/hackathon-milan/submission/code/data_overlook_bamboo.ipynb#ch0000004?line=39'>40</a>\u001b[0m         fig\u001b[39m.\u001b[39mcolorbar(pos, ax\u001b[39m=\u001b[39maxs)\n",
      "\u001b[1;31mIndexError\u001b[0m: too many indices for array: array is 2-dimensional, but 3 were indexed"
     ]
    },
    {
     "data": {
      "image/png": "[encoded data removed]",
      "text/plain": [
       "<Figure size 1080x360 with 1 Axes>"
      ]
     },
     "metadata": {
      "needs_background": "light"
     },
     "output_type": "display_data"
    }
   ],
   "source": [
    "sample = two_p[26].squeeze()\n",
    "sample = np.sum(sample, axis = 1).squeeze()\n",
    "print(sample.shape)\n",
    "saliency_map = calculate_saliency_map(sample)\n",
    "print(saliency_map.shape)\n",
    "plot_saliency_map(saliency_map)"
   ]
  },
  {
   "cell_type": "code",
   "execution_count": null,
   "metadata": {},
   "outputs": [
    {
     "name": "stdout",
     "output_type": "stream",
     "text": [
      "(3, 64)\n",
      "(3, 64)\n"
     ]
    },
    {
     "ename": "AttributeError",
     "evalue": "'tuple' object has no attribute 'shape'",
     "output_type": "error",
     "traceback": [
      "\u001b[1;31m---------------------------------------------------------------------------\u001b[0m",
      "\u001b[1;31mAttributeError\u001b[0m                            Traceback (most recent call last)",
      "\u001b[1;32mf:\\Projects\\hackathon-milan\\hackathon-milan\\submission\\code\\data_overlook_bamboo.ipynb Cell 10'\u001b[0m in \u001b[0;36m<cell line: 5>\u001b[1;34m()\u001b[0m\n\u001b[0;32m      <a href='vscode-notebook-cell:/f%3A/Projects/hackathon-milan/hackathon-milan/submission/code/data_overlook_bamboo.ipynb#ch0000008?line=2'>3</a>\u001b[0m \u001b[39mprint\u001b[39m(sample\u001b[39m.\u001b[39mshape)\n\u001b[0;32m      <a href='vscode-notebook-cell:/f%3A/Projects/hackathon-milan/hackathon-milan/submission/code/data_overlook_bamboo.ipynb#ch0000008?line=3'>4</a>\u001b[0m saliency_map \u001b[39m=\u001b[39m calculate_saliency_map(sample)\n\u001b[1;32m----> <a href='vscode-notebook-cell:/f%3A/Projects/hackathon-milan/hackathon-milan/submission/code/data_overlook_bamboo.ipynb#ch0000008?line=4'>5</a>\u001b[0m \u001b[39mprint\u001b[39m(saliency_map\u001b[39m.\u001b[39;49mshape)\n\u001b[0;32m      <a href='vscode-notebook-cell:/f%3A/Projects/hackathon-milan/hackathon-milan/submission/code/data_overlook_bamboo.ipynb#ch0000008?line=5'>6</a>\u001b[0m plot_saliency_map(saliency_map)\n",
      "\u001b[1;31mAttributeError\u001b[0m: 'tuple' object has no attribute 'shape'"
     ]
    }
   ],
   "source": [
    "sample = three_p[15].squeeze()\n",
    "sample = np.sum(sample, axis = 1).squeeze()\n",
    "print(sample.shape)\n",
    "saliency_map = calculate_saliency_map(sample)\n",
    "print(saliency_map.shape)\n",
    "plot_saliency_map(saliency_map)"
   ]
  },
  {
   "cell_type": "code",
   "execution_count": null,
   "metadata": {},
   "outputs": [],
   "source": [
    "sample = three_p[35].squeeze()\n",
    "sample = np.sum(sample, axis = 1).squeeze()\n",
    "print(sample.shape)\n",
    "diffs = np.diff(sample, axis=0)\n",
    "print(diffs.shape)\n",
    "fig, axs = plt.subplots(1, 5, figsize=(15, 5), sharex=True, sharey=True)\n",
    "fig.suptitle(\"Range-Doppler Plot\")\n",
    "for i in range(1):\n",
    "    for j in range(5):\n",
    "        to_plot = np.abs(sample)[j, :, :] >1\n",
    "        axs[j].imshow(to_plot)\n",
    "        axs[j].set_aspect(\"equal\")"
   ]
  },
  {
   "cell_type": "code",
   "execution_count": 48,
   "metadata": {},
   "outputs": [
    {
     "name": "stdout",
     "output_type": "stream",
     "text": [
      "(32, 1)\n"
     ]
    },
    {
     "data": {
      "image/png": "[encoded data removed]",
      "text/plain": [
       "<Figure size 1080x360 with 2 Axes>"
      ]
     },
     "metadata": {
      "needs_background": "light"
     },
     "output_type": "display_data"
    }
   ],
   "source": [
    "maps = []\n",
    "\n",
    "for sample in empty:\n",
    "    sample_empty = np.sum(sample, axis = 0).squeeze()\n",
    "    saliency_map_empty = sample_empty #calculate_saliency_map(sample_empty)\n",
    "    saliency_map_empty = saliency_map_empty / np.linalg.norm(saliency_map_empty)\n",
    "    maps.append(saliency_map_empty.squeeze())\n",
    "maps = np.asarray(maps)\n",
    "noise = np.sum(maps, axis=0)\n",
    "noise = noise / np.linalg.norm(noise)\n",
    "noise = noise > 0.5\n",
    "index_max = np.unravel_index(np.argmax(noise), np.array(noise).shape)\n",
    "print(index_max)\n",
    "radius = 3\n",
    "noise[index_max[0]-radius:index_max[0]+radius,  index_max[1]-radius:index_max[1]+radius] = 1\n",
    "plot_saliency_map(np.expand_dims(noise, axis=0))"
   ]
  },
  {
   "cell_type": "code",
   "execution_count": null,
   "metadata": {},
   "outputs": [],
   "source": [
    "sample_one = one_p[20].squeeze()\n",
    "sample_one = np.sum(sample_one, axis = 1).squeeze()\n",
    "print(sample_one.shape)\n",
    "saliency_map_one = calculate_saliency_map(sample_one)\n",
    "saliency_map_one = saliency_map_one / np.linalg.norm(saliency_map_one)\n",
    "plot_saliency_map(saliency_map_one)\n",
    "diff = saliency_map_one - noise\n",
    "diff = np.where(diff>0, diff, 0)\n",
    "print(np.min(diff))\n",
    "plot_saliency_map(diff)\n"
   ]
  }
 ],
 "metadata": {
  "interpreter": {
   "hash": "3a9dc74e55c2756006c2e3836791e686da87212d2fb823421f3744ac01945fbe"
  },
  "kernelspec": {
   "display_name": "Python 3.9.5 ('milan-env': venv)",
   "language": "python",
   "name": "python3"
  },
  "language_info": {
   "codemirror_mode": {
    "name": "ipython",
    "version": 3
   },
   "file_extension": ".py",
   "mimetype": "text/x-python",
   "name": "python",
   "nbconvert_exporter": "python",
   "pygments_lexer": "ipython3",
   "version": "3.9.5"
  },
  "orig_nbformat": 4
 },
 "nbformat": 4,
 "nbformat_minor": 2
}
