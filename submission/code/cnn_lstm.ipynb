{
 "cells": [
  {
   "cell_type": "markdown",
   "metadata": {},
   "source": [
    "# Data preparation for LSTM&CNN Model"
   ]
  },
  {
   "cell_type": "markdown",
   "metadata": {},
   "source": [
    "## Import Libs"
   ]
  },
  {
   "cell_type": "code",
   "execution_count": 1,
   "metadata": {},
   "outputs": [],
   "source": [
    "%matplotlib inline\n",
    "import numpy as np\n",
    "from utils.helper import read_data\n",
    "from tensorflow import keras\n",
    "FOLDER = \"data/data_big_2/\""
   ]
  },
  {
   "cell_type": "markdown",
   "metadata": {},
   "source": [
    "## Load data"
   ]
  },
  {
   "cell_type": "code",
   "execution_count": 2,
   "metadata": {},
   "outputs": [
    {
     "name": "stdout",
     "output_type": "stream",
     "text": [
      "----------------Shapes----------------\n",
      "empty: (180, 20, 3, 64, 64)\n",
      "1p: (180, 20, 3, 64, 64)\n",
      "2p: (180, 20, 3, 64, 64)\n",
      "3p: (180, 20, 3, 64, 64)\n"
     ]
    }
   ],
   "source": [
    "data_empty = read_data(FOLDER + \"empty.csv\", n_frames = 20)\n",
    "data_1p = read_data(FOLDER + \"1p.csv\", n_frames = 20)\n",
    "data_2p = read_data(FOLDER + \"2p.csv\", n_frames = 20)\n",
    "data_3p = read_data(FOLDER + \"3p.csv\", n_frames = 20)\n",
    "print(\"----------------Shapes----------------\")\n",
    "print(\"empty:\", data_empty.shape)\n",
    "print(\"1p:\", data_1p.shape)\n",
    "print(\"2p:\", data_2p.shape)\n",
    "print(\"3p:\", data_3p.shape)"
   ]
  },
  {
   "cell_type": "code",
   "execution_count": 3,
   "metadata": {},
   "outputs": [],
   "source": [
    "LENGTH_EMPTY = data_empty.shape[0]\n",
    "LENGTH_1P = data_1p.shape[0]\n",
    "LENGTH_2P = data_2p.shape[0]\n",
    "LENGTH_3P = data_3p.shape[0]"
   ]
  },
  {
   "cell_type": "markdown",
   "metadata": {},
   "source": [
    "Work with real data"
   ]
  },
  {
   "cell_type": "code",
   "execution_count": 4,
   "metadata": {},
   "outputs": [],
   "source": [
    "data_empty_summed = np.abs(data_empty) \n",
    "data_1p_summed = np.abs(data_1p)\n",
    "data_2p_summed = np.abs(data_2p)\n",
    "data_3p_summed = np.abs(data_3p)"
   ]
  },
  {
   "cell_type": "markdown",
   "metadata": {},
   "source": [
    "Remove middle static line"
   ]
  },
  {
   "cell_type": "code",
   "execution_count": 5,
   "metadata": {},
   "outputs": [],
   "source": [
    "data_empty_summed[:, :, :, 32, :] = 0\n",
    "data_1p_summed[:, :, :, 32, :] = 0\n",
    "data_2p_summed[:, :, :, 32, :] = 0\n",
    "data_3p_summed[:, :, :, 32, :] = 0"
   ]
  },
  {
   "cell_type": "markdown",
   "metadata": {},
   "source": [
    "Reshape pictures to RGB fromat"
   ]
  },
  {
   "cell_type": "code",
   "execution_count": 6,
   "metadata": {},
   "outputs": [
    {
     "name": "stdout",
     "output_type": "stream",
     "text": [
      "----------------Shapes----------------\n",
      "(180, 20, 64, 64, 3)\n",
      "(180, 20, 64, 64, 3)\n",
      "(180, 20, 64, 64, 3)\n",
      "(180, 20, 64, 64, 3)\n"
     ]
    }
   ],
   "source": [
    "data_0 = np.moveaxis(data_empty_summed, 2,4)\n",
    "data_1 = np.moveaxis(data_1p_summed, 2,4)\n",
    "data_2 = np.moveaxis(data_2p_summed, 2,4)\n",
    "data_3 = np.moveaxis(data_3p_summed, 2,4)\n",
    "print(\"----------------Shapes----------------\")\n",
    "print(data_0.shape)\n",
    "print(data_1.shape)\n",
    "print(data_2.shape)\n",
    "print(data_3.shape)"
   ]
  },
  {
   "cell_type": "code",
   "execution_count": 7,
   "metadata": {},
   "outputs": [
    {
     "name": "stdout",
     "output_type": "stream",
     "text": [
      "Shape of total data (720, 20, 64, 64, 3)\n"
     ]
    }
   ],
   "source": [
    "data_tot = np.concatenate((data_0, data_1, data_2, data_3), axis=0)\n",
    "print(\"Shape of total data\", data_tot.shape)\n"
   ]
  },
  {
   "cell_type": "markdown",
   "metadata": {},
   "source": [
    "## Create labels"
   ]
  },
  {
   "cell_type": "code",
   "execution_count": 8,
   "metadata": {},
   "outputs": [
    {
     "name": "stdout",
     "output_type": "stream",
     "text": [
      "Labels shape: (720,)\n"
     ]
    }
   ],
   "source": [
    "labels_empty = np.zeros(LENGTH_EMPTY)\n",
    "labels_1p = np.ones(LENGTH_1P)\n",
    "labels_2p = np.ones(LENGTH_2P) * 2\n",
    "labels_3p = np.ones(LENGTH_3P) * 3\n",
    "labels = np.concatenate((labels_empty, labels_1p, labels_2p, labels_3p), axis=0)\n",
    "print(\"Labels shape:\", labels.shape)"
   ]
  },
  {
   "cell_type": "code",
   "execution_count": 9,
   "metadata": {},
   "outputs": [
    {
     "name": "stdout",
     "output_type": "stream",
     "text": [
      "Labels abels one hot shape: (720, 4)\n"
     ]
    }
   ],
   "source": [
    "train_labels_one_hot = np.eye(4)[labels.astype(int)]\n",
    "print(\"Labels abels one hot shape:\", train_labels_one_hot.shape)"
   ]
  },
  {
   "cell_type": "markdown",
   "metadata": {},
   "source": [
    "## Train test split of data (90/10)"
   ]
  },
  {
   "cell_type": "code",
   "execution_count": 10,
   "metadata": {},
   "outputs": [
    {
     "name": "stdout",
     "output_type": "stream",
     "text": [
      "Shape train_X: (576, 20, 64, 64, 3)\n",
      "Shape test_X: (144, 20, 64, 64, 3)\n",
      "Shape train_y: (576, 4)\n",
      "Shape test_y: (144, 4)\n"
     ]
    }
   ],
   "source": [
    "from sklearn.model_selection import train_test_split\n",
    "train_X, test_X, train_y, test_y = train_test_split(data_tot, train_labels_one_hot, test_size=0.2, stratify = train_labels_one_hot)\n",
    "print(f\"Shape train_X: {train_X.shape}\")\n",
    "print(f\"Shape test_X: {test_X.shape}\")\n",
    "print(f\"Shape train_y: {train_y.shape}\")\n",
    "print(f\"Shape test_y: {test_y.shape}\")"
   ]
  },
  {
   "cell_type": "markdown",
   "metadata": {},
   "source": [
    "# Model"
   ]
  },
  {
   "cell_type": "code",
   "execution_count": 17,
   "metadata": {},
   "outputs": [
    {
     "name": "stdout",
     "output_type": "stream",
     "text": [
      "Model: \"sequential_2\"\n",
      "_________________________________________________________________\n",
      " Layer (type)                Output Shape              Param #   \n",
      "=================================================================\n",
      " time_distributed_18 (TimeDi  (None, 20, 64, 64, 4)    592       \n",
      " stributed)                                                      \n",
      "                                                                 \n",
      " time_distributed_19 (TimeDi  (None, 20, 32, 32, 4)    0         \n",
      " stributed)                                                      \n",
      "                                                                 \n",
      " time_distributed_20 (TimeDi  (None, 20, 32, 32, 4)    404       \n",
      " stributed)                                                      \n",
      "                                                                 \n",
      " time_distributed_21 (TimeDi  (None, 20, 16, 16, 4)    0         \n",
      " stributed)                                                      \n",
      "                                                                 \n",
      " time_distributed_22 (TimeDi  (None, 20, 16, 16, 4)    148       \n",
      " stributed)                                                      \n",
      "                                                                 \n",
      " time_distributed_23 (TimeDi  (None, 20, 8, 8, 4)      0         \n",
      " stributed)                                                      \n",
      "                                                                 \n",
      " time_distributed_24 (TimeDi  (None, 20, 8, 8, 4)      148       \n",
      " stributed)                                                      \n",
      "                                                                 \n",
      " time_distributed_25 (TimeDi  (None, 20, 2, 2, 4)      0         \n",
      " stributed)                                                      \n",
      "                                                                 \n",
      " time_distributed_26 (TimeDi  (None, 20, 16)           0         \n",
      " stributed)                                                      \n",
      "                                                                 \n",
      " lstm_1 (LSTM)               (None, 10)                1080      \n",
      "                                                                 \n",
      " dense_2 (Dense)             (None, 4)                 44        \n",
      "                                                                 \n",
      " activation_2 (Activation)   (None, 4)                 0         \n",
      "                                                                 \n",
      "=================================================================\n",
      "Total params: 2,416\n",
      "Trainable params: 2,416\n",
      "Non-trainable params: 0\n",
      "_________________________________________________________________\n",
      "None\n"
     ]
    }
   ],
   "source": [
    "model = keras.models.Sequential()\n",
    "model.add(keras.Input(shape=(20, 64, 64, 3)))\n",
    "model.add(keras.layers.TimeDistributed(keras.layers.Conv2D(4,\n",
    "                      input_shape = (64,64,3),\n",
    "                      kernel_size = 7,\n",
    "                      padding = \"same\",\n",
    "                      activation = \"relu\")))\n",
    "model.add(keras.layers.TimeDistributed(keras.layers.MaxPooling2D(2,\n",
    "                                strides = None,\n",
    "                                padding = \"valid\")))\n",
    "model.add(keras.layers.TimeDistributed(keras.layers.Conv2D(4,\n",
    "                      kernel_size = 5,\n",
    "                      padding = \"same\",\n",
    "                      activation = \"relu\")))\n",
    "model.add(keras.layers.TimeDistributed(keras.layers.MaxPooling2D(2,\n",
    "                                strides = None,\n",
    "                                padding = \"valid\")))\n",
    "model.add(keras.layers.TimeDistributed(keras.layers.Conv2D(4,\n",
    "                      kernel_size = 3,\n",
    "                      padding = \"same\",\n",
    "                      activation = \"relu\")))\n",
    "model.add(keras.layers.TimeDistributed(keras.layers.MaxPooling2D(2,\n",
    "                                strides = None,\n",
    "                                padding = \"valid\")))\n",
    "model.add(keras.layers.TimeDistributed(keras.layers.Conv2D(4,\n",
    "                      kernel_size = 3,\n",
    "                      padding = \"same\",\n",
    "                      activation = \"relu\")))\n",
    "model.add(keras.layers.TimeDistributed(keras.layers.MaxPooling2D(4,\n",
    "                                strides = None,\n",
    "                                padding = \"valid\")))\n",
    "model.add(keras.layers.TimeDistributed(keras.layers.Flatten()))\n",
    "\n",
    "# define LSTM model\n",
    "model.add(keras.layers.LSTM(10))\n",
    "model.add(keras.layers.Dense(4))\n",
    "model.add(keras.layers.Activation(\"softmax\"))\n",
    "\n",
    "print(model.summary())"
   ]
  },
  {
   "cell_type": "code",
   "execution_count": 18,
   "metadata": {},
   "outputs": [
    {
     "name": "stdout",
     "output_type": "stream",
     "text": [
      "Epoch 1/100\n",
      "17/17 [==============================] - 12s 618ms/step - loss: 1.3635 - accuracy: 0.4865 - val_loss: 1.3313 - val_accuracy: 0.5172\n",
      "Epoch 2/100\n",
      "17/17 [==============================] - 12s 710ms/step - loss: 1.2891 - accuracy: 0.5077 - val_loss: 1.2546 - val_accuracy: 0.4483\n",
      "Epoch 3/100\n",
      "17/17 [==============================] - 13s 704ms/step - loss: 1.2095 - accuracy: 0.5290 - val_loss: 1.1585 - val_accuracy: 0.5000\n",
      "Epoch 4/100\n",
      "17/17 [==============================] - 11s 655ms/step - loss: 1.1148 - accuracy: 0.5212 - val_loss: 1.0351 - val_accuracy: 0.5172\n",
      "Epoch 5/100\n",
      "17/17 [==============================] - 12s 680ms/step - loss: 1.0035 - accuracy: 0.5676 - val_loss: 0.9019 - val_accuracy: 0.6379\n",
      "Epoch 6/100\n",
      "17/17 [==============================] - 12s 692ms/step - loss: 0.8987 - accuracy: 0.5656 - val_loss: 0.8445 - val_accuracy: 0.6552\n",
      "Epoch 7/100\n",
      "17/17 [==============================] - 10s 604ms/step - loss: 0.8191 - accuracy: 0.6216 - val_loss: 0.7897 - val_accuracy: 0.5862\n",
      "Epoch 8/100\n",
      "17/17 [==============================] - 11s 631ms/step - loss: 0.7676 - accuracy: 0.6737 - val_loss: 0.7460 - val_accuracy: 0.7069\n",
      "Epoch 9/100\n",
      "17/17 [==============================] - 11s 668ms/step - loss: 0.7323 - accuracy: 0.6969 - val_loss: 0.7242 - val_accuracy: 0.6724\n",
      "Epoch 10/100\n",
      "17/17 [==============================] - 11s 657ms/step - loss: 0.6962 - accuracy: 0.7336 - val_loss: 0.7015 - val_accuracy: 0.7414\n",
      "Epoch 11/100\n",
      "17/17 [==============================] - 12s 679ms/step - loss: 0.6594 - accuracy: 0.7722 - val_loss: 0.6974 - val_accuracy: 0.6207\n",
      "Epoch 12/100\n",
      "17/17 [==============================] - 12s 720ms/step - loss: 0.6312 - accuracy: 0.7703 - val_loss: 0.6658 - val_accuracy: 0.7931\n",
      "Epoch 13/100\n",
      "17/17 [==============================] - 10s 614ms/step - loss: 0.6009 - accuracy: 0.7954 - val_loss: 0.6337 - val_accuracy: 0.8103\n",
      "Epoch 14/100\n",
      "17/17 [==============================] - 10s 612ms/step - loss: 0.5775 - accuracy: 0.7992 - val_loss: 0.5896 - val_accuracy: 0.7586\n",
      "Epoch 15/100\n",
      "17/17 [==============================] - 10s 598ms/step - loss: 0.5535 - accuracy: 0.8012 - val_loss: 0.6151 - val_accuracy: 0.6897\n",
      "Epoch 16/100\n",
      "17/17 [==============================] - 10s 599ms/step - loss: 0.5170 - accuracy: 0.8320 - val_loss: 0.5448 - val_accuracy: 0.8621\n",
      "Epoch 17/100\n",
      "17/17 [==============================] - 10s 598ms/step - loss: 0.4833 - accuracy: 0.8552 - val_loss: 0.5166 - val_accuracy: 0.8276\n",
      "Epoch 18/100\n",
      "17/17 [==============================] - 10s 603ms/step - loss: 0.4597 - accuracy: 0.8533 - val_loss: 0.4878 - val_accuracy: 0.8276\n",
      "Epoch 19/100\n",
      "17/17 [==============================] - 10s 607ms/step - loss: 0.4138 - accuracy: 0.8842 - val_loss: 0.4496 - val_accuracy: 0.8621\n",
      "Epoch 20/100\n",
      "17/17 [==============================] - 10s 606ms/step - loss: 0.4144 - accuracy: 0.8475 - val_loss: 0.5127 - val_accuracy: 0.7931\n",
      "Epoch 21/100\n",
      "17/17 [==============================] - 10s 605ms/step - loss: 0.4040 - accuracy: 0.8514 - val_loss: 0.4529 - val_accuracy: 0.8621\n",
      "Epoch 22/100\n",
      "17/17 [==============================] - 10s 600ms/step - loss: 0.3538 - accuracy: 0.8977 - val_loss: 0.4911 - val_accuracy: 0.7414\n"
     ]
    },
    {
     "name": "stderr",
     "output_type": "stream",
     "text": [
      "WARNING:absl:Found untraced functions such as _jit_compiled_convolution_op, _jit_compiled_convolution_op, _jit_compiled_convolution_op, _jit_compiled_convolution_op, lstm_cell_1_layer_call_fn while saving (showing 5 of 6). These functions will not be directly callable after loading.\n"
     ]
    },
    {
     "name": "stdout",
     "output_type": "stream",
     "text": [
      "INFO:tensorflow:Assets written to: models/LSTM/assets\n"
     ]
    },
    {
     "name": "stderr",
     "output_type": "stream",
     "text": [
      "INFO:tensorflow:Assets written to: models/LSTM/assets\n"
     ]
    }
   ],
   "source": [
    "model.compile(\n",
    "    loss = \"categorical_crossentropy\",\n",
    "    optimizer = keras.optimizers.Adam(learning_rate = 0.001),\n",
    "    metrics = ['accuracy']\n",
    ")\n",
    "\n",
    "model.fit(\n",
    "    train_X, train_y,\n",
    "    epochs  = 100,\n",
    "    verbose = 1,\n",
    "    validation_split = 0.1,\n",
    "    shuffle= True,\n",
    "    callbacks=[keras.callbacks.EarlyStopping(patience = 3),\n",
    "               keras.callbacks.CSVLogger('history/historyLSTM.csv')]\n",
    ")\n",
    "\n",
    "model.save(\"models/LSTM\")"
   ]
  },
  {
   "cell_type": "markdown",
   "metadata": {},
   "source": [
    "# Make prediction based on the test set"
   ]
  },
  {
   "cell_type": "code",
   "execution_count": 16,
   "metadata": {},
   "outputs": [
    {
     "name": "stdout",
     "output_type": "stream",
     "text": [
      "5/5 [==============================] - 1s 170ms/step - loss: 0.5832 - accuracy: 0.7222\n",
      "Loss: 0.5832369327545166\n",
      "Accuracy: 0.7222222089767456\n"
     ]
    }
   ],
   "source": [
    "loss, aacuracy = model.evaluate(test_X, test_y)\n",
    "print(f\"Loss: {loss}\")\n",
    "print(f\"Accuracy: {aacuracy}\")"
   ]
  }
 ],
 "metadata": {
  "interpreter": {
   "hash": "e9e121ccb797ab3f030cb728ec4f68e7f9a9ead1118d485a64bc791f040af0d8"
  },
  "kernelspec": {
   "display_name": "Python 3.8.8 ('venv': venv)",
   "language": "python",
   "name": "python3"
  },
  "language_info": {
   "codemirror_mode": {
    "name": "ipython",
    "version": 3
   },
   "file_extension": ".py",
   "mimetype": "text/x-python",
   "name": "python",
   "nbconvert_exporter": "python",
   "pygments_lexer": "ipython3",
   "version": "3.8.8"
  },
  "orig_nbformat": 4
 },
 "nbformat": 4,
 "nbformat_minor": 2
}
