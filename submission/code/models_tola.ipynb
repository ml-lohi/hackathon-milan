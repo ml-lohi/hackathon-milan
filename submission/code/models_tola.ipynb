{
 "cells": [
  {
   "cell_type": "markdown",
   "metadata": {},
   "source": [
    "# Simple CNN notebook"
   ]
  },
  {
   "cell_type": "markdown",
   "metadata": {},
   "source": [
    "## Import Libraries"
   ]
  },
  {
   "cell_type": "code",
   "execution_count": 66,
   "metadata": {},
   "outputs": [],
   "source": [
    "%matplotlib inline\n",
    "import numpy as np\n",
    "from utils.helper import read_data, blur, to_real, morphology\n",
    "import cv2\n",
    "import matplotlib.pyplot as plt\n",
    "from tensorflow import keras\n",
    "FOLDER = \"data/data_big/\""
   ]
  },
  {
   "cell_type": "markdown",
   "metadata": {},
   "source": [
    "## Load data"
   ]
  },
  {
   "cell_type": "code",
   "execution_count": 67,
   "metadata": {},
   "outputs": [
    {
     "name": "stdout",
     "output_type": "stream",
     "text": [
      "----------------Shapes----------------\n",
      "empty: (480, 5, 3, 64, 64)\n",
      "1p: (480, 5, 3, 64, 64)\n",
      "2p: (480, 5, 3, 64, 64)\n",
      "3p: (480, 5, 3, 64, 64)\n"
     ]
    }
   ],
   "source": [
    "data_empty = read_data(FOLDER + \"empty.csv\")\n",
    "data_1p = read_data(FOLDER + \"1p.csv\")\n",
    "data_2p = read_data(FOLDER + \"2p.csv\")\n",
    "data_3p = read_data(FOLDER + \"3p.csv\")\n",
    "print(\"----------------Shapes----------------\")\n",
    "print(\"empty:\", data_empty.shape)\n",
    "print(\"1p:\", data_1p.shape)\n",
    "print(\"2p:\", data_2p.shape)\n",
    "print(\"3p:\", data_3p.shape)"
   ]
  },
  {
   "cell_type": "code",
   "execution_count": 68,
   "metadata": {},
   "outputs": [],
   "source": [
    "LENGTH_EMPTY = data_empty.shape[0]\n",
    "LENGTH_1P = data_1p.shape[0]\n",
    "LENGTH_2P = data_2p.shape[0]\n",
    "LENGTH_3P = data_3p.shape[0]"
   ]
  },
  {
   "cell_type": "code",
   "execution_count": 69,
   "metadata": {},
   "outputs": [
    {
     "name": "stderr",
     "output_type": "stream",
     "text": [
      "/Users/anatolii/Desktop/RWTH/eestech/hackathon-milan/submission/code/utils/helper.py:41: ComplexWarning: Casting complex values to real discards the imaginary part\n",
      "  return data_real.astype(float)\n"
     ]
    }
   ],
   "source": [
    "data_empty_summed = to_real(np.sum(data_empty, axis=1)) \n",
    "data_1p_summed = to_real(np.sum(data_1p, axis=1))\n",
    "data_2p_summed = to_real(np.sum(data_2p, axis=1))\n",
    "data_3p_summed = to_real(np.sum(data_3p, axis=1))"
   ]
  },
  {
   "cell_type": "code",
   "execution_count": 70,
   "metadata": {},
   "outputs": [
    {
     "name": "stdout",
     "output_type": "stream",
     "text": [
      "(480, 64, 64, 3)\n",
      "(480, 64, 64, 3)\n",
      "(480, 64, 64, 3)\n",
      "(480, 64, 64, 3)\n"
     ]
    }
   ],
   "source": [
    "data_0 = np.moveaxis(data_empty_summed, 1,3)\n",
    "data_1 = np.moveaxis(data_1p_summed, 1,3)\n",
    "data_2 = np.moveaxis(data_2p_summed, 1,3)\n",
    "data_3 = np.moveaxis(data_3p_summed, 1,3)\n",
    "print(data_0.shape)\n",
    "print(data_1.shape)\n",
    "print(data_2.shape)\n",
    "print(data_3.shape)"
   ]
  },
  {
   "cell_type": "code",
   "execution_count": 143,
   "metadata": {},
   "outputs": [
    {
     "data": {
      "text/plain": [
       "(1920, 64, 64, 3)"
      ]
     },
     "execution_count": 143,
     "metadata": {},
     "output_type": "execute_result"
    }
   ],
   "source": [
    "data_tot = np.concatenate((data_0, data_1, data_2, data_3), axis=0)\n",
    "data_tot.shape"
   ]
  },
  {
   "cell_type": "code",
   "execution_count": 127,
   "metadata": {},
   "outputs": [],
   "source": [
    "data_tot[:,32,:,:] = 0\n",
    "# plt.imshow(np.abs(data_tot[100,:,:,1]))\n",
    "# plt.colorbar()\n",
    "# plt.show()\n",
    "# sum_lines = np.sum(data_tot[1000,:,:,1], axis=1)\n",
    "\n",
    "# print(f\"Noise velosity sample: {np.argmax(sum_lines)}\")\n",
    "# plt.plot(sum_lines)\n",
    "# sum_lines.shape"
   ]
  },
  {
   "cell_type": "code",
   "execution_count": 176,
   "metadata": {},
   "outputs": [
    {
     "name": "stdout",
     "output_type": "stream",
     "text": [
      "(1919, 64, 64, 3)\n",
      "(1, 64, 64, 3)\n"
     ]
    },
    {
     "data": {
      "text/plain": [
       "(1919, 64, 64, 3)"
      ]
     },
     "execution_count": 176,
     "metadata": {},
     "output_type": "execute_result"
    }
   ],
   "source": [
    "data_tot_diff = np.diff(data_tot, axis = 0)\n",
    "print(data_tot_diff.shape)\n",
    "# data_tot_diff.shape\n",
    "print(np.expand_dims(data_tot_diff[1918,:,:,:], axis = 0).shape)\n",
    "new_data = np.concatenate((data_tot_diff, np.expand_dims(data_tot_diff[1918,:,:,:], axis = 0)), axis=0)\n",
    "new_data.shape\n",
    "# plt.imshow(np.abs(data_tot_diff[600,:,:,1]))"
   ]
  },
  {
   "cell_type": "markdown",
   "metadata": {},
   "source": [
    "### Create Labels"
   ]
  },
  {
   "cell_type": "code",
   "execution_count": 114,
   "metadata": {},
   "outputs": [
    {
     "name": "stdout",
     "output_type": "stream",
     "text": [
      "Labels shape: (1920,)\n"
     ]
    }
   ],
   "source": [
    "labels_empty = np.zeros(LENGTH_EMPTY)\n",
    "labels_1p = np.ones(LENGTH_1P)\n",
    "labels_2p = np.ones(LENGTH_2P) * 2\n",
    "labels_3p = np.ones(LENGTH_3P) * 3\n",
    "labels = np.concatenate((labels_empty, labels_1p, labels_2p, labels_3p), axis=0)\n",
    "print(\"Labels shape:\", labels.shape)"
   ]
  },
  {
   "cell_type": "code",
   "execution_count": 115,
   "metadata": {},
   "outputs": [
    {
     "name": "stdout",
     "output_type": "stream",
     "text": [
      "Labels abels one hot shape: (1920, 4)\n"
     ]
    }
   ],
   "source": [
    "train_labels_one_hot = np.eye(4)[labels.astype(int)]\n",
    "print(\"Labels abels one hot shape:\", train_labels_one_hot.shape)"
   ]
  },
  {
   "cell_type": "code",
   "execution_count": 149,
   "metadata": {},
   "outputs": [
    {
     "ename": "ValueError",
     "evalue": "Found input variables with inconsistent numbers of samples: [1919, 1920]",
     "output_type": "error",
     "traceback": [
      "\u001b[0;31m---------------------------------------------------------------------------\u001b[0m",
      "\u001b[0;31mValueError\u001b[0m                                Traceback (most recent call last)",
      "\u001b[1;32m/Users/anatolii/Desktop/RWTH/eestech/hackathon-milan/submission/code/models.ipynb Cell 15'\u001b[0m in \u001b[0;36m<cell line: 2>\u001b[0;34m()\u001b[0m\n\u001b[1;32m      <a href='vscode-notebook-cell:/Users/anatolii/Desktop/RWTH/eestech/hackathon-milan/submission/code/models.ipynb#ch0000012?line=0'>1</a>\u001b[0m \u001b[39mfrom\u001b[39;00m \u001b[39msklearn\u001b[39;00m\u001b[39m.\u001b[39;00m\u001b[39mmodel_selection\u001b[39;00m \u001b[39mimport\u001b[39;00m train_test_split\n\u001b[0;32m----> <a href='vscode-notebook-cell:/Users/anatolii/Desktop/RWTH/eestech/hackathon-milan/submission/code/models.ipynb#ch0000012?line=1'>2</a>\u001b[0m train_X, test_X, train_y, test_y \u001b[39m=\u001b[39m train_test_split(data_tot_diff, train_labels_one_hot, test_size\u001b[39m=\u001b[39;49m\u001b[39m0.2\u001b[39;49m)\n\u001b[1;32m      <a href='vscode-notebook-cell:/Users/anatolii/Desktop/RWTH/eestech/hackathon-milan/submission/code/models.ipynb#ch0000012?line=2'>3</a>\u001b[0m \u001b[39mprint\u001b[39m(\u001b[39mf\u001b[39m\u001b[39m\"\u001b[39m\u001b[39mShape train_X: \u001b[39m\u001b[39m{\u001b[39;00mtrain_X\u001b[39m.\u001b[39mshape\u001b[39m}\u001b[39;00m\u001b[39m\"\u001b[39m)\n\u001b[1;32m      <a href='vscode-notebook-cell:/Users/anatolii/Desktop/RWTH/eestech/hackathon-milan/submission/code/models.ipynb#ch0000012?line=3'>4</a>\u001b[0m \u001b[39mprint\u001b[39m(\u001b[39mf\u001b[39m\u001b[39m\"\u001b[39m\u001b[39mShape test_X: \u001b[39m\u001b[39m{\u001b[39;00mtest_X\u001b[39m.\u001b[39mshape\u001b[39m}\u001b[39;00m\u001b[39m\"\u001b[39m)\n",
      "File \u001b[0;32m~/Desktop/RWTH/eestech/hackathon-milan/venv_milan/lib/python3.9/site-packages/sklearn/model_selection/_split.py:2430\u001b[0m, in \u001b[0;36mtrain_test_split\u001b[0;34m(test_size, train_size, random_state, shuffle, stratify, *arrays)\u001b[0m\n\u001b[1;32m   <a href='file:///Users/anatolii/Desktop/RWTH/eestech/hackathon-milan/venv_milan/lib/python3.9/site-packages/sklearn/model_selection/_split.py?line=2426'>2427</a>\u001b[0m \u001b[39mif\u001b[39;00m n_arrays \u001b[39m==\u001b[39m \u001b[39m0\u001b[39m:\n\u001b[1;32m   <a href='file:///Users/anatolii/Desktop/RWTH/eestech/hackathon-milan/venv_milan/lib/python3.9/site-packages/sklearn/model_selection/_split.py?line=2427'>2428</a>\u001b[0m     \u001b[39mraise\u001b[39;00m \u001b[39mValueError\u001b[39;00m(\u001b[39m\"\u001b[39m\u001b[39mAt least one array required as input\u001b[39m\u001b[39m\"\u001b[39m)\n\u001b[0;32m-> <a href='file:///Users/anatolii/Desktop/RWTH/eestech/hackathon-milan/venv_milan/lib/python3.9/site-packages/sklearn/model_selection/_split.py?line=2429'>2430</a>\u001b[0m arrays \u001b[39m=\u001b[39m indexable(\u001b[39m*\u001b[39;49marrays)\n\u001b[1;32m   <a href='file:///Users/anatolii/Desktop/RWTH/eestech/hackathon-milan/venv_milan/lib/python3.9/site-packages/sklearn/model_selection/_split.py?line=2431'>2432</a>\u001b[0m n_samples \u001b[39m=\u001b[39m _num_samples(arrays[\u001b[39m0\u001b[39m])\n\u001b[1;32m   <a href='file:///Users/anatolii/Desktop/RWTH/eestech/hackathon-milan/venv_milan/lib/python3.9/site-packages/sklearn/model_selection/_split.py?line=2432'>2433</a>\u001b[0m n_train, n_test \u001b[39m=\u001b[39m _validate_shuffle_split(\n\u001b[1;32m   <a href='file:///Users/anatolii/Desktop/RWTH/eestech/hackathon-milan/venv_milan/lib/python3.9/site-packages/sklearn/model_selection/_split.py?line=2433'>2434</a>\u001b[0m     n_samples, test_size, train_size, default_test_size\u001b[39m=\u001b[39m\u001b[39m0.25\u001b[39m\n\u001b[1;32m   <a href='file:///Users/anatolii/Desktop/RWTH/eestech/hackathon-milan/venv_milan/lib/python3.9/site-packages/sklearn/model_selection/_split.py?line=2434'>2435</a>\u001b[0m )\n",
      "File \u001b[0;32m~/Desktop/RWTH/eestech/hackathon-milan/venv_milan/lib/python3.9/site-packages/sklearn/utils/validation.py:433\u001b[0m, in \u001b[0;36mindexable\u001b[0;34m(*iterables)\u001b[0m\n\u001b[1;32m    <a href='file:///Users/anatolii/Desktop/RWTH/eestech/hackathon-milan/venv_milan/lib/python3.9/site-packages/sklearn/utils/validation.py?line=413'>414</a>\u001b[0m \u001b[39m\"\"\"Make arrays indexable for cross-validation.\u001b[39;00m\n\u001b[1;32m    <a href='file:///Users/anatolii/Desktop/RWTH/eestech/hackathon-milan/venv_milan/lib/python3.9/site-packages/sklearn/utils/validation.py?line=414'>415</a>\u001b[0m \n\u001b[1;32m    <a href='file:///Users/anatolii/Desktop/RWTH/eestech/hackathon-milan/venv_milan/lib/python3.9/site-packages/sklearn/utils/validation.py?line=415'>416</a>\u001b[0m \u001b[39mChecks consistent length, passes through None, and ensures that everything\u001b[39;00m\n\u001b[0;32m   (...)\u001b[0m\n\u001b[1;32m    <a href='file:///Users/anatolii/Desktop/RWTH/eestech/hackathon-milan/venv_milan/lib/python3.9/site-packages/sklearn/utils/validation.py?line=428'>429</a>\u001b[0m \u001b[39m    sparse matrix, or dataframe) or `None`.\u001b[39;00m\n\u001b[1;32m    <a href='file:///Users/anatolii/Desktop/RWTH/eestech/hackathon-milan/venv_milan/lib/python3.9/site-packages/sklearn/utils/validation.py?line=429'>430</a>\u001b[0m \u001b[39m\"\"\"\u001b[39;00m\n\u001b[1;32m    <a href='file:///Users/anatolii/Desktop/RWTH/eestech/hackathon-milan/venv_milan/lib/python3.9/site-packages/sklearn/utils/validation.py?line=431'>432</a>\u001b[0m result \u001b[39m=\u001b[39m [_make_indexable(X) \u001b[39mfor\u001b[39;00m X \u001b[39min\u001b[39;00m iterables]\n\u001b[0;32m--> <a href='file:///Users/anatolii/Desktop/RWTH/eestech/hackathon-milan/venv_milan/lib/python3.9/site-packages/sklearn/utils/validation.py?line=432'>433</a>\u001b[0m check_consistent_length(\u001b[39m*\u001b[39;49mresult)\n\u001b[1;32m    <a href='file:///Users/anatolii/Desktop/RWTH/eestech/hackathon-milan/venv_milan/lib/python3.9/site-packages/sklearn/utils/validation.py?line=433'>434</a>\u001b[0m \u001b[39mreturn\u001b[39;00m result\n",
      "File \u001b[0;32m~/Desktop/RWTH/eestech/hackathon-milan/venv_milan/lib/python3.9/site-packages/sklearn/utils/validation.py:387\u001b[0m, in \u001b[0;36mcheck_consistent_length\u001b[0;34m(*arrays)\u001b[0m\n\u001b[1;32m    <a href='file:///Users/anatolii/Desktop/RWTH/eestech/hackathon-milan/venv_milan/lib/python3.9/site-packages/sklearn/utils/validation.py?line=384'>385</a>\u001b[0m uniques \u001b[39m=\u001b[39m np\u001b[39m.\u001b[39munique(lengths)\n\u001b[1;32m    <a href='file:///Users/anatolii/Desktop/RWTH/eestech/hackathon-milan/venv_milan/lib/python3.9/site-packages/sklearn/utils/validation.py?line=385'>386</a>\u001b[0m \u001b[39mif\u001b[39;00m \u001b[39mlen\u001b[39m(uniques) \u001b[39m>\u001b[39m \u001b[39m1\u001b[39m:\n\u001b[0;32m--> <a href='file:///Users/anatolii/Desktop/RWTH/eestech/hackathon-milan/venv_milan/lib/python3.9/site-packages/sklearn/utils/validation.py?line=386'>387</a>\u001b[0m     \u001b[39mraise\u001b[39;00m \u001b[39mValueError\u001b[39;00m(\n\u001b[1;32m    <a href='file:///Users/anatolii/Desktop/RWTH/eestech/hackathon-milan/venv_milan/lib/python3.9/site-packages/sklearn/utils/validation.py?line=387'>388</a>\u001b[0m         \u001b[39m\"\u001b[39m\u001b[39mFound input variables with inconsistent numbers of samples: \u001b[39m\u001b[39m%r\u001b[39;00m\u001b[39m\"\u001b[39m\n\u001b[1;32m    <a href='file:///Users/anatolii/Desktop/RWTH/eestech/hackathon-milan/venv_milan/lib/python3.9/site-packages/sklearn/utils/validation.py?line=388'>389</a>\u001b[0m         \u001b[39m%\u001b[39m [\u001b[39mint\u001b[39m(l) \u001b[39mfor\u001b[39;00m l \u001b[39min\u001b[39;00m lengths]\n\u001b[1;32m    <a href='file:///Users/anatolii/Desktop/RWTH/eestech/hackathon-milan/venv_milan/lib/python3.9/site-packages/sklearn/utils/validation.py?line=389'>390</a>\u001b[0m     )\n",
      "\u001b[0;31mValueError\u001b[0m: Found input variables with inconsistent numbers of samples: [1919, 1920]"
     ]
    }
   ],
   "source": [
    "from sklearn.model_selection import train_test_split\n",
    "train_X, test_X, train_y, test_y = train_test_split(data_tot_diff, train_labels_one_hot, test_size=0.2)\n",
    "print(f\"Shape train_X: {train_X.shape}\")\n",
    "print(f\"Shape test_X: {test_X.shape}\")\n",
    "print(f\"Shape train_y: {train_y.shape}\")\n",
    "print(f\"Shape test_y: {test_y.shape}\")"
   ]
  },
  {
   "cell_type": "code",
   "execution_count": null,
   "metadata": {},
   "outputs": [
    {
     "name": "stdout",
     "output_type": "stream",
     "text": [
      "Model: \"sequential_8\"\n",
      "_________________________________________________________________\n",
      " Layer (type)                Output Shape              Param #   \n",
      "=================================================================\n",
      " conv2d_16 (Conv2D)          (None, 64, 64, 8)         608       \n",
      "                                                                 \n",
      " max_pooling2d_16 (MaxPoolin  (None, 32, 32, 8)        0         \n",
      " g2D)                                                            \n",
      "                                                                 \n",
      " conv2d_17 (Conv2D)          (None, 32, 32, 8)         584       \n",
      "                                                                 \n",
      " max_pooling2d_17 (MaxPoolin  (None, 16, 16, 8)        0         \n",
      " g2D)                                                            \n",
      "                                                                 \n",
      " flatten_8 (Flatten)         (None, 2048)              0         \n",
      "                                                                 \n",
      " dense_8 (Dense)             (None, 4)                 8196      \n",
      "                                                                 \n",
      " activation_8 (Activation)   (None, 4)                 0         \n",
      "                                                                 \n",
      "=================================================================\n",
      "Total params: 9,388\n",
      "Trainable params: 9,388\n",
      "Non-trainable params: 0\n",
      "_________________________________________________________________\n",
      "None\n"
     ]
    }
   ],
   "source": [
    "models = keras.models\n",
    "layers = keras.layers\n",
    "\n",
    "model = models.Sequential(\n",
    "    [\n",
    "        layers.Conv2D(8,\n",
    "                      input_shape = (64,64,3),\n",
    "                      kernel_size = 5,\n",
    "                      padding = \"same\",\n",
    "                      activation = \"relu\"),\n",
    "        layers.MaxPooling2D(2,\n",
    "                            strides = None,\n",
    "                            padding = \"valid\"),\n",
    "        layers.Conv2D(8,\n",
    "                      input_shape = (32,32,8),\n",
    "                      kernel_size = 3,\n",
    "                      padding = \"same\",\n",
    "                      activation = \"relu\"),\n",
    "        layers.MaxPooling2D(2,\n",
    "                    strides = None,\n",
    "                    padding = \"valid\"),\n",
    "        layers.Flatten(),\n",
    "        layers.Dense(4),\n",
    "        layers.Activation(\"softmax\")\n",
    "    ]\n",
    ")\n",
    "print(model.summary())"
   ]
  },
  {
   "cell_type": "code",
   "execution_count": null,
   "metadata": {},
   "outputs": [
    {
     "name": "stdout",
     "output_type": "stream",
     "text": [
      "Epoch 1/10\n",
      "39/39 [==============================] - 1s 20ms/step - loss: 1.4596 - accuracy: 0.5570 - val_loss: 0.5445 - val_accuracy: 0.7987\n",
      "Epoch 2/10\n",
      "39/39 [==============================] - 1s 19ms/step - loss: 0.4372 - accuracy: 0.8453 - val_loss: 0.3452 - val_accuracy: 0.9383\n",
      "Epoch 3/10\n",
      "39/39 [==============================] - 1s 18ms/step - loss: 0.2759 - accuracy: 0.9243 - val_loss: 0.2423 - val_accuracy: 0.9481\n",
      "Epoch 4/10\n",
      "39/39 [==============================] - 1s 19ms/step - loss: 0.2299 - accuracy: 0.9292 - val_loss: 0.2370 - val_accuracy: 0.8929\n",
      "Epoch 5/10\n",
      "39/39 [==============================] - 1s 18ms/step - loss: 0.1911 - accuracy: 0.9373 - val_loss: 0.1653 - val_accuracy: 0.9448\n",
      "Epoch 6/10\n",
      "39/39 [==============================] - 1s 18ms/step - loss: 0.1095 - accuracy: 0.9764 - val_loss: 0.1321 - val_accuracy: 0.9643\n",
      "Epoch 7/10\n",
      "39/39 [==============================] - 1s 18ms/step - loss: 0.0879 - accuracy: 0.9788 - val_loss: 0.1011 - val_accuracy: 0.9708\n",
      "Epoch 8/10\n",
      "39/39 [==============================] - 1s 20ms/step - loss: 0.1063 - accuracy: 0.9625 - val_loss: 0.0921 - val_accuracy: 0.9740\n",
      "Epoch 9/10\n",
      "39/39 [==============================] - 1s 21ms/step - loss: 0.0562 - accuracy: 0.9894 - val_loss: 0.0769 - val_accuracy: 0.9740\n",
      "Epoch 10/10\n",
      "39/39 [==============================] - 1s 19ms/step - loss: 0.0489 - accuracy: 0.9878 - val_loss: 0.0826 - val_accuracy: 0.9675\n"
     ]
    },
    {
     "name": "stderr",
     "output_type": "stream",
     "text": [
      "WARNING:absl:Found untraced functions such as _jit_compiled_convolution_op, _jit_compiled_convolution_op while saving (showing 2 of 2). These functions will not be directly callable after loading.\n"
     ]
    },
    {
     "name": "stdout",
     "output_type": "stream",
     "text": [
      "INFO:tensorflow:Assets written to: models/CNN/assets\n"
     ]
    },
    {
     "name": "stderr",
     "output_type": "stream",
     "text": [
      "INFO:tensorflow:Assets written to: models/CNN/assets\n"
     ]
    }
   ],
   "source": [
    "model.compile(\n",
    "    loss = \"categorical_crossentropy\",\n",
    "    optimizer = keras.optimizers.Adam(learning_rate = 0.001),\n",
    "    metrics = ['accuracy']\n",
    ")\n",
    "\n",
    "model.fit(\n",
    "    train_X, train_y,\n",
    "    epochs  = 10,\n",
    "    verbose = 1,\n",
    "    validation_split = 0.2,\n",
    "    shuffle= True,\n",
    "    callbacks=keras.callbacks.EarlyStopping(patience = 10)\n",
    ")\n",
    "\n",
    "model.save('models/CNN')"
   ]
  },
  {
   "cell_type": "code",
   "execution_count": null,
   "metadata": {},
   "outputs": [
    {
     "name": "stdout",
     "output_type": "stream",
     "text": [
      "12/12 [==============================] - 0s 7ms/step - loss: 0.0600 - accuracy: 0.9844\n",
      "Loss: 0.060046374797821045\n",
      "Accuracy: 0.984375\n"
     ]
    }
   ],
   "source": [
    "loss, aacuracy = model.evaluate(test_X, test_y)\n",
    "print(f\"Loss: {loss}\")\n",
    "print(f\"Accuracy: {aacuracy}\")"
   ]
  }
 ],
 "metadata": {
  "interpreter": {
   "hash": "3d3a7dd50f24026d066f2c6a8a7d4006fde6c54f2e0506c8cfdcd5b579ef212c"
  },
  "kernelspec": {
   "display_name": "Python 3.9.12 ('venv_milan': venv)",
   "language": "python",
   "name": "python3"
  },
  "language_info": {
   "codemirror_mode": {
    "name": "ipython",
    "version": 3
   },
   "file_extension": ".py",
   "mimetype": "text/x-python",
   "name": "python",
   "nbconvert_exporter": "python",
   "pygments_lexer": "ipython3",
   "version": "3.9.12"
  },
  "orig_nbformat": 4
 },
 "nbformat": 4,
 "nbformat_minor": 2
}
