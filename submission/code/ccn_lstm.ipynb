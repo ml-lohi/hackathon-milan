{
 "cells": [
  {
   "cell_type": "markdown",
   "metadata": {},
   "source": [
    "# Data preparation"
   ]
  },
  {
   "cell_type": "markdown",
   "metadata": {},
   "source": [
    "## Import Libs"
   ]
  },
  {
   "cell_type": "code",
   "execution_count": 1,
   "metadata": {},
   "outputs": [],
   "source": [
    "%matplotlib inline\n",
    "import numpy as np\n",
    "from utils.helper import read_data, morphology\n",
    "from tensorflow import keras\n",
    "FOLDER = \"data/data_big/\"\n",
    "MORPHOLOGY_ACTIVATED = True"
   ]
  },
  {
   "cell_type": "markdown",
   "metadata": {},
   "source": [
    "## Load data"
   ]
  },
  {
   "cell_type": "code",
   "execution_count": 2,
   "metadata": {},
   "outputs": [
    {
     "name": "stdout",
     "output_type": "stream",
     "text": [
      "----------------Shapes----------------\n",
      "empty: (480, 5, 3, 64, 64)\n",
      "1p: (480, 5, 3, 64, 64)\n",
      "2p: (480, 5, 3, 64, 64)\n",
      "3p: (480, 5, 3, 64, 64)\n"
     ]
    }
   ],
   "source": [
    "data_empty = read_data(FOLDER + \"empty.csv\")\n",
    "data_1p = read_data(FOLDER + \"1p.csv\")\n",
    "data_2p = read_data(FOLDER + \"2p.csv\")\n",
    "data_3p = read_data(FOLDER + \"3p.csv\")\n",
    "print(\"----------------Shapes----------------\")\n",
    "print(\"empty:\", data_empty.shape)\n",
    "print(\"1p:\", data_1p.shape)\n",
    "print(\"2p:\", data_2p.shape)\n",
    "print(\"3p:\", data_3p.shape)"
   ]
  },
  {
   "cell_type": "code",
   "execution_count": 3,
   "metadata": {},
   "outputs": [],
   "source": [
    "LENGTH_EMPTY = data_empty.shape[0]\n",
    "LENGTH_1P = data_1p.shape[0]\n",
    "LENGTH_2P = data_2p.shape[0]\n",
    "LENGTH_3P = data_3p.shape[0]"
   ]
  },
  {
   "cell_type": "code",
   "execution_count": 4,
   "metadata": {},
   "outputs": [],
   "source": [
    "data_empty_summed = np.abs(data_empty) \n",
    "data_1p_summed = np.abs(data_1p)\n",
    "data_2p_summed = np.abs(data_2p)\n",
    "data_3p_summed = np.abs(data_3p)"
   ]
  },
  {
   "cell_type": "code",
   "execution_count": 5,
   "metadata": {},
   "outputs": [],
   "source": [
    "data_empty_summed[:, :, :, 32, :] = 0\n",
    "data_1p_summed[:, :, :, 32, :] = 0\n",
    "data_2p_summed[:, :, :, 32, :] = 0\n",
    "data_3p_summed[:, :, :, 32, :] = 0"
   ]
  },
  {
   "cell_type": "code",
   "execution_count": 6,
   "metadata": {},
   "outputs": [
    {
     "name": "stdout",
     "output_type": "stream",
     "text": [
      "(480, 5, 64, 64, 3)\n",
      "(480, 5, 64, 64, 3)\n",
      "(480, 5, 64, 64, 3)\n",
      "(480, 5, 64, 64, 3)\n"
     ]
    }
   ],
   "source": [
    "data_0 = np.moveaxis(data_empty_summed, 2,4)\n",
    "data_1 = np.moveaxis(data_1p_summed, 2,4)\n",
    "data_2 = np.moveaxis(data_2p_summed, 2,4)\n",
    "data_3 = np.moveaxis(data_3p_summed, 2,4)\n",
    "print(data_0.shape)\n",
    "print(data_1.shape)\n",
    "print(data_2.shape)\n",
    "print(data_3.shape)"
   ]
  },
  {
   "cell_type": "code",
   "execution_count": 7,
   "metadata": {},
   "outputs": [
    {
     "data": {
      "text/plain": [
       "(1920, 5, 64, 64, 3)"
      ]
     },
     "execution_count": 7,
     "metadata": {},
     "output_type": "execute_result"
    }
   ],
   "source": [
    "data_tot = np.concatenate((data_0, data_1, data_2, data_3), axis=0)\n",
    "data_tot.shape"
   ]
  },
  {
   "cell_type": "code",
   "execution_count": 8,
   "metadata": {},
   "outputs": [
    {
     "name": "stdout",
     "output_type": "stream",
     "text": [
      "Labels shape: (1920,)\n"
     ]
    }
   ],
   "source": [
    "labels_empty = np.zeros(LENGTH_EMPTY)\n",
    "labels_1p = np.ones(LENGTH_1P)\n",
    "labels_2p = np.ones(LENGTH_2P) * 2\n",
    "labels_3p = np.ones(LENGTH_3P) * 3\n",
    "labels = np.concatenate((labels_empty, labels_1p, labels_2p, labels_3p), axis=0)\n",
    "print(\"Labels shape:\", labels.shape)"
   ]
  },
  {
   "cell_type": "code",
   "execution_count": 9,
   "metadata": {},
   "outputs": [
    {
     "name": "stdout",
     "output_type": "stream",
     "text": [
      "Labels abels one hot shape: (1920, 4)\n"
     ]
    }
   ],
   "source": [
    "train_labels_one_hot = np.eye(4)[labels.astype(int)]\n",
    "print(\"Labels abels one hot shape:\", train_labels_one_hot.shape)"
   ]
  },
  {
   "cell_type": "code",
   "execution_count": 10,
   "metadata": {},
   "outputs": [
    {
     "name": "stdout",
     "output_type": "stream",
     "text": [
      "Shape train_X: (1536, 5, 64, 64, 3)\n",
      "Shape test_X: (384, 5, 64, 64, 3)\n",
      "Shape train_y: (1536, 4)\n",
      "Shape test_y: (384, 4)\n"
     ]
    }
   ],
   "source": [
    "from sklearn.model_selection import train_test_split\n",
    "train_X, test_X, train_y, test_y = train_test_split(data_tot, train_labels_one_hot, test_size=0.2, stratify = train_labels_one_hot)\n",
    "print(f\"Shape train_X: {train_X.shape}\")\n",
    "print(f\"Shape test_X: {test_X.shape}\")\n",
    "print(f\"Shape train_y: {train_y.shape}\")\n",
    "print(f\"Shape test_y: {test_y.shape}\")"
   ]
  },
  {
   "cell_type": "markdown",
   "metadata": {},
   "source": [
    "# Model"
   ]
  },
  {
   "cell_type": "code",
   "execution_count": 11,
   "metadata": {},
   "outputs": [
    {
     "name": "stdout",
     "output_type": "stream",
     "text": [
      "Model: \"sequential\"\n",
      "_________________________________________________________________\n",
      " Layer (type)                Output Shape              Param #   \n",
      "=================================================================\n",
      " time_distributed (TimeDistr  (None, 5, 64, 64, 8)     608       \n",
      " ibuted)                                                         \n",
      "                                                                 \n",
      " time_distributed_1 (TimeDis  (None, 5, 32, 32, 8)     0         \n",
      " tributed)                                                       \n",
      "                                                                 \n",
      " time_distributed_2 (TimeDis  (None, 5, 32, 32, 4)     804       \n",
      " tributed)                                                       \n",
      "                                                                 \n",
      " time_distributed_3 (TimeDis  (None, 5, 16, 16, 4)     0         \n",
      " tributed)                                                       \n",
      "                                                                 \n",
      " time_distributed_4 (TimeDis  (None, 5, 16, 16, 4)     404       \n",
      " tributed)                                                       \n",
      "                                                                 \n",
      " time_distributed_5 (TimeDis  (None, 5, 8, 8, 4)       0         \n",
      " tributed)                                                       \n",
      "                                                                 \n",
      " time_distributed_6 (TimeDis  (None, 5, 256)           0         \n",
      " tributed)                                                       \n",
      "                                                                 \n",
      " lstm (LSTM)                 (None, 5)                 5240      \n",
      "                                                                 \n",
      " dense (Dense)               (None, 4)                 24        \n",
      "                                                                 \n",
      " activation (Activation)     (None, 4)                 0         \n",
      "                                                                 \n",
      "=================================================================\n",
      "Total params: 7,080\n",
      "Trainable params: 7,080\n",
      "Non-trainable params: 0\n",
      "_________________________________________________________________\n",
      "None\n"
     ]
    }
   ],
   "source": [
    "model = keras.models.Sequential()\n",
    "model.add(keras.Input(shape=(5, 64, 64, 3)))\n",
    "model.add(keras.layers.TimeDistributed(keras.layers.Conv2D(8,\n",
    "                      input_shape = (64,64,3),\n",
    "                      kernel_size = 5,\n",
    "                      padding = \"same\",\n",
    "                      activation = \"relu\")))\n",
    "model.add(keras.layers.TimeDistributed(keras.layers.MaxPooling2D(2,\n",
    "                                strides = None,\n",
    "                                padding = \"valid\")))\n",
    "model.add(keras.layers.TimeDistributed(keras.layers.Conv2D(4,\n",
    "                      input_shape = (32,32,3),\n",
    "                      kernel_size = 5,\n",
    "                      padding = \"same\",\n",
    "                      activation = \"relu\")))\n",
    "model.add(keras.layers.TimeDistributed(keras.layers.MaxPooling2D(2,\n",
    "                                strides = None,\n",
    "                                padding = \"valid\")))\n",
    "model.add(keras.layers.TimeDistributed(keras.layers.Conv2D(4,\n",
    "                      input_shape = (16,16,3),\n",
    "                      kernel_size = 5,\n",
    "                      padding = \"same\",\n",
    "                      activation = \"relu\")))\n",
    "model.add(keras.layers.TimeDistributed(keras.layers.MaxPooling2D(2,\n",
    "                                strides = None,\n",
    "                                padding = \"valid\")))\n",
    "model.add(keras.layers.TimeDistributed(keras.layers.Flatten()))\n",
    "# define LSTM model\n",
    "model.add(keras.layers.LSTM(5))\n",
    "model.add(keras.layers.Dense(4))\n",
    "model.add(keras.layers.Activation(\"softmax\"))\n",
    "\n",
    "print(model.summary())"
   ]
  },
  {
   "cell_type": "code",
   "execution_count": 12,
   "metadata": {},
   "outputs": [
    {
     "name": "stdout",
     "output_type": "stream",
     "text": [
      "Epoch 1/100\n",
      "44/44 [==============================] - 15s 287ms/step - loss: 1.2057 - accuracy: 0.4421 - val_loss: 0.9090 - val_accuracy: 0.4740\n",
      "Epoch 2/100\n",
      "44/44 [==============================] - 12s 275ms/step - loss: 0.8474 - accuracy: 0.5550 - val_loss: 0.7673 - val_accuracy: 0.6429\n",
      "Epoch 3/100\n",
      "44/44 [==============================] - 12s 275ms/step - loss: 0.7597 - accuracy: 0.6585 - val_loss: 0.7196 - val_accuracy: 0.7078\n",
      "Epoch 4/100\n",
      "44/44 [==============================] - 13s 292ms/step - loss: 0.7119 - accuracy: 0.6860 - val_loss: 0.6988 - val_accuracy: 0.7273\n",
      "Epoch 5/100\n",
      "44/44 [==============================] - 12s 273ms/step - loss: 0.6970 - accuracy: 0.6896 - val_loss: 0.6706 - val_accuracy: 0.6883\n",
      "Epoch 6/100\n",
      "44/44 [==============================] - 12s 276ms/step - loss: 0.6541 - accuracy: 0.6954 - val_loss: 0.6616 - val_accuracy: 0.7208\n",
      "Epoch 7/100\n",
      "44/44 [==============================] - 12s 276ms/step - loss: 0.6357 - accuracy: 0.7149 - val_loss: 0.6299 - val_accuracy: 0.7143\n",
      "Epoch 8/100\n",
      "44/44 [==============================] - 13s 288ms/step - loss: 0.6085 - accuracy: 0.7142 - val_loss: 0.6144 - val_accuracy: 0.7208\n",
      "Epoch 9/100\n",
      "44/44 [==============================] - 13s 291ms/step - loss: 0.5965 - accuracy: 0.7236 - val_loss: 0.5699 - val_accuracy: 0.7403\n",
      "Epoch 10/100\n",
      "44/44 [==============================] - 13s 288ms/step - loss: 0.5748 - accuracy: 0.7330 - val_loss: 0.5412 - val_accuracy: 0.7403\n",
      "Epoch 11/100\n",
      "44/44 [==============================] - 12s 268ms/step - loss: 0.5430 - accuracy: 0.7424 - val_loss: 0.5291 - val_accuracy: 0.7338\n",
      "Epoch 12/100\n",
      "44/44 [==============================] - 12s 263ms/step - loss: 0.5389 - accuracy: 0.7344 - val_loss: 0.5030 - val_accuracy: 0.7727\n",
      "Epoch 13/100\n",
      "44/44 [==============================] - 11s 255ms/step - loss: 0.5133 - accuracy: 0.7446 - val_loss: 0.5064 - val_accuracy: 0.7662\n",
      "Epoch 14/100\n",
      "44/44 [==============================] - 12s 263ms/step - loss: 0.5056 - accuracy: 0.7496 - val_loss: 0.5753 - val_accuracy: 0.7208\n",
      "Epoch 15/100\n",
      "44/44 [==============================] - 12s 273ms/step - loss: 0.5186 - accuracy: 0.7656 - val_loss: 0.5484 - val_accuracy: 0.7273\n"
     ]
    },
    {
     "name": "stderr",
     "output_type": "stream",
     "text": [
      "WARNING:absl:Found untraced functions such as _jit_compiled_convolution_op, _jit_compiled_convolution_op, _jit_compiled_convolution_op, lstm_cell_layer_call_fn, lstm_cell_layer_call_and_return_conditional_losses while saving (showing 5 of 5). These functions will not be directly callable after loading.\n"
     ]
    },
    {
     "name": "stdout",
     "output_type": "stream",
     "text": [
      "INFO:tensorflow:Assets written to: models_kosta/LSTM\\assets\n"
     ]
    },
    {
     "name": "stderr",
     "output_type": "stream",
     "text": [
      "INFO:tensorflow:Assets written to: models_kosta/LSTM\\assets\n"
     ]
    }
   ],
   "source": [
    "model.compile(\n",
    "    loss = \"categorical_crossentropy\",\n",
    "    optimizer = keras.optimizers.Adam(learning_rate = 0.001),\n",
    "    metrics = ['accuracy']\n",
    ")\n",
    "\n",
    "model.fit(\n",
    "    train_X, train_y,\n",
    "    epochs  = 100,\n",
    "    verbose = 1,\n",
    "    validation_split = 0.1,\n",
    "    shuffle= True,\n",
    "    callbacks=[keras.callbacks.EarlyStopping(patience = 3)]\n",
    ")\n",
    "\n",
    "model.save(\"models_kosta/LSTM\")"
   ]
  },
  {
   "cell_type": "code",
   "execution_count": 13,
   "metadata": {},
   "outputs": [
    {
     "name": "stdout",
     "output_type": "stream",
     "text": [
      "12/12 [==============================] - 1s 101ms/step - loss: 0.5630 - accuracy: 0.7057\n",
      "Loss: 0.562972366809845\n",
      "Accuracy: 0.7057291865348816\n"
     ]
    }
   ],
   "source": [
    "loss, aacuracy = model.evaluate(test_X, test_y)\n",
    "print(f\"Loss: {loss}\")\n",
    "print(f\"Accuracy: {aacuracy}\")"
   ]
  }
 ],
 "metadata": {
  "interpreter": {
   "hash": "3a9dc74e55c2756006c2e3836791e686da87212d2fb823421f3744ac01945fbe"
  },
  "kernelspec": {
   "display_name": "Python 3.9.5 ('milan-env': venv)",
   "language": "python",
   "name": "python3"
  },
  "language_info": {
   "codemirror_mode": {
    "name": "ipython",
    "version": 3
   },
   "file_extension": ".py",
   "mimetype": "text/x-python",
   "name": "python",
   "nbconvert_exporter": "python",
   "pygments_lexer": "ipython3",
   "version": "3.9.5"
  },
  "orig_nbformat": 4
 },
 "nbformat": 4,
 "nbformat_minor": 2
}
