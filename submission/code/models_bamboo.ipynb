{
 "cells": [
  {
   "cell_type": "markdown",
   "metadata": {},
   "source": [
    "# Simple CNN notebook"
   ]
  },
  {
   "cell_type": "markdown",
   "metadata": {},
   "source": [
    "## Import Libraries"
   ]
  },
  {
   "cell_type": "code",
   "execution_count": 1,
   "metadata": {},
   "outputs": [],
   "source": [
    "%matplotlib inline\n",
    "import numpy as np\n",
    "from utils.helper import read_data, blur, to_real, morphology\n",
    "import cv2\n",
    "import matplotlib.pyplot as plt\n",
    "from tensorflow import keras\n",
    "FOLDER = \"data/data_big/\""
   ]
  },
  {
   "cell_type": "markdown",
   "metadata": {},
   "source": [
    "## Load data"
   ]
  },
  {
   "cell_type": "code",
   "execution_count": 2,
   "metadata": {},
   "outputs": [
    {
     "name": "stdout",
     "output_type": "stream",
     "text": [
      "----------------Shapes----------------\n",
      "empty: (480, 5, 3, 64, 64)\n",
      "1p: (480, 5, 3, 64, 64)\n",
      "2p: (480, 5, 3, 64, 64)\n",
      "3p: (480, 5, 3, 64, 64)\n"
     ]
    }
   ],
   "source": [
    "data_empty = read_data(FOLDER + \"empty.csv\")\n",
    "data_1p = read_data(FOLDER + \"1p.csv\")\n",
    "data_2p = read_data(FOLDER + \"2p.csv\")\n",
    "data_3p = read_data(FOLDER + \"3p.csv\")\n",
    "print(\"----------------Shapes----------------\")\n",
    "print(\"empty:\", data_empty.shape)\n",
    "print(\"1p:\", data_1p.shape)\n",
    "print(\"2p:\", data_2p.shape)\n",
    "print(\"3p:\", data_3p.shape)"
   ]
  },
  {
   "cell_type": "code",
   "execution_count": 133,
   "metadata": {},
   "outputs": [
    {
     "name": "stdout",
     "output_type": "stream",
     "text": [
      "data_1p_reshaped: (240, 10, 3, 64, 64)\n",
      "data_2p_reshaped: (240, 10, 3, 64, 64)\n",
      "data_3p_reshaped: (240, 10, 3, 64, 64)\n",
      "data_empty_reshaped: (240, 10, 3, 64, 64)\n"
     ]
    }
   ],
   "source": [
    "data_1p_reshaped = data_1p.reshape(-1, 10,3,64,64)\n",
    "data_2p_reshaped = data_2p.reshape(-1,10,3,64,64)\n",
    "data_3p_reshaped = data_3p.reshape(-1,10,3,64,64)\n",
    "data_empty_reshaped = data_empty.reshape(-1,10,3,64,64)\n",
    "print(f\"data_1p_reshaped: {data_1p_reshaped.shape}\")\n",
    "print(f\"data_2p_reshaped: {data_2p_reshaped.shape}\")\n",
    "print(f\"data_3p_reshaped: {data_3p_reshaped.shape}\")\n",
    "print(f\"data_empty_reshaped: {data_empty_reshaped.shape}\")"
   ]
  },
  {
   "cell_type": "code",
   "execution_count": 134,
   "metadata": {},
   "outputs": [
    {
     "name": "stdout",
     "output_type": "stream",
     "text": [
      "data_empty_abs: (240, 10, 3, 64, 64)\n",
      "data_1p_abs: (240, 10, 3, 64, 64)\n",
      "data_2p_abs: (240, 10, 3, 64, 64)\n",
      "data_3p_abs: (240, 10, 3, 64, 64)\n"
     ]
    }
   ],
   "source": [
    "data_empty_abs = np.abs(data_empty_reshaped)\n",
    "data_1p_abs = np.abs(data_1p_reshaped)\n",
    "data_2p_abs = np.abs(data_2p_reshaped)\n",
    "data_3p_abs = np.abs(data_3p_reshaped)\n",
    "print(f\"data_empty_abs: {data_empty_abs.shape}\")\n",
    "print(f\"data_1p_abs: {data_1p_abs.shape}\")\n",
    "print(f\"data_2p_abs: {data_2p_abs.shape}\")\n",
    "print(f\"data_3p_abs: {data_3p_abs.shape}\")"
   ]
  },
  {
   "cell_type": "code",
   "execution_count": 225,
   "metadata": {},
   "outputs": [
    {
     "name": "stdout",
     "output_type": "stream",
     "text": [
      "(240, 3, 6, 64)\n",
      "(3, 6, 64)\n",
      "(1, 1, 3, 6, 64)\n",
      "data_1p_abs: (240, 10, 3, 64, 64)\n",
      "data_2p_abs: (240, 10, 3, 64, 64)\n",
      "data_3p_abs: (240, 10, 3, 64, 64)\n"
     ]
    }
   ],
   "source": [
    "\n",
    "\"\"\"noise = np.mean(data_empty_abs[:,:,:,30:36,:], axis = 1) \n",
    "print(noise.shape)\n",
    "noise = np.mean(noise[:,:,:,:], axis = 0) \n",
    "print(noise.shape)\n",
    "noise = np.expand_dims(noise, axis = 0)\n",
    "noise = np.expand_dims(noise, axis = 0)\n",
    "print(noise.shape)\n",
    "data_1p_abs[:,:,:,30:36,:] = data_1p_abs[:,:,:,30:36,:] - noise\n",
    "data_2p_abs[:,:,:,30:36,:] = data_2p_abs[:,:,:,30:36,:] - noise\n",
    "data_3p_abs[:,:,:,30:36,:] = data_3p_abs[:,:,:,30:36,:] - noise\n",
    "print(f\"data_1p_abs: {data_1p_abs.shape}\")\n",
    "print(f\"data_2p_abs: {data_2p_abs.shape}\")\n",
    "print(f\"data_3p_abs: {data_3p_abs.shape}\")\"\"\""
   ]
  },
  {
   "cell_type": "code",
   "execution_count": 292,
   "metadata": {},
   "outputs": [],
   "source": [
    "\n",
    "\n",
    "\n",
    "def normalize_data(data):\n",
    "    return (data - np.min(data)) / (np.max(data) - np.min(data))*255\n",
    "\n",
    "def calculate_saliency_map_3(frames, to_morph = True):\n",
    "    \"\"\" n_frames, n_radars, 64, 64\"\"\"\n",
    "    \"\"\"new_frames = []\n",
    "    for frame in frames:\n",
    "        mean = np.mean(frame)\n",
    "        frame_new = np.where(frame > mean, frame, 0)\n",
    "        new_frames.append(frame_new)\n",
    "    new_frames = np.array(new_frames)\n",
    "    frames = new_frames\"\"\"\n",
    "    frames[:,:,31:34,:] = 0\n",
    "    # differences = np.abs(np.diff(frames, axis=0))\n",
    "    #print(differences.shape)\n",
    "    multiplications = np.zeros((frames.shape[0]-1, frames.shape[1], 64, 64))\n",
    "    for i in range(frames.shape[0] - 1):\n",
    "        for j in range(frames.shape[1]):\n",
    "            mult = np.multiply(frames[i,j,:,:], frames[i+1,j,:,:])\n",
    "            multiplications[i,j,:,:] = mult\n",
    "\n",
    "    if to_morph:\n",
    "        morphology = np.zeros(multiplications.shape)\n",
    "        for i in range(multiplications.shape[0]):\n",
    "            for j in range(multiplications.shape[1]):\n",
    "                morph = cv2.morphologyEx(multiplications[i,j,:,:], cv2.MORPH_OPEN, np.ones((2, 2)))\n",
    "                morphology[i,j,:,:] = morph\n",
    "        saliency_map = np.expand_dims(np.sum(morphology, axis=0), axis=0)\n",
    "    else:\n",
    "        saliency_map = np.expand_dims(np.sum(multiplications, axis=0), axis=0)\n",
    "\n",
    "    return normalize_data(saliency_map).squeeze()\n",
    "\n",
    "def calculate_saliency_map_1(frames, to_morph = True):\n",
    "    new_frames = []\n",
    "    for frame in frames:\n",
    "        mean = np.mean(frame)\n",
    "        frame_new = np.where(frame > mean, frame, 0)\n",
    "        new_frames.append(frame_new)\n",
    "    new_frames = np.array(new_frames)\n",
    "    frames = new_frames\n",
    "    frames[:,31:34,:] = 0\n",
    "    multiplications = []\n",
    "    for i in range(frames.shape[0] - 1):\n",
    "        multiplications.append(np.multiply(frames[i], frames[i + 1]))\n",
    "\n",
    "    multiplications = np.array(multiplications)\n",
    "    if to_morph:\n",
    "        morph = np.array(\n",
    "        [cv2.morphologyEx(img, cv2.MORPH_OPEN, np.ones((5, 5))) for img in multiplications]\n",
    "        )\n",
    "        saliency_map = np.expand_dims(np.sum(morph, axis=0), axis=0)\n",
    "    else:\n",
    "        saliency_map = np.expand_dims(np.sum(multiplications, axis=0), axis=0)\n",
    "\n",
    "    return normalize_data(saliency_map).squeeze()\n",
    "\n",
    "\n",
    "def derivative(frames):\n",
    "    frames[:,31:34,:] = 0\n",
    "    img = np.sum(frames, axis = 0).squeeze()\n",
    "    sobelx = cv2.Sobel(img,cv2.CV_64F,1,0,ksize=3)\n",
    "    sobelx = cv2.Sobel(sobelx,cv2.CV_64F,1,0,ksize=5)\n",
    "    sobely = 1 - normalize_data(sobelx)\n",
    "    return sobely\n",
    "\n",
    "def subtract_noise(data, indices, noise):\n",
    "    data[indices] \n",
    "    pass\n",
    "\n",
    "def easy_preprocessing(frames):\n",
    "    frames[:,31:34,:] = 0\n",
    "    img = np.sum(frames, axis = 0).squeeze()\n",
    "    return normalize_data(img)"
   ]
  },
  {
   "cell_type": "code",
   "execution_count": 304,
   "metadata": {},
   "outputs": [
    {
     "name": "stdout",
     "output_type": "stream",
     "text": [
      "data_empty_diffs: (240, 3, 64, 64)\n",
      "data_1p_diffs: (240, 3, 64, 64)\n",
      "data_2p_diffs: (240, 3, 64, 64)\n",
      "data_3p_diffs: (240, 3, 64, 64)\n"
     ]
    }
   ],
   "source": [
    "data_empty_diffs = np.array([easy_preprocessing(sample) for sample in data_empty_abs])\n",
    "data_1p_diffs = np.array([easy_preprocessing(sample)  for sample in data_1p_abs])\n",
    "data_2p_diffs = np.array([easy_preprocessing(sample)  for sample in data_2p_abs])\n",
    "data_3p_diffs = np.array([easy_preprocessing(sample)  for sample in data_3p_abs])\n",
    "\n",
    "print(f\"data_empty_diffs: {data_empty_diffs.shape}\")\n",
    "print(f\"data_1p_diffs: {data_1p_diffs.shape}\")\n",
    "print(f\"data_2p_diffs: {data_2p_diffs.shape}\")\n",
    "print(f\"data_3p_diffs: {data_3p_diffs.shape}\")"
   ]
  },
  {
   "cell_type": "code",
   "execution_count": 294,
   "metadata": {},
   "outputs": [
    {
     "data": {
      "text/plain": [
       "<matplotlib.image.AxesImage at 0x26bc6af3730>"
      ]
     },
     "execution_count": 294,
     "metadata": {},
     "output_type": "execute_result"
    },
    {
     "data": {
      "image/png": "[encoded data removed]",
      "text/plain": [
       "<Figure size 1080x360 with 3 Axes>"
      ]
     },
     "metadata": {
      "needs_background": "light"
     },
     "output_type": "display_data"
    }
   ],
   "source": [
    "##### plot random sample\n",
    "random_sample = np.random.randint(0, data_empty_diffs.shape[0])\n",
    "fig, ax = plt.subplots(1, 3, figsize=(15, 5))\n",
    "plot_sample = data_3p_diffs.copy()\n",
    "ax[0].imshow(plot_sample[random_sample,0, :, :])\n",
    "ax[1].imshow(plot_sample[random_sample, 1,:, :])\n",
    "ax[2].imshow(plot_sample[random_sample, 2, :, :])"
   ]
  },
  {
   "cell_type": "code",
   "execution_count": 295,
   "metadata": {},
   "outputs": [
    {
     "name": "stdout",
     "output_type": "stream",
     "text": [
      "(240, 64, 64)\n",
      "(240, 64, 64)\n",
      "(240, 64, 64)\n",
      "(240, 64, 64)\n"
     ]
    }
   ],
   "source": [
    "\"\"\"data_0 = np.moveaxis(data_empty_diffs, 1,3)\n",
    "data_1 = np.moveaxis(data_1p_diffs, 1,3)\n",
    "data_2 = np.moveaxis(data_2p_diffs, 1,3)\n",
    "data_3 = np.moveaxis(data_3p_diffs, 1,3)\n",
    "print(data_0.shape)\n",
    "print(data_1.shape)\n",
    "print(data_2.shape)\n",
    "print(data_3.shape)\"\"\"\n",
    "data_0 = data_empty_diffs\n",
    "data_1 = data_1p_diffs\n",
    "data_2 = data_2p_diffs\n",
    "data_3 = data_3p_diffs\n",
    "print(data_0.shape)\n",
    "print(data_1.shape)\n",
    "print(data_2.shape)\n",
    "print(data_3.shape)"
   ]
  },
  {
   "cell_type": "code",
   "execution_count": 296,
   "metadata": {},
   "outputs": [
    {
     "data": {
      "text/plain": [
       "(960, 64, 64)"
      ]
     },
     "execution_count": 296,
     "metadata": {},
     "output_type": "execute_result"
    }
   ],
   "source": [
    "data_tot = np.concatenate((data_0, data_1, data_2, data_3), axis=0)\n",
    "data_tot.shape"
   ]
  },
  {
   "cell_type": "markdown",
   "metadata": {},
   "source": [
    "### Create Labels"
   ]
  },
  {
   "cell_type": "code",
   "execution_count": 297,
   "metadata": {},
   "outputs": [
    {
     "name": "stdout",
     "output_type": "stream",
     "text": [
      "Labels shape: (960,)\n"
     ]
    }
   ],
   "source": [
    "labels_empty = np.zeros(data_0.shape[0])\n",
    "labels_1p = np.ones(data_1.shape[0])\n",
    "labels_2p = np.ones(data_2.shape[0]) * 2\n",
    "labels_3p = np.ones(data_3.shape[0]) * 3\n",
    "labels = np.concatenate((labels_empty, labels_1p, labels_2p, labels_3p), axis=0)\n",
    "print(\"Labels shape:\", labels.shape)"
   ]
  },
  {
   "cell_type": "code",
   "execution_count": 298,
   "metadata": {},
   "outputs": [
    {
     "name": "stdout",
     "output_type": "stream",
     "text": [
      "Labels abels one hot shape: (960, 4)\n"
     ]
    }
   ],
   "source": [
    "train_labels_one_hot = np.eye(4)[labels.astype(int)]\n",
    "print(\"Labels abels one hot shape:\", train_labels_one_hot.shape)"
   ]
  },
  {
   "cell_type": "code",
   "execution_count": 299,
   "metadata": {},
   "outputs": [
    {
     "name": "stdout",
     "output_type": "stream",
     "text": [
      "Shape train_X: (864, 64, 64)\n",
      "Shape test_X: (96, 64, 64)\n",
      "Shape train_y: (864, 4)\n",
      "Shape test_y: (96, 4)\n"
     ]
    }
   ],
   "source": [
    "from sklearn.model_selection import train_test_split\n",
    "train_X, test_X, train_y, test_y = train_test_split(data_tot, train_labels_one_hot, test_size=0.1, stratify=labels)\n",
    "print(f\"Shape train_X: {train_X.shape}\")\n",
    "print(f\"Shape test_X: {test_X.shape}\")\n",
    "print(f\"Shape train_y: {train_y.shape}\")\n",
    "print(f\"Shape test_y: {test_y.shape}\")"
   ]
  },
  {
   "cell_type": "code",
   "execution_count": 300,
   "metadata": {},
   "outputs": [
    {
     "name": "stdout",
     "output_type": "stream",
     "text": [
      "Model: \"sequential_21\"\n",
      "_________________________________________________________________\n",
      " Layer (type)                Output Shape              Param #   \n",
      "=================================================================\n",
      " conv2d_79 (Conv2D)          (None, 64, 64, 4)         104       \n",
      "                                                                 \n",
      " max_pooling2d_79 (MaxPoolin  (None, 32, 32, 4)        0         \n",
      " g2D)                                                            \n",
      "                                                                 \n",
      " conv2d_80 (Conv2D)          (None, 32, 32, 4)         148       \n",
      "                                                                 \n",
      " max_pooling2d_80 (MaxPoolin  (None, 16, 16, 4)        0         \n",
      " g2D)                                                            \n",
      "                                                                 \n",
      " conv2d_81 (Conv2D)          (None, 16, 16, 4)         148       \n",
      "                                                                 \n",
      " max_pooling2d_81 (MaxPoolin  (None, 8, 8, 4)          0         \n",
      " g2D)                                                            \n",
      "                                                                 \n",
      " conv2d_82 (Conv2D)          (None, 8, 8, 2)           74        \n",
      "                                                                 \n",
      " max_pooling2d_82 (MaxPoolin  (None, 4, 4, 2)          0         \n",
      " g2D)                                                            \n",
      "                                                                 \n",
      " flatten_21 (Flatten)        (None, 32)                0         \n",
      "                                                                 \n",
      " dense_21 (Dense)            (None, 4)                 132       \n",
      "                                                                 \n",
      " activation_21 (Activation)  (None, 4)                 0         \n",
      "                                                                 \n",
      "=================================================================\n",
      "Total params: 606\n",
      "Trainable params: 606\n",
      "Non-trainable params: 0\n",
      "_________________________________________________________________\n",
      "None\n"
     ]
    }
   ],
   "source": [
    "models = keras.models\n",
    "layers = keras.layers\n",
    "\n",
    "model = models.Sequential(\n",
    "    [\n",
    "        layers.Conv2D(4,\n",
    "                      input_shape = (64,64, 1),\n",
    "                      kernel_size = 5,\n",
    "                      padding = \"same\",\n",
    "                      activation = \"relu\"),\n",
    "        layers.MaxPooling2D(2,\n",
    "                            strides = None,\n",
    "                            padding = \"valid\"),\n",
    "        layers.Conv2D(4,\n",
    "                    #   input_shape = (32,32, 1),\n",
    "                      kernel_size = 3,\n",
    "                      padding = \"same\",\n",
    "                      activation = \"relu\"),\n",
    "        layers.MaxPooling2D(2,\n",
    "                    strides = None,\n",
    "                    padding = \"valid\"),\n",
    "        layers.Conv2D(4,\n",
    "                    #   input_shape = (32,32, 1),\n",
    "                      kernel_size = 3,\n",
    "                      padding = \"same\",\n",
    "                      activation = \"relu\"),\n",
    "        layers.MaxPooling2D(2,\n",
    "                    strides = None,\n",
    "                    padding = \"valid\"),\n",
    "        layers.Conv2D(2,\n",
    "                    #   input_shape = (32,32, 1),\n",
    "                      kernel_size = 3,\n",
    "                      padding = \"same\",\n",
    "                      activation = \"relu\"),\n",
    "        layers.MaxPooling2D(2,\n",
    "                    strides = None,\n",
    "                    padding = \"valid\"),\n",
    "        layers.Flatten(),\n",
    "        layers.Dense(4),\n",
    "        layers.Activation(\"softmax\")\n",
    "    ]\n",
    ")\n",
    "print(model.summary())"
   ]
  },
  {
   "cell_type": "code",
   "execution_count": 301,
   "metadata": {},
   "outputs": [
    {
     "name": "stdout",
     "output_type": "stream",
     "text": [
      "Epoch 1/1000\n",
      "25/25 [==============================] - 1s 32ms/step - loss: 5.7691 - accuracy: 0.1763 - val_loss: 2.1533 - val_accuracy: 0.1034\n",
      "Epoch 2/1000\n",
      "25/25 [==============================] - 1s 28ms/step - loss: 1.7400 - accuracy: 0.1583 - val_loss: 1.4322 - val_accuracy: 0.2759\n",
      "Epoch 3/1000\n",
      "25/25 [==============================] - 1s 30ms/step - loss: 1.3912 - accuracy: 0.3076 - val_loss: 1.2716 - val_accuracy: 0.4138\n",
      "Epoch 4/1000\n",
      "25/25 [==============================] - 1s 28ms/step - loss: 1.2726 - accuracy: 0.3758 - val_loss: 1.1580 - val_accuracy: 0.4483\n",
      "Epoch 5/1000\n",
      "25/25 [==============================] - 1s 26ms/step - loss: 1.1760 - accuracy: 0.4479 - val_loss: 1.0434 - val_accuracy: 0.4943\n",
      "Epoch 6/1000\n",
      "25/25 [==============================] - 1s 26ms/step - loss: 1.0848 - accuracy: 0.5032 - val_loss: 0.9558 - val_accuracy: 0.5632\n",
      "Epoch 7/1000\n",
      "25/25 [==============================] - 1s 27ms/step - loss: 1.0048 - accuracy: 0.5714 - val_loss: 0.8947 - val_accuracy: 0.6322\n",
      "Epoch 8/1000\n",
      "25/25 [==============================] - 1s 26ms/step - loss: 0.9488 - accuracy: 0.5817 - val_loss: 0.8531 - val_accuracy: 0.6207\n",
      "Epoch 9/1000\n",
      "25/25 [==============================] - 1s 26ms/step - loss: 0.9049 - accuracy: 0.6100 - val_loss: 0.8300 - val_accuracy: 0.6092\n",
      "Epoch 10/1000\n",
      "25/25 [==============================] - 1s 25ms/step - loss: 0.8752 - accuracy: 0.6075 - val_loss: 0.8049 - val_accuracy: 0.6322\n",
      "Epoch 11/1000\n",
      "25/25 [==============================] - 1s 27ms/step - loss: 0.8452 - accuracy: 0.6203 - val_loss: 0.7808 - val_accuracy: 0.6437\n",
      "Epoch 12/1000\n",
      "25/25 [==============================] - 1s 25ms/step - loss: 0.8259 - accuracy: 0.6075 - val_loss: 0.7917 - val_accuracy: 0.6092\n",
      "Epoch 13/1000\n",
      "25/25 [==============================] - 1s 25ms/step - loss: 0.8073 - accuracy: 0.6268 - val_loss: 0.7699 - val_accuracy: 0.6207\n",
      "Epoch 14/1000\n",
      "25/25 [==============================] - 1s 26ms/step - loss: 0.7807 - accuracy: 0.6371 - val_loss: 0.7672 - val_accuracy: 0.6207\n",
      "Epoch 15/1000\n",
      "25/25 [==============================] - 1s 26ms/step - loss: 0.7712 - accuracy: 0.6384 - val_loss: 0.7472 - val_accuracy: 0.6437\n",
      "Epoch 16/1000\n",
      "25/25 [==============================] - 1s 27ms/step - loss: 0.7600 - accuracy: 0.6512 - val_loss: 0.7439 - val_accuracy: 0.6552\n",
      "Epoch 17/1000\n",
      "25/25 [==============================] - 1s 26ms/step - loss: 0.7448 - accuracy: 0.6512 - val_loss: 0.7148 - val_accuracy: 0.6552\n",
      "Epoch 18/1000\n",
      "25/25 [==============================] - 1s 25ms/step - loss: 0.7318 - accuracy: 0.6577 - val_loss: 0.7261 - val_accuracy: 0.6667\n",
      "Epoch 19/1000\n",
      "25/25 [==============================] - 1s 25ms/step - loss: 0.7208 - accuracy: 0.6705 - val_loss: 0.7071 - val_accuracy: 0.6437\n",
      "Epoch 20/1000\n",
      "25/25 [==============================] - 1s 25ms/step - loss: 0.7073 - accuracy: 0.6744 - val_loss: 0.7145 - val_accuracy: 0.6552\n",
      "Epoch 21/1000\n",
      "25/25 [==============================] - 1s 25ms/step - loss: 0.6977 - accuracy: 0.6924 - val_loss: 0.7027 - val_accuracy: 0.6437\n",
      "Epoch 22/1000\n",
      "25/25 [==============================] - 1s 25ms/step - loss: 0.6898 - accuracy: 0.6885 - val_loss: 0.6958 - val_accuracy: 0.6437\n",
      "Epoch 23/1000\n",
      "25/25 [==============================] - 1s 24ms/step - loss: 0.6756 - accuracy: 0.7040 - val_loss: 0.7095 - val_accuracy: 0.6667\n",
      "Epoch 24/1000\n",
      "25/25 [==============================] - 1s 25ms/step - loss: 0.6710 - accuracy: 0.6976 - val_loss: 0.7081 - val_accuracy: 0.6552\n",
      "Epoch 25/1000\n",
      "25/25 [==============================] - 1s 25ms/step - loss: 0.6636 - accuracy: 0.7027 - val_loss: 0.7064 - val_accuracy: 0.6552\n",
      "Epoch 26/1000\n",
      "25/25 [==============================] - 1s 25ms/step - loss: 0.6511 - accuracy: 0.7297 - val_loss: 0.7025 - val_accuracy: 0.6437\n",
      "Epoch 27/1000\n",
      "25/25 [==============================] - 1s 25ms/step - loss: 0.6389 - accuracy: 0.7194 - val_loss: 0.6974 - val_accuracy: 0.6552\n",
      "Epoch 28/1000\n",
      "25/25 [==============================] - 1s 25ms/step - loss: 0.6256 - accuracy: 0.7413 - val_loss: 0.6875 - val_accuracy: 0.6667\n",
      "Epoch 29/1000\n",
      "25/25 [==============================] - 1s 25ms/step - loss: 0.6220 - accuracy: 0.7336 - val_loss: 0.6797 - val_accuracy: 0.6552\n",
      "Epoch 30/1000\n",
      "25/25 [==============================] - 1s 25ms/step - loss: 0.6192 - accuracy: 0.7233 - val_loss: 0.6747 - val_accuracy: 0.6782\n",
      "Epoch 31/1000\n",
      "25/25 [==============================] - 1s 25ms/step - loss: 0.6145 - accuracy: 0.7310 - val_loss: 0.7045 - val_accuracy: 0.6667\n",
      "Epoch 32/1000\n",
      "25/25 [==============================] - 1s 25ms/step - loss: 0.5952 - accuracy: 0.7426 - val_loss: 0.6753 - val_accuracy: 0.6552\n",
      "Epoch 33/1000\n",
      "25/25 [==============================] - 1s 25ms/step - loss: 0.5901 - accuracy: 0.7413 - val_loss: 0.6812 - val_accuracy: 0.7011\n",
      "Epoch 34/1000\n",
      "25/25 [==============================] - 1s 25ms/step - loss: 0.5794 - accuracy: 0.7465 - val_loss: 0.6939 - val_accuracy: 0.6667\n",
      "Epoch 35/1000\n",
      "25/25 [==============================] - 1s 25ms/step - loss: 0.5703 - accuracy: 0.7477 - val_loss: 0.7149 - val_accuracy: 0.6667\n",
      "Epoch 36/1000\n",
      "25/25 [==============================] - 1s 25ms/step - loss: 0.5630 - accuracy: 0.7542 - val_loss: 0.6886 - val_accuracy: 0.7011\n",
      "Epoch 37/1000\n",
      "25/25 [==============================] - 1s 26ms/step - loss: 0.5642 - accuracy: 0.7516 - val_loss: 0.7151 - val_accuracy: 0.7011\n",
      "Epoch 38/1000\n",
      "25/25 [==============================] - 1s 25ms/step - loss: 0.5452 - accuracy: 0.7529 - val_loss: 0.7021 - val_accuracy: 0.7011\n",
      "Epoch 39/1000\n",
      "25/25 [==============================] - 1s 25ms/step - loss: 0.5354 - accuracy: 0.7555 - val_loss: 0.6803 - val_accuracy: 0.7011\n",
      "Epoch 40/1000\n",
      "25/25 [==============================] - 1s 25ms/step - loss: 0.5213 - accuracy: 0.7799 - val_loss: 0.6970 - val_accuracy: 0.6897\n"
     ]
    },
    {
     "name": "stderr",
     "output_type": "stream",
     "text": [
      "WARNING:absl:Found untraced functions such as _jit_compiled_convolution_op, _jit_compiled_convolution_op, _jit_compiled_convolution_op, _jit_compiled_convolution_op while saving (showing 4 of 4). These functions will not be directly callable after loading.\n"
     ]
    },
    {
     "name": "stdout",
     "output_type": "stream",
     "text": [
      "INFO:tensorflow:Assets written to: models/CNN\\assets\n"
     ]
    },
    {
     "name": "stderr",
     "output_type": "stream",
     "text": [
      "INFO:tensorflow:Assets written to: models/CNN\\assets\n"
     ]
    }
   ],
   "source": [
    "model.compile(\n",
    "    loss = \"categorical_crossentropy\",\n",
    "    optimizer = keras.optimizers.Adam(learning_rate = 0.001),\n",
    "    metrics = ['accuracy']\n",
    ")\n",
    "\n",
    "model.fit(\n",
    "    train_X, train_y,\n",
    "    epochs  = 1000,\n",
    "    verbose = 1,\n",
    "    validation_split = 0.1,\n",
    "    shuffle= True,\n",
    "    callbacks=keras.callbacks.EarlyStopping(patience = 10)\n",
    ")\n",
    "\n",
    "model.save('models/CNN')"
   ]
  },
  {
   "cell_type": "code",
   "execution_count": 302,
   "metadata": {},
   "outputs": [
    {
     "name": "stdout",
     "output_type": "stream",
     "text": [
      "3/3 [==============================] - 0s 10ms/step - loss: 0.7026 - accuracy: 0.6875\n",
      "Loss: 0.702586829662323\n",
      "Accuracy: 0.6875\n"
     ]
    }
   ],
   "source": [
    "loss, aacuracy = model.evaluate(test_X, test_y)\n",
    "print(f\"Loss: {loss}\")\n",
    "print(f\"Accuracy: {aacuracy}\")"
   ]
  },
  {
   "cell_type": "code",
   "execution_count": 303,
   "metadata": {},
   "outputs": [
    {
     "name": "stdout",
     "output_type": "stream",
     "text": [
      "3/3 [==============================] - 0s 11ms/step\n"
     ]
    },
    {
     "data": {
      "text/plain": [
       "array([[24,  0,  0,  0],\n",
       "       [ 0, 13,  9,  2],\n",
       "       [ 0,  2, 12, 10],\n",
       "       [ 0,  2,  5, 17]], dtype=int64)"
      ]
     },
     "execution_count": 303,
     "metadata": {},
     "output_type": "execute_result"
    }
   ],
   "source": [
    "from sklearn.metrics import confusion_matrix\n",
    "predicted = model.predict(test_X)\n",
    "predicted_label = np.argmax(predicted, axis=1)\n",
    "true_label = np.argmax(test_y, axis=1)\n",
    "confusion_matrix(true_label, predicted_label)"
   ]
  }
 ],
 "metadata": {
  "interpreter": {
   "hash": "3a9dc74e55c2756006c2e3836791e686da87212d2fb823421f3744ac01945fbe"
  },
  "kernelspec": {
   "display_name": "Python 3.9.5 ('milan-env': venv)",
   "language": "python",
   "name": "python3"
  },
  "language_info": {
   "codemirror_mode": {
    "name": "ipython",
    "version": 3
   },
   "file_extension": ".py",
   "mimetype": "text/x-python",
   "name": "python",
   "nbconvert_exporter": "python",
   "pygments_lexer": "ipython3",
   "version": "3.9.5"
  },
  "orig_nbformat": 4
 },
 "nbformat": 4,
 "nbformat_minor": 2
}
