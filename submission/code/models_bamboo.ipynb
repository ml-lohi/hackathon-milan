{
 "cells": [
  {
   "cell_type": "markdown",
   "metadata": {},
   "source": [
    "# Simple CNN notebook"
   ]
  },
  {
   "cell_type": "markdown",
   "metadata": {},
   "source": [
    "## Import Libraries"
   ]
  },
  {
   "cell_type": "code",
   "execution_count": 366,
   "metadata": {},
   "outputs": [],
   "source": [
    "%matplotlib inline\n",
    "import numpy as np\n",
    "from utils.helper import read_data, blur, to_real, morphology\n",
    "import cv2\n",
    "import matplotlib.pyplot as plt\n",
    "from tensorflow import keras\n",
    "FOLDER = \"data/data_big_2/\""
   ]
  },
  {
   "cell_type": "markdown",
   "metadata": {},
   "source": [
    "## Load data"
   ]
  },
  {
   "cell_type": "code",
   "execution_count": 367,
   "metadata": {},
   "outputs": [
    {
     "name": "stdout",
     "output_type": "stream",
     "text": [
      "----------------Shapes----------------\n",
      "empty: (720, 5, 3, 64, 64)\n",
      "1p: (720, 5, 3, 64, 64)\n",
      "2p: (720, 5, 3, 64, 64)\n",
      "3p: (720, 5, 3, 64, 64)\n"
     ]
    }
   ],
   "source": [
    "data_empty = read_data(FOLDER + \"empty.csv\")\n",
    "data_1p = read_data(FOLDER + \"1p.csv\")\n",
    "data_2p = read_data(FOLDER + \"2p.csv\")\n",
    "data_3p = read_data(FOLDER + \"3p.csv\")\n",
    "print(\"----------------Shapes----------------\")\n",
    "print(\"empty:\", data_empty.shape)\n",
    "print(\"1p:\", data_1p.shape)\n",
    "print(\"2p:\", data_2p.shape)\n",
    "print(\"3p:\", data_3p.shape)\n"
   ]
  },
  {
   "cell_type": "code",
   "execution_count": 368,
   "metadata": {},
   "outputs": [
    {
     "name": "stdout",
     "output_type": "stream",
     "text": [
      "data_1p_reshaped: (180, 20, 3, 64, 64)\n",
      "data_2p_reshaped: (180, 20, 3, 64, 64)\n",
      "data_3p_reshaped: (180, 20, 3, 64, 64)\n",
      "data_empty_reshaped: (180, 20, 3, 64, 64)\n"
     ]
    }
   ],
   "source": [
    "data_1p_reshaped = data_1p.reshape(-1, 20, 3, 64, 64)\n",
    "data_2p_reshaped = data_2p.reshape(-1, 20, 3, 64, 64)\n",
    "data_3p_reshaped = data_3p.reshape(-1, 20, 3, 64, 64)\n",
    "data_empty_reshaped = data_empty.reshape(-1, 20, 3, 64, 64)\n",
    "print(f\"data_1p_reshaped: {data_1p_reshaped.shape}\")\n",
    "print(f\"data_2p_reshaped: {data_2p_reshaped.shape}\")\n",
    "print(f\"data_3p_reshaped: {data_3p_reshaped.shape}\")\n",
    "print(f\"data_empty_reshaped: {data_empty_reshaped.shape}\")\n"
   ]
  },
  {
   "cell_type": "code",
   "execution_count": 375,
   "metadata": {},
   "outputs": [
    {
     "name": "stdout",
     "output_type": "stream",
     "text": [
      "data_empty_abs: (180, 20, 3, 64, 64)\n",
      "data_1p_abs: (180, 20, 3, 64, 64)\n",
      "data_2p_abs: (180, 20, 3, 64, 64)\n",
      "data_3p_abs: (180, 20, 3, 64, 64)\n"
     ]
    }
   ],
   "source": [
    "data_empty_abs = np.abs(data_empty_reshaped)\n",
    "data_1p_abs = np.abs(data_1p_reshaped)\n",
    "data_2p_abs = np.abs(data_2p_reshaped)\n",
    "data_3p_abs = np.abs(data_3p_reshaped)\n",
    "print(f\"data_empty_abs: {data_empty_abs.shape}\")\n",
    "print(f\"data_1p_abs: {data_1p_abs.shape}\")\n",
    "print(f\"data_2p_abs: {data_2p_abs.shape}\")\n",
    "print(f\"data_3p_abs: {data_3p_abs.shape}\")\n"
   ]
  },
  {
   "cell_type": "code",
   "execution_count": 751,
   "metadata": {},
   "outputs": [],
   "source": [
    "def normalize_data(data):\n",
    "    return (data - np.min(data)) / (np.max(data) - np.min(data))\n",
    "\n",
    "\n",
    "def calculate_saliency_map_3(frames, to_morph=True):\n",
    "    \"\"\"n_frames, n_radars, 64, 64\"\"\"\n",
    "    \"\"\"new_frames = []\n",
    "    for frame in frames:\n",
    "        mean = np.mean(frame)\n",
    "        frame_new = np.where(frame > mean, frame, 0)\n",
    "        new_frames.append(frame_new)\n",
    "    new_frames = np.array(new_frames)\n",
    "    frames = new_frames\"\"\"\n",
    "    frames[:, :, 31:34, :] = 0\n",
    "    # differences = np.abs(np.diff(frames, axis=0))\n",
    "    # print(differences.shape)\n",
    "    multiplications = np.zeros((frames.shape[0] - 1, frames.shape[1], 64, 64))\n",
    "    for i in range(frames.shape[0] - 1):\n",
    "        for j in range(frames.shape[1]):\n",
    "            mult = np.multiply(frames[i, j, :, :], frames[i + 1, j, :, :])\n",
    "            multiplications[i, j, :, :] = mult\n",
    "\n",
    "    if to_morph:\n",
    "        morphology = np.zeros(multiplications.shape)\n",
    "        for i in range(multiplications.shape[0]):\n",
    "            for j in range(multiplications.shape[1]):\n",
    "                morph = cv2.morphologyEx(\n",
    "                    multiplications[i, j, :, :], cv2.MORPH_OPEN, np.ones((2, 2))\n",
    "                )\n",
    "                morphology[i, j, :, :] = morph\n",
    "        saliency_map = np.expand_dims(np.sum(morphology, axis=0), axis=0)\n",
    "    else:\n",
    "        saliency_map = np.expand_dims(np.sum(multiplications, axis=0), axis=0)\n",
    "\n",
    "    return normalize_data(saliency_map).squeeze()\n",
    "\n",
    "\n",
    "def calculate_saliency_map_1(frames, to_morph=True):\n",
    "    new_frames = []\n",
    "    for frame in frames:\n",
    "        mean = np.median(frame)\n",
    "        frame_new = np.where(frame > mean, frame, 0)\n",
    "        new_frames.append(frame_new)\n",
    "    new_frames = np.array(new_frames)\n",
    "    frames = new_frames\n",
    "    frames[:, 31:34, :] = 0\n",
    "    multiplications = []\n",
    "    for i in range(frames.shape[0] - 1):\n",
    "        multiplications.append(np.multiply(frames[i], frames[i + 1]))\n",
    "\n",
    "    multiplications = np.array(multiplications)\n",
    "    if to_morph:\n",
    "        morph = np.array(\n",
    "            [\n",
    "                cv2.morphologyEx(img, cv2.MORPH_OPEN, np.ones((5, 5)))\n",
    "                for img in multiplications\n",
    "            ]\n",
    "        )\n",
    "        saliency_map = np.expand_dims(np.sum(morph, axis=0), axis=0)\n",
    "    else:\n",
    "        saliency_map = np.expand_dims(np.sum(multiplications, axis=0), axis=0)\n",
    "\n",
    "    return normalize_data(saliency_map).squeeze()\n",
    "\n",
    "\n",
    "def derivative(frames):\n",
    "    frames[:, 31:34, :] = 0\n",
    "    img = np.sum(frames, axis=0).squeeze()\n",
    "    sobelx = cv2.Sobel(img, cv2.CV_64F, 1, 0, ksize=3)\n",
    "\n",
    "    return sobelx\n",
    "\n",
    "\n",
    "def subtract_noise(data, indices, noise):\n",
    "    data[indices]\n",
    "    pass\n",
    "\n",
    "\n",
    "def find_peaks_2d(img, r=3):\n",
    "    \n",
    "    img_new = np.zeros(img.shape)\n",
    "    for y in range(r, img.shape[0] - r + 1):\n",
    "        for x in range(r, img.shape[1] - r + 1):\n",
    "            if img[y, x] > 0.15:\n",
    "                neighboors = img[y - r : y + r + 1, x - r : x + r + 1]\n",
    "                if np.max(neighboors) == img[y, x]:\n",
    "                    img_new[y - r : y + r + 1, x - r : x + r + 1] = normalize_data(\n",
    "                        neighboors\n",
    "                    )\n",
    "    return img_new\n",
    "\n",
    "\n",
    "def find_peaks_2d_grad(img, r=11):\n",
    "    img_new = np.zeros(img.shape)\n",
    "    for y in range(r, img.shape[0] - r + 1, r//2):\n",
    "        for x in range(r, img.shape[1] - r + 1, r//2):\n",
    "            keep = True\n",
    "            substractions_old_mean = 0\n",
    "            for i in range(1, r // 2 + 1):\n",
    "                neighboors = img[y - i : y + i + 1, x - i : x + i + 1]\n",
    "                substractions = img[y, x] - neighboors\n",
    "                substractions_mean = np.mean(substractions)\n",
    "\n",
    "                if (\n",
    "                    np.sum(substractions > 0) / len(substractions) > 0.99\n",
    "                    and substractions_mean > substractions_old_mean\n",
    "                ):\n",
    "                    keep = True\n",
    "                else:\n",
    "                    keep = False\n",
    "                    break\n",
    "                substractions_old_mean = substractions_mean\n",
    "            if keep:\n",
    "                img_new[y - r : y + r + 1, x - r : x + r + 1] = normalize_data(\n",
    "                    img[y - r : y + r + 1, x - r : x + r + 1]\n",
    "                )\n",
    "    return img_new\n",
    "\n",
    "\n",
    "def easy_preprocessing(frames):\n",
    "    new_frames = []\n",
    "    for frame in frames:\n",
    "        mean = np.median(frame)\n",
    "        frame_new = np.where(frame > mean, frame, 0)\n",
    "        new_frames.append(frame_new)\n",
    "    new_frames = np.array(new_frames)\n",
    "    frames = new_frames\n",
    "    frames[:, :, 31:34, :] = 0\n",
    "    img = np.sum(frames, axis=0).squeeze()\n",
    "    img_new = np.zeros(img.shape)\n",
    "    for i in range(img.shape[0]):\n",
    "        peaks = find_peaks_2d_grad(normalize_data(img[i, :, :]))\n",
    "        img_new[\n",
    "            i, :, :\n",
    "        ] = peaks  # cv2.morphologyEx(peaks, cv2.MORPH_CLOSE, np.ones((6, 6)))\n",
    "\n",
    "    return img_new\n"
   ]
  },
  {
   "cell_type": "code",
   "execution_count": 752,
   "metadata": {},
   "outputs": [
    {
     "name": "stdout",
     "output_type": "stream",
     "text": [
      "ready\n",
      "ready\n",
      "ready\n",
      "ready\n",
      "data_empty_diffs: (180, 3, 64, 64)\n",
      "data_1p_diffs: (180, 3, 64, 64)\n",
      "data_2p_diffs: (180, 3, 64, 64)\n",
      "data_3p_diffs: (180, 3, 64, 64)\n"
     ]
    }
   ],
   "source": [
    "data_empty_diffs = np.array([easy_preprocessing(sample) for sample in data_empty_abs])\n",
    "print(\"ready\")\n",
    "data_1p_diffs = np.array([easy_preprocessing(sample) for sample in data_1p_abs])\n",
    "print(\"ready\")\n",
    "data_2p_diffs = np.array([easy_preprocessing(sample) for sample in data_2p_abs])\n",
    "print(\"ready\")\n",
    "data_3p_diffs = np.array([easy_preprocessing(sample) for sample in data_3p_abs])\n",
    "print(\"ready\")\n",
    "\n",
    "print(f\"data_empty_diffs: {data_empty_diffs.shape}\")\n",
    "print(f\"data_1p_diffs: {data_1p_diffs.shape}\")\n",
    "print(f\"data_2p_diffs: {data_2p_diffs.shape}\")\n",
    "print(f\"data_3p_diffs: {data_3p_diffs.shape}\")\n"
   ]
  },
  {
   "cell_type": "code",
   "execution_count": 772,
   "metadata": {},
   "outputs": [
    {
     "data": {
      "text/plain": [
       "<matplotlib.image.AxesImage at 0x26be728ff10>"
      ]
     },
     "execution_count": 772,
     "metadata": {},
     "output_type": "execute_result"
    },
    {
     "data": {
      "image/png": "[encoded data removed]",
      "text/plain": [
       "<Figure size 1080x360 with 3 Axes>"
      ]
     },
     "metadata": {
      "needs_background": "light"
     },
     "output_type": "display_data"
    }
   ],
   "source": [
    "##### plot random sample\n",
    "random_sample = np.random.randint(0, data_empty_diffs.shape[0])\n",
    "fig, ax = plt.subplots(1, 3, figsize=(15, 5))\n",
    "plot_sample = data_1p_diffs.copy()\n",
    "ax[0].imshow(plot_sample[random_sample, 0, :, :])\n",
    "ax[1].imshow(plot_sample[random_sample, 1, :, :])\n",
    "ax[2].imshow(plot_sample[random_sample, 2, :, :])\n"
   ]
  },
  {
   "cell_type": "code",
   "execution_count": 555,
   "metadata": {},
   "outputs": [
    {
     "name": "stdout",
     "output_type": "stream",
     "text": [
      "(180, 64, 64, 3)\n",
      "(180, 64, 64, 3)\n",
      "(180, 64, 64, 3)\n",
      "(180, 64, 64, 3)\n"
     ]
    }
   ],
   "source": [
    "data_0 = np.moveaxis(data_empty_diffs, 1, 3)\n",
    "data_1 = np.moveaxis(data_1p_diffs, 1, 3)\n",
    "data_2 = np.moveaxis(data_2p_diffs, 1, 3)\n",
    "data_3 = np.moveaxis(data_3p_diffs, 1, 3)\n",
    "print(data_0.shape)\n",
    "print(data_1.shape)\n",
    "print(data_2.shape)\n",
    "print(data_3.shape)\n",
    "# data_0 = data_empty_diffs\n",
    "# data_1 = data_1p_diffs\n",
    "# data_2 = data_2p_diffs\n",
    "# data_3 = data_3p_diffs\n",
    "# print(data_0.shape)\n",
    "# print(data_1.shape)\n",
    "# print(data_2.shape)\n",
    "# print(data_3.shape)\n"
   ]
  },
  {
   "cell_type": "code",
   "execution_count": 556,
   "metadata": {},
   "outputs": [
    {
     "data": {
      "text/plain": [
       "(720, 64, 64, 3)"
      ]
     },
     "execution_count": 556,
     "metadata": {},
     "output_type": "execute_result"
    }
   ],
   "source": [
    "data_tot = np.concatenate((data_0, data_1, data_2, data_3), axis=0)\n",
    "data_tot.shape\n"
   ]
  },
  {
   "cell_type": "markdown",
   "metadata": {},
   "source": [
    "### Create Labels"
   ]
  },
  {
   "cell_type": "code",
   "execution_count": 557,
   "metadata": {},
   "outputs": [
    {
     "name": "stdout",
     "output_type": "stream",
     "text": [
      "Labels shape: (720,)\n"
     ]
    }
   ],
   "source": [
    "labels_empty = np.zeros(data_0.shape[0])\n",
    "labels_1p = np.ones(data_1.shape[0])\n",
    "labels_2p = np.ones(data_2.shape[0]) * 2\n",
    "labels_3p = np.ones(data_3.shape[0]) * 3\n",
    "labels = np.concatenate((labels_empty, labels_1p, labels_2p, labels_3p), axis=0)\n",
    "print(\"Labels shape:\", labels.shape)\n"
   ]
  },
  {
   "cell_type": "code",
   "execution_count": 558,
   "metadata": {},
   "outputs": [
    {
     "name": "stdout",
     "output_type": "stream",
     "text": [
      "Labels abels one hot shape: (720, 4)\n"
     ]
    }
   ],
   "source": [
    "train_labels_one_hot = np.eye(4)[labels.astype(int)]\n",
    "print(\"Labels abels one hot shape:\", train_labels_one_hot.shape)\n"
   ]
  },
  {
   "cell_type": "code",
   "execution_count": 559,
   "metadata": {},
   "outputs": [
    {
     "name": "stdout",
     "output_type": "stream",
     "text": [
      "Shape train_X: (648, 64, 64, 3)\n",
      "Shape test_X: (72, 64, 64, 3)\n",
      "Shape train_y: (648, 4)\n",
      "Shape test_y: (72, 4)\n"
     ]
    }
   ],
   "source": [
    "from sklearn.model_selection import train_test_split\n",
    "\n",
    "train_X, test_X, train_y, test_y = train_test_split(\n",
    "    data_tot, train_labels_one_hot, test_size=0.1, stratify=labels\n",
    ")\n",
    "print(f\"Shape train_X: {train_X.shape}\")\n",
    "print(f\"Shape test_X: {test_X.shape}\")\n",
    "print(f\"Shape train_y: {train_y.shape}\")\n",
    "print(f\"Shape test_y: {test_y.shape}\")\n"
   ]
  },
  {
   "cell_type": "code",
   "execution_count": 560,
   "metadata": {},
   "outputs": [
    {
     "name": "stdout",
     "output_type": "stream",
     "text": [
      "Model: \"sequential_31\"\n",
      "_________________________________________________________________\n",
      " Layer (type)                Output Shape              Param #   \n",
      "=================================================================\n",
      " conv2d_119 (Conv2D)         (None, 64, 64, 4)         304       \n",
      "                                                                 \n",
      " max_pooling2d_119 (MaxPooli  (None, 32, 32, 4)        0         \n",
      " ng2D)                                                           \n",
      "                                                                 \n",
      " conv2d_120 (Conv2D)         (None, 32, 32, 4)         148       \n",
      "                                                                 \n",
      " max_pooling2d_120 (MaxPooli  (None, 16, 16, 4)        0         \n",
      " ng2D)                                                           \n",
      "                                                                 \n",
      " conv2d_121 (Conv2D)         (None, 16, 16, 4)         148       \n",
      "                                                                 \n",
      " max_pooling2d_121 (MaxPooli  (None, 8, 8, 4)          0         \n",
      " ng2D)                                                           \n",
      "                                                                 \n",
      " conv2d_122 (Conv2D)         (None, 8, 8, 2)           74        \n",
      "                                                                 \n",
      " max_pooling2d_122 (MaxPooli  (None, 4, 4, 2)          0         \n",
      " ng2D)                                                           \n",
      "                                                                 \n",
      " flatten_31 (Flatten)        (None, 32)                0         \n",
      "                                                                 \n",
      " dense_31 (Dense)            (None, 4)                 132       \n",
      "                                                                 \n",
      " activation_31 (Activation)  (None, 4)                 0         \n",
      "                                                                 \n",
      "=================================================================\n",
      "Total params: 806\n",
      "Trainable params: 806\n",
      "Non-trainable params: 0\n",
      "_________________________________________________________________\n",
      "None\n"
     ]
    }
   ],
   "source": [
    "models = keras.models\n",
    "layers = keras.layers\n",
    "\n",
    "model = models.Sequential(\n",
    "    [\n",
    "        layers.Conv2D(\n",
    "            4, input_shape=(64, 64, 3), kernel_size=5, padding=\"same\", activation=\"relu\"\n",
    "        ),\n",
    "        layers.MaxPooling2D(2, strides=None, padding=\"valid\"),\n",
    "        layers.Conv2D(\n",
    "            4,\n",
    "            #   input_shape = (32,32, 1),\n",
    "            kernel_size=3,\n",
    "            padding=\"same\",\n",
    "            activation=\"relu\",\n",
    "        ),\n",
    "        layers.MaxPooling2D(2, strides=None, padding=\"valid\"),\n",
    "        layers.Conv2D(\n",
    "            4,\n",
    "            #   input_shape = (32,32, 1),\n",
    "            kernel_size=3,\n",
    "            padding=\"same\",\n",
    "            activation=\"relu\",\n",
    "        ),\n",
    "        layers.MaxPooling2D(2, strides=None, padding=\"valid\"),\n",
    "        layers.Conv2D(\n",
    "            2,\n",
    "            #   input_shape = (32,32, 1),\n",
    "            kernel_size=3,\n",
    "            padding=\"same\",\n",
    "            activation=\"relu\",\n",
    "        ),\n",
    "        layers.MaxPooling2D(2, strides=None, padding=\"valid\"),\n",
    "        layers.Flatten(),\n",
    "        layers.Dense(4),\n",
    "        layers.Activation(\"softmax\"),\n",
    "    ]\n",
    ")\n",
    "print(model.summary())\n"
   ]
  },
  {
   "cell_type": "code",
   "execution_count": 561,
   "metadata": {},
   "outputs": [
    {
     "name": "stdout",
     "output_type": "stream",
     "text": [
      "Epoch 1/1000\n",
      "19/19 [==============================] - 1s 45ms/step - loss: 1.2820 - accuracy: 0.2796 - val_loss: 1.1202 - val_accuracy: 0.4000\n",
      "Epoch 2/1000\n",
      "19/19 [==============================] - 1s 36ms/step - loss: 1.1559 - accuracy: 0.3859 - val_loss: 1.0533 - val_accuracy: 0.5385\n",
      "Epoch 3/1000\n",
      "19/19 [==============================] - 1s 37ms/step - loss: 1.0923 - accuracy: 0.5026 - val_loss: 0.9987 - val_accuracy: 0.5692\n",
      "Epoch 4/1000\n",
      "19/19 [==============================] - 1s 36ms/step - loss: 1.0449 - accuracy: 0.5043 - val_loss: 0.9650 - val_accuracy: 0.5846\n",
      "Epoch 5/1000\n",
      "19/19 [==============================] - 1s 35ms/step - loss: 1.0027 - accuracy: 0.5111 - val_loss: 0.9316 - val_accuracy: 0.5692\n",
      "Epoch 6/1000\n",
      "19/19 [==============================] - 1s 39ms/step - loss: 0.9532 - accuracy: 0.5334 - val_loss: 0.8926 - val_accuracy: 0.5846\n",
      "Epoch 7/1000\n",
      "19/19 [==============================] - 1s 37ms/step - loss: 0.8875 - accuracy: 0.5695 - val_loss: 0.8443 - val_accuracy: 0.5846\n",
      "Epoch 8/1000\n",
      "19/19 [==============================] - 1s 35ms/step - loss: 0.8075 - accuracy: 0.6278 - val_loss: 0.8044 - val_accuracy: 0.7077\n",
      "Epoch 9/1000\n",
      "19/19 [==============================] - 1s 37ms/step - loss: 0.7507 - accuracy: 0.6364 - val_loss: 0.7942 - val_accuracy: 0.6615\n",
      "Epoch 10/1000\n",
      "19/19 [==============================] - 1s 38ms/step - loss: 0.7108 - accuracy: 0.6655 - val_loss: 0.7958 - val_accuracy: 0.6154\n",
      "Epoch 11/1000\n",
      "19/19 [==============================] - 1s 38ms/step - loss: 0.6810 - accuracy: 0.6484 - val_loss: 0.7986 - val_accuracy: 0.6615\n",
      "Epoch 12/1000\n",
      "19/19 [==============================] - 1s 36ms/step - loss: 0.6599 - accuracy: 0.6930 - val_loss: 0.7993 - val_accuracy: 0.6923\n",
      "Epoch 13/1000\n",
      "19/19 [==============================] - 1s 36ms/step - loss: 0.6422 - accuracy: 0.6895 - val_loss: 0.7997 - val_accuracy: 0.7077\n",
      "Epoch 14/1000\n",
      "19/19 [==============================] - 1s 35ms/step - loss: 0.6407 - accuracy: 0.6930 - val_loss: 0.7796 - val_accuracy: 0.7077\n",
      "Epoch 15/1000\n",
      "19/19 [==============================] - 1s 38ms/step - loss: 0.6181 - accuracy: 0.6895 - val_loss: 0.7800 - val_accuracy: 0.7077\n",
      "Epoch 16/1000\n",
      "19/19 [==============================] - 1s 48ms/step - loss: 0.6026 - accuracy: 0.7153 - val_loss: 0.7539 - val_accuracy: 0.6923\n",
      "Epoch 17/1000\n",
      "19/19 [==============================] - 1s 49ms/step - loss: 0.5862 - accuracy: 0.7273 - val_loss: 0.7763 - val_accuracy: 0.6462\n",
      "Epoch 18/1000\n",
      "19/19 [==============================] - 1s 47ms/step - loss: 0.5740 - accuracy: 0.7393 - val_loss: 0.7369 - val_accuracy: 0.7077\n",
      "Epoch 19/1000\n",
      "19/19 [==============================] - 1s 47ms/step - loss: 0.5619 - accuracy: 0.7461 - val_loss: 0.7360 - val_accuracy: 0.6769\n",
      "Epoch 20/1000\n",
      "19/19 [==============================] - 1s 47ms/step - loss: 0.5446 - accuracy: 0.7564 - val_loss: 0.7260 - val_accuracy: 0.7077\n",
      "Epoch 21/1000\n",
      "19/19 [==============================] - 1s 49ms/step - loss: 0.5382 - accuracy: 0.7633 - val_loss: 0.7233 - val_accuracy: 0.7385\n",
      "Epoch 22/1000\n",
      "19/19 [==============================] - 1s 45ms/step - loss: 0.5240 - accuracy: 0.7719 - val_loss: 0.7179 - val_accuracy: 0.7077\n",
      "Epoch 23/1000\n",
      "19/19 [==============================] - 1s 44ms/step - loss: 0.5214 - accuracy: 0.7804 - val_loss: 0.6967 - val_accuracy: 0.7538\n",
      "Epoch 24/1000\n",
      "19/19 [==============================] - 1s 52ms/step - loss: 0.5225 - accuracy: 0.7530 - val_loss: 0.6854 - val_accuracy: 0.7538\n",
      "Epoch 25/1000\n",
      "19/19 [==============================] - 1s 45ms/step - loss: 0.5067 - accuracy: 0.7822 - val_loss: 0.7332 - val_accuracy: 0.6923\n",
      "Epoch 26/1000\n",
      "19/19 [==============================] - 1s 44ms/step - loss: 0.4981 - accuracy: 0.7804 - val_loss: 0.6688 - val_accuracy: 0.7385\n",
      "Epoch 27/1000\n",
      "19/19 [==============================] - 1s 46ms/step - loss: 0.4869 - accuracy: 0.7942 - val_loss: 0.6619 - val_accuracy: 0.7846\n",
      "Epoch 28/1000\n",
      "19/19 [==============================] - 1s 46ms/step - loss: 0.4797 - accuracy: 0.7890 - val_loss: 0.6681 - val_accuracy: 0.7538\n",
      "Epoch 29/1000\n",
      "19/19 [==============================] - 1s 44ms/step - loss: 0.4748 - accuracy: 0.7873 - val_loss: 0.6903 - val_accuracy: 0.7538\n",
      "Epoch 30/1000\n",
      "19/19 [==============================] - 1s 43ms/step - loss: 0.4970 - accuracy: 0.7873 - val_loss: 0.6714 - val_accuracy: 0.7385\n",
      "Epoch 31/1000\n",
      "19/19 [==============================] - 1s 44ms/step - loss: 0.5091 - accuracy: 0.7873 - val_loss: 0.6414 - val_accuracy: 0.7231\n",
      "Epoch 32/1000\n",
      "19/19 [==============================] - 1s 44ms/step - loss: 0.4583 - accuracy: 0.7890 - val_loss: 0.6293 - val_accuracy: 0.8000\n",
      "Epoch 33/1000\n",
      "19/19 [==============================] - 1s 46ms/step - loss: 0.4449 - accuracy: 0.7993 - val_loss: 0.6215 - val_accuracy: 0.7538\n",
      "Epoch 34/1000\n",
      "19/19 [==============================] - 1s 44ms/step - loss: 0.4424 - accuracy: 0.7993 - val_loss: 0.6168 - val_accuracy: 0.7846\n",
      "Epoch 35/1000\n",
      "19/19 [==============================] - 1s 43ms/step - loss: 0.4482 - accuracy: 0.7890 - val_loss: 0.6240 - val_accuracy: 0.7846\n",
      "Epoch 36/1000\n",
      "19/19 [==============================] - 1s 44ms/step - loss: 0.4396 - accuracy: 0.8165 - val_loss: 0.6306 - val_accuracy: 0.7692\n",
      "Epoch 37/1000\n",
      "19/19 [==============================] - 1s 43ms/step - loss: 0.4418 - accuracy: 0.7959 - val_loss: 0.5988 - val_accuracy: 0.7538\n",
      "Epoch 38/1000\n",
      "19/19 [==============================] - 1s 51ms/step - loss: 0.4353 - accuracy: 0.8130 - val_loss: 0.5848 - val_accuracy: 0.7846\n",
      "Epoch 39/1000\n",
      "19/19 [==============================] - 1s 45ms/step - loss: 0.4247 - accuracy: 0.8165 - val_loss: 0.6653 - val_accuracy: 0.7385\n",
      "Epoch 40/1000\n",
      "19/19 [==============================] - 1s 47ms/step - loss: 0.4509 - accuracy: 0.8045 - val_loss: 0.6102 - val_accuracy: 0.7538\n",
      "Epoch 41/1000\n",
      "19/19 [==============================] - 1s 44ms/step - loss: 0.4246 - accuracy: 0.8250 - val_loss: 0.5899 - val_accuracy: 0.7692\n",
      "Epoch 42/1000\n",
      "19/19 [==============================] - 1s 44ms/step - loss: 0.4194 - accuracy: 0.8216 - val_loss: 0.5914 - val_accuracy: 0.7846\n",
      "Epoch 43/1000\n",
      "19/19 [==============================] - 1s 43ms/step - loss: 0.4075 - accuracy: 0.8079 - val_loss: 0.5923 - val_accuracy: 0.7846\n",
      "Epoch 44/1000\n",
      "19/19 [==============================] - 1s 44ms/step - loss: 0.4062 - accuracy: 0.8233 - val_loss: 0.6179 - val_accuracy: 0.7692\n",
      "Epoch 45/1000\n",
      "19/19 [==============================] - 1s 44ms/step - loss: 0.4113 - accuracy: 0.8268 - val_loss: 0.5904 - val_accuracy: 0.7692\n",
      "Epoch 46/1000\n",
      "19/19 [==============================] - 1s 45ms/step - loss: 0.4000 - accuracy: 0.8216 - val_loss: 0.6231 - val_accuracy: 0.7538\n",
      "Epoch 47/1000\n",
      "19/19 [==============================] - 1s 44ms/step - loss: 0.4031 - accuracy: 0.8130 - val_loss: 0.5970 - val_accuracy: 0.7385\n",
      "Epoch 48/1000\n",
      "19/19 [==============================] - 1s 43ms/step - loss: 0.4034 - accuracy: 0.8233 - val_loss: 0.5988 - val_accuracy: 0.7538\n"
     ]
    },
    {
     "name": "stderr",
     "output_type": "stream",
     "text": [
      "WARNING:absl:Found untraced functions such as _jit_compiled_convolution_op, _jit_compiled_convolution_op, _jit_compiled_convolution_op, _jit_compiled_convolution_op while saving (showing 4 of 4). These functions will not be directly callable after loading.\n"
     ]
    },
    {
     "name": "stdout",
     "output_type": "stream",
     "text": [
      "INFO:tensorflow:Assets written to: models/CNN_Sobol\\assets\n"
     ]
    },
    {
     "name": "stderr",
     "output_type": "stream",
     "text": [
      "INFO:tensorflow:Assets written to: models/CNN_Sobol\\assets\n"
     ]
    }
   ],
   "source": [
    "model.compile(\n",
    "    loss=\"categorical_crossentropy\",\n",
    "    optimizer=keras.optimizers.Adam(learning_rate=0.001),\n",
    "    metrics=[\"accuracy\"],\n",
    ")\n",
    "\n",
    "model.fit(\n",
    "    train_X,\n",
    "    train_y,\n",
    "    epochs=1000,\n",
    "    verbose=1,\n",
    "    validation_split=0.1,\n",
    "    shuffle=True,\n",
    "    callbacks=keras.callbacks.EarlyStopping(patience=10),\n",
    ")\n",
    "\n",
    "model.save(\"models/CNN_Sobol\")\n"
   ]
  },
  {
   "cell_type": "code",
   "execution_count": 562,
   "metadata": {},
   "outputs": [
    {
     "name": "stdout",
     "output_type": "stream",
     "text": [
      "3/3 [==============================] - 0s 9ms/step - loss: 0.8403 - accuracy: 0.6806\n",
      "Loss: 0.8403193950653076\n",
      "Accuracy: 0.6805555820465088\n"
     ]
    }
   ],
   "source": [
    "loss, aacuracy = model.evaluate(test_X, test_y)\n",
    "print(f\"Loss: {loss}\")\n",
    "print(f\"Accuracy: {aacuracy}\")\n"
   ]
  },
  {
   "cell_type": "code",
   "execution_count": 563,
   "metadata": {},
   "outputs": [
    {
     "name": "stdout",
     "output_type": "stream",
     "text": [
      "3/3 [==============================] - 0s 8ms/step\n"
     ]
    },
    {
     "data": {
      "text/plain": [
       "array([[18,  0,  0,  0],\n",
       "       [ 1, 12,  3,  2],\n",
       "       [ 0,  7,  6,  5],\n",
       "       [ 0,  0,  5, 13]], dtype=int64)"
      ]
     },
     "execution_count": 563,
     "metadata": {},
     "output_type": "execute_result"
    }
   ],
   "source": [
    "from sklearn.metrics import confusion_matrix\n",
    "\n",
    "predicted = model.predict(test_X)\n",
    "predicted_label = np.argmax(predicted, axis=1)\n",
    "true_label = np.argmax(test_y, axis=1)\n",
    "confusion_matrix(true_label, predicted_label)\n"
   ]
  }
 ],
 "metadata": {
  "interpreter": {
   "hash": "3a9dc74e55c2756006c2e3836791e686da87212d2fb823421f3744ac01945fbe"
  },
  "kernelspec": {
   "display_name": "Python 3.9.5 ('milan-env': venv)",
   "language": "python",
   "name": "python3"
  },
  "language_info": {
   "codemirror_mode": {
    "name": "ipython",
    "version": 3
   },
   "file_extension": ".py",
   "mimetype": "text/x-python",
   "name": "python",
   "nbconvert_exporter": "python",
   "pygments_lexer": "ipython3",
   "version": "3.9.5"
  },
  "orig_nbformat": 4
 },
 "nbformat": 4,
 "nbformat_minor": 2
}
